{
  "nbformat": 4,
  "nbformat_minor": 0,
  "metadata": {
    "colab": {
      "provenance": []
    },
    "kernelspec": {
      "name": "python3",
      "display_name": "Python 3"
    },
    "language_info": {
      "name": "python"
    }
  },
  "cells": [
    {
      "cell_type": "code",
      "execution_count": 1,
      "metadata": {
        "id": "TS_baOolrZpN"
      },
      "outputs": [],
      "source": [
        "import pandas as pd"
      ]
    },
    {
      "cell_type": "code",
      "source": [
        "import numpy as np"
      ],
      "metadata": {
        "id": "QHi6-Ht6rilU"
      },
      "execution_count": 2,
      "outputs": []
    },
    {
      "cell_type": "code",
      "source": [
        "df = pd.read_csv('https://raw.githubusercontent.com/YBIFoundation/Dataset/main/Movies%20Recommendation.csv')"
      ],
      "metadata": {
        "id": "hpmgnNUPrpww"
      },
      "execution_count": 4,
      "outputs": []
    },
    {
      "cell_type": "code",
      "source": [
        "df.head()"
      ],
      "metadata": {
        "colab": {
          "base_uri": "https://localhost:8080/",
          "height": 654
        },
        "id": "QBAzc3pctHyf",
        "outputId": "1474cee6-c768-4469-f704-69df367fad35"
      },
      "execution_count": 5,
      "outputs": [
        {
          "output_type": "execute_result",
          "data": {
            "text/plain": [
              "   Movie_ID      Movie_Title                       Movie_Genre Movie_Language  \\\n",
              "0         1       Four Rooms                      Crime Comedy             en   \n",
              "1         2        Star Wars  Adventure Action Science Fiction             en   \n",
              "2         3     Finding Nemo                  Animation Family             en   \n",
              "3         4     Forrest Gump              Comedy Drama Romance             en   \n",
              "4         5  American Beauty                             Drama             en   \n",
              "\n",
              "   Movie_Budget  Movie_Popularity Movie_Release_Date  Movie_Revenue  \\\n",
              "0       4000000         22.876230         09-12-1995        4300000   \n",
              "1      11000000        126.393695         25-05-1977      775398007   \n",
              "2      94000000         85.688789         30-05-2003      940335536   \n",
              "3      55000000        138.133331         06-07-1994      677945399   \n",
              "4      15000000         80.878605         15-09-1999      356296601   \n",
              "\n",
              "   Movie_Runtime  Movie_Vote  ...  \\\n",
              "0           98.0         6.5  ...   \n",
              "1          121.0         8.1  ...   \n",
              "2          100.0         7.6  ...   \n",
              "3          142.0         8.2  ...   \n",
              "4          122.0         7.9  ...   \n",
              "\n",
              "                                      Movie_Homepage  \\\n",
              "0                                                NaN   \n",
              "1  http://www.starwars.com/films/star-wars-episod...   \n",
              "2              http://movies.disney.com/finding-nemo   \n",
              "3                                                NaN   \n",
              "4                      http://www.dreamworks.com/ab/   \n",
              "\n",
              "                                      Movie_Keywords  \\\n",
              "0          hotel new year's eve witch bet hotel room   \n",
              "1        android galaxy hermit death star lightsaber   \n",
              "2  father son relationship harbor underwater fish...   \n",
              "3  vietnam veteran hippie mentally disabled runni...   \n",
              "4  male nudity female nudity adultery midlife cri...   \n",
              "\n",
              "                                      Movie_Overview  \\\n",
              "0  It's Ted the Bellhop's first night on the job....   \n",
              "1  Princess Leia is captured and held hostage by ...   \n",
              "2  Nemo, an adventurous young clownfish, is unexp...   \n",
              "3  A man with a low IQ has accomplished great thi...   \n",
              "4  Lester Burnham, a depressed suburban father in...   \n",
              "\n",
              "                              Movie_Production_House  \\\n",
              "0  [{\"name\": \"Miramax Films\", \"id\": 14}, {\"name\":...   \n",
              "1  [{\"name\": \"Lucasfilm\", \"id\": 1}, {\"name\": \"Twe...   \n",
              "2     [{\"name\": \"Pixar Animation Studios\", \"id\": 3}]   \n",
              "3          [{\"name\": \"Paramount Pictures\", \"id\": 4}]   \n",
              "4  [{\"name\": \"DreamWorks SKG\", \"id\": 27}, {\"name\"...   \n",
              "\n",
              "                            Movie_Production_Country  \\\n",
              "0  [{\"iso_3166_1\": \"US\", \"name\": \"United States o...   \n",
              "1  [{\"iso_3166_1\": \"US\", \"name\": \"United States o...   \n",
              "2  [{\"iso_3166_1\": \"US\", \"name\": \"United States o...   \n",
              "3  [{\"iso_3166_1\": \"US\", \"name\": \"United States o...   \n",
              "4  [{\"iso_3166_1\": \"US\", \"name\": \"United States o...   \n",
              "\n",
              "                      Movie_Spoken_Language  \\\n",
              "0  [{\"iso_639_1\": \"en\", \"name\": \"English\"}]   \n",
              "1  [{\"iso_639_1\": \"en\", \"name\": \"English\"}]   \n",
              "2  [{\"iso_639_1\": \"en\", \"name\": \"English\"}]   \n",
              "3  [{\"iso_639_1\": \"en\", \"name\": \"English\"}]   \n",
              "4  [{\"iso_639_1\": \"en\", \"name\": \"English\"}]   \n",
              "\n",
              "                                       Movie_Tagline  \\\n",
              "0  Twelve outrageous guests. Four scandalous requ...   \n",
              "1       A long time ago in a galaxy far, far away...   \n",
              "2  There are 3.7 trillion fish in the ocean, they...   \n",
              "3  The world will never be the same, once you've ...   \n",
              "4                                       Look closer.   \n",
              "\n",
              "                                          Movie_Cast  \\\n",
              "0  Tim Roth Antonio Banderas Jennifer Beals Madon...   \n",
              "1  Mark Hamill Harrison Ford Carrie Fisher Peter ...   \n",
              "2  Albert Brooks Ellen DeGeneres Alexander Gould ...   \n",
              "3  Tom Hanks Robin Wright Gary Sinise Mykelti Wil...   \n",
              "4  Kevin Spacey Annette Bening Thora Birch Wes Be...   \n",
              "\n",
              "                                          Movie_Crew   Movie_Director  \n",
              "0  [{'name': 'Allison Anders', 'gender': 1, 'depa...   Allison Anders  \n",
              "1  [{'name': 'George Lucas', 'gender': 2, 'depart...     George Lucas  \n",
              "2  [{'name': 'Andrew Stanton', 'gender': 2, 'depa...   Andrew Stanton  \n",
              "3  [{'name': 'Alan Silvestri', 'gender': 2, 'depa...  Robert Zemeckis  \n",
              "4  [{'name': 'Thomas Newman', 'gender': 2, 'depar...       Sam Mendes  \n",
              "\n",
              "[5 rows x 21 columns]"
            ],
            "text/html": [
              "\n",
              "  <div id=\"df-23171ba3-35bf-4f60-b87b-a77b4a1fa4dd\" class=\"colab-df-container\">\n",
              "    <div>\n",
              "<style scoped>\n",
              "    .dataframe tbody tr th:only-of-type {\n",
              "        vertical-align: middle;\n",
              "    }\n",
              "\n",
              "    .dataframe tbody tr th {\n",
              "        vertical-align: top;\n",
              "    }\n",
              "\n",
              "    .dataframe thead th {\n",
              "        text-align: right;\n",
              "    }\n",
              "</style>\n",
              "<table border=\"1\" class=\"dataframe\">\n",
              "  <thead>\n",
              "    <tr style=\"text-align: right;\">\n",
              "      <th></th>\n",
              "      <th>Movie_ID</th>\n",
              "      <th>Movie_Title</th>\n",
              "      <th>Movie_Genre</th>\n",
              "      <th>Movie_Language</th>\n",
              "      <th>Movie_Budget</th>\n",
              "      <th>Movie_Popularity</th>\n",
              "      <th>Movie_Release_Date</th>\n",
              "      <th>Movie_Revenue</th>\n",
              "      <th>Movie_Runtime</th>\n",
              "      <th>Movie_Vote</th>\n",
              "      <th>...</th>\n",
              "      <th>Movie_Homepage</th>\n",
              "      <th>Movie_Keywords</th>\n",
              "      <th>Movie_Overview</th>\n",
              "      <th>Movie_Production_House</th>\n",
              "      <th>Movie_Production_Country</th>\n",
              "      <th>Movie_Spoken_Language</th>\n",
              "      <th>Movie_Tagline</th>\n",
              "      <th>Movie_Cast</th>\n",
              "      <th>Movie_Crew</th>\n",
              "      <th>Movie_Director</th>\n",
              "    </tr>\n",
              "  </thead>\n",
              "  <tbody>\n",
              "    <tr>\n",
              "      <th>0</th>\n",
              "      <td>1</td>\n",
              "      <td>Four Rooms</td>\n",
              "      <td>Crime Comedy</td>\n",
              "      <td>en</td>\n",
              "      <td>4000000</td>\n",
              "      <td>22.876230</td>\n",
              "      <td>09-12-1995</td>\n",
              "      <td>4300000</td>\n",
              "      <td>98.0</td>\n",
              "      <td>6.5</td>\n",
              "      <td>...</td>\n",
              "      <td>NaN</td>\n",
              "      <td>hotel new year's eve witch bet hotel room</td>\n",
              "      <td>It's Ted the Bellhop's first night on the job....</td>\n",
              "      <td>[{\"name\": \"Miramax Films\", \"id\": 14}, {\"name\":...</td>\n",
              "      <td>[{\"iso_3166_1\": \"US\", \"name\": \"United States o...</td>\n",
              "      <td>[{\"iso_639_1\": \"en\", \"name\": \"English\"}]</td>\n",
              "      <td>Twelve outrageous guests. Four scandalous requ...</td>\n",
              "      <td>Tim Roth Antonio Banderas Jennifer Beals Madon...</td>\n",
              "      <td>[{'name': 'Allison Anders', 'gender': 1, 'depa...</td>\n",
              "      <td>Allison Anders</td>\n",
              "    </tr>\n",
              "    <tr>\n",
              "      <th>1</th>\n",
              "      <td>2</td>\n",
              "      <td>Star Wars</td>\n",
              "      <td>Adventure Action Science Fiction</td>\n",
              "      <td>en</td>\n",
              "      <td>11000000</td>\n",
              "      <td>126.393695</td>\n",
              "      <td>25-05-1977</td>\n",
              "      <td>775398007</td>\n",
              "      <td>121.0</td>\n",
              "      <td>8.1</td>\n",
              "      <td>...</td>\n",
              "      <td>http://www.starwars.com/films/star-wars-episod...</td>\n",
              "      <td>android galaxy hermit death star lightsaber</td>\n",
              "      <td>Princess Leia is captured and held hostage by ...</td>\n",
              "      <td>[{\"name\": \"Lucasfilm\", \"id\": 1}, {\"name\": \"Twe...</td>\n",
              "      <td>[{\"iso_3166_1\": \"US\", \"name\": \"United States o...</td>\n",
              "      <td>[{\"iso_639_1\": \"en\", \"name\": \"English\"}]</td>\n",
              "      <td>A long time ago in a galaxy far, far away...</td>\n",
              "      <td>Mark Hamill Harrison Ford Carrie Fisher Peter ...</td>\n",
              "      <td>[{'name': 'George Lucas', 'gender': 2, 'depart...</td>\n",
              "      <td>George Lucas</td>\n",
              "    </tr>\n",
              "    <tr>\n",
              "      <th>2</th>\n",
              "      <td>3</td>\n",
              "      <td>Finding Nemo</td>\n",
              "      <td>Animation Family</td>\n",
              "      <td>en</td>\n",
              "      <td>94000000</td>\n",
              "      <td>85.688789</td>\n",
              "      <td>30-05-2003</td>\n",
              "      <td>940335536</td>\n",
              "      <td>100.0</td>\n",
              "      <td>7.6</td>\n",
              "      <td>...</td>\n",
              "      <td>http://movies.disney.com/finding-nemo</td>\n",
              "      <td>father son relationship harbor underwater fish...</td>\n",
              "      <td>Nemo, an adventurous young clownfish, is unexp...</td>\n",
              "      <td>[{\"name\": \"Pixar Animation Studios\", \"id\": 3}]</td>\n",
              "      <td>[{\"iso_3166_1\": \"US\", \"name\": \"United States o...</td>\n",
              "      <td>[{\"iso_639_1\": \"en\", \"name\": \"English\"}]</td>\n",
              "      <td>There are 3.7 trillion fish in the ocean, they...</td>\n",
              "      <td>Albert Brooks Ellen DeGeneres Alexander Gould ...</td>\n",
              "      <td>[{'name': 'Andrew Stanton', 'gender': 2, 'depa...</td>\n",
              "      <td>Andrew Stanton</td>\n",
              "    </tr>\n",
              "    <tr>\n",
              "      <th>3</th>\n",
              "      <td>4</td>\n",
              "      <td>Forrest Gump</td>\n",
              "      <td>Comedy Drama Romance</td>\n",
              "      <td>en</td>\n",
              "      <td>55000000</td>\n",
              "      <td>138.133331</td>\n",
              "      <td>06-07-1994</td>\n",
              "      <td>677945399</td>\n",
              "      <td>142.0</td>\n",
              "      <td>8.2</td>\n",
              "      <td>...</td>\n",
              "      <td>NaN</td>\n",
              "      <td>vietnam veteran hippie mentally disabled runni...</td>\n",
              "      <td>A man with a low IQ has accomplished great thi...</td>\n",
              "      <td>[{\"name\": \"Paramount Pictures\", \"id\": 4}]</td>\n",
              "      <td>[{\"iso_3166_1\": \"US\", \"name\": \"United States o...</td>\n",
              "      <td>[{\"iso_639_1\": \"en\", \"name\": \"English\"}]</td>\n",
              "      <td>The world will never be the same, once you've ...</td>\n",
              "      <td>Tom Hanks Robin Wright Gary Sinise Mykelti Wil...</td>\n",
              "      <td>[{'name': 'Alan Silvestri', 'gender': 2, 'depa...</td>\n",
              "      <td>Robert Zemeckis</td>\n",
              "    </tr>\n",
              "    <tr>\n",
              "      <th>4</th>\n",
              "      <td>5</td>\n",
              "      <td>American Beauty</td>\n",
              "      <td>Drama</td>\n",
              "      <td>en</td>\n",
              "      <td>15000000</td>\n",
              "      <td>80.878605</td>\n",
              "      <td>15-09-1999</td>\n",
              "      <td>356296601</td>\n",
              "      <td>122.0</td>\n",
              "      <td>7.9</td>\n",
              "      <td>...</td>\n",
              "      <td>http://www.dreamworks.com/ab/</td>\n",
              "      <td>male nudity female nudity adultery midlife cri...</td>\n",
              "      <td>Lester Burnham, a depressed suburban father in...</td>\n",
              "      <td>[{\"name\": \"DreamWorks SKG\", \"id\": 27}, {\"name\"...</td>\n",
              "      <td>[{\"iso_3166_1\": \"US\", \"name\": \"United States o...</td>\n",
              "      <td>[{\"iso_639_1\": \"en\", \"name\": \"English\"}]</td>\n",
              "      <td>Look closer.</td>\n",
              "      <td>Kevin Spacey Annette Bening Thora Birch Wes Be...</td>\n",
              "      <td>[{'name': 'Thomas Newman', 'gender': 2, 'depar...</td>\n",
              "      <td>Sam Mendes</td>\n",
              "    </tr>\n",
              "  </tbody>\n",
              "</table>\n",
              "<p>5 rows × 21 columns</p>\n",
              "</div>\n",
              "    <div class=\"colab-df-buttons\">\n",
              "\n",
              "  <div class=\"colab-df-container\">\n",
              "    <button class=\"colab-df-convert\" onclick=\"convertToInteractive('df-23171ba3-35bf-4f60-b87b-a77b4a1fa4dd')\"\n",
              "            title=\"Convert this dataframe to an interactive table.\"\n",
              "            style=\"display:none;\">\n",
              "\n",
              "  <svg xmlns=\"http://www.w3.org/2000/svg\" height=\"24px\" viewBox=\"0 -960 960 960\">\n",
              "    <path d=\"M120-120v-720h720v720H120Zm60-500h600v-160H180v160Zm220 220h160v-160H400v160Zm0 220h160v-160H400v160ZM180-400h160v-160H180v160Zm440 0h160v-160H620v160ZM180-180h160v-160H180v160Zm440 0h160v-160H620v160Z\"/>\n",
              "  </svg>\n",
              "    </button>\n",
              "\n",
              "  <style>\n",
              "    .colab-df-container {\n",
              "      display:flex;\n",
              "      gap: 12px;\n",
              "    }\n",
              "\n",
              "    .colab-df-convert {\n",
              "      background-color: #E8F0FE;\n",
              "      border: none;\n",
              "      border-radius: 50%;\n",
              "      cursor: pointer;\n",
              "      display: none;\n",
              "      fill: #1967D2;\n",
              "      height: 32px;\n",
              "      padding: 0 0 0 0;\n",
              "      width: 32px;\n",
              "    }\n",
              "\n",
              "    .colab-df-convert:hover {\n",
              "      background-color: #E2EBFA;\n",
              "      box-shadow: 0px 1px 2px rgba(60, 64, 67, 0.3), 0px 1px 3px 1px rgba(60, 64, 67, 0.15);\n",
              "      fill: #174EA6;\n",
              "    }\n",
              "\n",
              "    .colab-df-buttons div {\n",
              "      margin-bottom: 4px;\n",
              "    }\n",
              "\n",
              "    [theme=dark] .colab-df-convert {\n",
              "      background-color: #3B4455;\n",
              "      fill: #D2E3FC;\n",
              "    }\n",
              "\n",
              "    [theme=dark] .colab-df-convert:hover {\n",
              "      background-color: #434B5C;\n",
              "      box-shadow: 0px 1px 3px 1px rgba(0, 0, 0, 0.15);\n",
              "      filter: drop-shadow(0px 1px 2px rgba(0, 0, 0, 0.3));\n",
              "      fill: #FFFFFF;\n",
              "    }\n",
              "  </style>\n",
              "\n",
              "    <script>\n",
              "      const buttonEl =\n",
              "        document.querySelector('#df-23171ba3-35bf-4f60-b87b-a77b4a1fa4dd button.colab-df-convert');\n",
              "      buttonEl.style.display =\n",
              "        google.colab.kernel.accessAllowed ? 'block' : 'none';\n",
              "\n",
              "      async function convertToInteractive(key) {\n",
              "        const element = document.querySelector('#df-23171ba3-35bf-4f60-b87b-a77b4a1fa4dd');\n",
              "        const dataTable =\n",
              "          await google.colab.kernel.invokeFunction('convertToInteractive',\n",
              "                                                    [key], {});\n",
              "        if (!dataTable) return;\n",
              "\n",
              "        const docLinkHtml = 'Like what you see? Visit the ' +\n",
              "          '<a target=\"_blank\" href=https://colab.research.google.com/notebooks/data_table.ipynb>data table notebook</a>'\n",
              "          + ' to learn more about interactive tables.';\n",
              "        element.innerHTML = '';\n",
              "        dataTable['output_type'] = 'display_data';\n",
              "        await google.colab.output.renderOutput(dataTable, element);\n",
              "        const docLink = document.createElement('div');\n",
              "        docLink.innerHTML = docLinkHtml;\n",
              "        element.appendChild(docLink);\n",
              "      }\n",
              "    </script>\n",
              "  </div>\n",
              "\n",
              "\n",
              "<div id=\"df-4797550e-a7c1-4530-98fc-d5a3ecd428b6\">\n",
              "  <button class=\"colab-df-quickchart\" onclick=\"quickchart('df-4797550e-a7c1-4530-98fc-d5a3ecd428b6')\"\n",
              "            title=\"Suggest charts\"\n",
              "            style=\"display:none;\">\n",
              "\n",
              "<svg xmlns=\"http://www.w3.org/2000/svg\" height=\"24px\"viewBox=\"0 0 24 24\"\n",
              "     width=\"24px\">\n",
              "    <g>\n",
              "        <path d=\"M19 3H5c-1.1 0-2 .9-2 2v14c0 1.1.9 2 2 2h14c1.1 0 2-.9 2-2V5c0-1.1-.9-2-2-2zM9 17H7v-7h2v7zm4 0h-2V7h2v10zm4 0h-2v-4h2v4z\"/>\n",
              "    </g>\n",
              "</svg>\n",
              "  </button>\n",
              "\n",
              "<style>\n",
              "  .colab-df-quickchart {\n",
              "      --bg-color: #E8F0FE;\n",
              "      --fill-color: #1967D2;\n",
              "      --hover-bg-color: #E2EBFA;\n",
              "      --hover-fill-color: #174EA6;\n",
              "      --disabled-fill-color: #AAA;\n",
              "      --disabled-bg-color: #DDD;\n",
              "  }\n",
              "\n",
              "  [theme=dark] .colab-df-quickchart {\n",
              "      --bg-color: #3B4455;\n",
              "      --fill-color: #D2E3FC;\n",
              "      --hover-bg-color: #434B5C;\n",
              "      --hover-fill-color: #FFFFFF;\n",
              "      --disabled-bg-color: #3B4455;\n",
              "      --disabled-fill-color: #666;\n",
              "  }\n",
              "\n",
              "  .colab-df-quickchart {\n",
              "    background-color: var(--bg-color);\n",
              "    border: none;\n",
              "    border-radius: 50%;\n",
              "    cursor: pointer;\n",
              "    display: none;\n",
              "    fill: var(--fill-color);\n",
              "    height: 32px;\n",
              "    padding: 0;\n",
              "    width: 32px;\n",
              "  }\n",
              "\n",
              "  .colab-df-quickchart:hover {\n",
              "    background-color: var(--hover-bg-color);\n",
              "    box-shadow: 0 1px 2px rgba(60, 64, 67, 0.3), 0 1px 3px 1px rgba(60, 64, 67, 0.15);\n",
              "    fill: var(--button-hover-fill-color);\n",
              "  }\n",
              "\n",
              "  .colab-df-quickchart-complete:disabled,\n",
              "  .colab-df-quickchart-complete:disabled:hover {\n",
              "    background-color: var(--disabled-bg-color);\n",
              "    fill: var(--disabled-fill-color);\n",
              "    box-shadow: none;\n",
              "  }\n",
              "\n",
              "  .colab-df-spinner {\n",
              "    border: 2px solid var(--fill-color);\n",
              "    border-color: transparent;\n",
              "    border-bottom-color: var(--fill-color);\n",
              "    animation:\n",
              "      spin 1s steps(1) infinite;\n",
              "  }\n",
              "\n",
              "  @keyframes spin {\n",
              "    0% {\n",
              "      border-color: transparent;\n",
              "      border-bottom-color: var(--fill-color);\n",
              "      border-left-color: var(--fill-color);\n",
              "    }\n",
              "    20% {\n",
              "      border-color: transparent;\n",
              "      border-left-color: var(--fill-color);\n",
              "      border-top-color: var(--fill-color);\n",
              "    }\n",
              "    30% {\n",
              "      border-color: transparent;\n",
              "      border-left-color: var(--fill-color);\n",
              "      border-top-color: var(--fill-color);\n",
              "      border-right-color: var(--fill-color);\n",
              "    }\n",
              "    40% {\n",
              "      border-color: transparent;\n",
              "      border-right-color: var(--fill-color);\n",
              "      border-top-color: var(--fill-color);\n",
              "    }\n",
              "    60% {\n",
              "      border-color: transparent;\n",
              "      border-right-color: var(--fill-color);\n",
              "    }\n",
              "    80% {\n",
              "      border-color: transparent;\n",
              "      border-right-color: var(--fill-color);\n",
              "      border-bottom-color: var(--fill-color);\n",
              "    }\n",
              "    90% {\n",
              "      border-color: transparent;\n",
              "      border-bottom-color: var(--fill-color);\n",
              "    }\n",
              "  }\n",
              "</style>\n",
              "\n",
              "  <script>\n",
              "    async function quickchart(key) {\n",
              "      const quickchartButtonEl =\n",
              "        document.querySelector('#' + key + ' button');\n",
              "      quickchartButtonEl.disabled = true;  // To prevent multiple clicks.\n",
              "      quickchartButtonEl.classList.add('colab-df-spinner');\n",
              "      try {\n",
              "        const charts = await google.colab.kernel.invokeFunction(\n",
              "            'suggestCharts', [key], {});\n",
              "      } catch (error) {\n",
              "        console.error('Error during call to suggestCharts:', error);\n",
              "      }\n",
              "      quickchartButtonEl.classList.remove('colab-df-spinner');\n",
              "      quickchartButtonEl.classList.add('colab-df-quickchart-complete');\n",
              "    }\n",
              "    (() => {\n",
              "      let quickchartButtonEl =\n",
              "        document.querySelector('#df-4797550e-a7c1-4530-98fc-d5a3ecd428b6 button');\n",
              "      quickchartButtonEl.style.display =\n",
              "        google.colab.kernel.accessAllowed ? 'block' : 'none';\n",
              "    })();\n",
              "  </script>\n",
              "</div>\n",
              "\n",
              "    </div>\n",
              "  </div>\n"
            ],
            "application/vnd.google.colaboratory.intrinsic+json": {
              "type": "dataframe",
              "variable_name": "df"
            }
          },
          "metadata": {},
          "execution_count": 5
        }
      ]
    },
    {
      "cell_type": "code",
      "source": [
        "df.info()"
      ],
      "metadata": {
        "colab": {
          "base_uri": "https://localhost:8080/"
        },
        "id": "CnDwTxZwtOx9",
        "outputId": "69ff3463-d1b1-42bb-ffc6-93c10c3af341"
      },
      "execution_count": 6,
      "outputs": [
        {
          "output_type": "stream",
          "name": "stdout",
          "text": [
            "<class 'pandas.core.frame.DataFrame'>\n",
            "RangeIndex: 4760 entries, 0 to 4759\n",
            "Data columns (total 21 columns):\n",
            " #   Column                    Non-Null Count  Dtype  \n",
            "---  ------                    --------------  -----  \n",
            " 0   Movie_ID                  4760 non-null   int64  \n",
            " 1   Movie_Title               4760 non-null   object \n",
            " 2   Movie_Genre               4760 non-null   object \n",
            " 3   Movie_Language            4760 non-null   object \n",
            " 4   Movie_Budget              4760 non-null   int64  \n",
            " 5   Movie_Popularity          4760 non-null   float64\n",
            " 6   Movie_Release_Date        4760 non-null   object \n",
            " 7   Movie_Revenue             4760 non-null   int64  \n",
            " 8   Movie_Runtime             4758 non-null   float64\n",
            " 9   Movie_Vote                4760 non-null   float64\n",
            " 10  Movie_Vote_Count          4760 non-null   int64  \n",
            " 11  Movie_Homepage            1699 non-null   object \n",
            " 12  Movie_Keywords            4373 non-null   object \n",
            " 13  Movie_Overview            4757 non-null   object \n",
            " 14  Movie_Production_House    4760 non-null   object \n",
            " 15  Movie_Production_Country  4760 non-null   object \n",
            " 16  Movie_Spoken_Language     4760 non-null   object \n",
            " 17  Movie_Tagline             3942 non-null   object \n",
            " 18  Movie_Cast                4733 non-null   object \n",
            " 19  Movie_Crew                4760 non-null   object \n",
            " 20  Movie_Director            4738 non-null   object \n",
            "dtypes: float64(3), int64(4), object(14)\n",
            "memory usage: 781.1+ KB\n"
          ]
        }
      ]
    },
    {
      "cell_type": "code",
      "source": [
        "df.shape"
      ],
      "metadata": {
        "colab": {
          "base_uri": "https://localhost:8080/"
        },
        "id": "N7XNOJy5tbGY",
        "outputId": "d216f42f-71e0-485a-8e7f-abd9a59dac9c"
      },
      "execution_count": 7,
      "outputs": [
        {
          "output_type": "execute_result",
          "data": {
            "text/plain": [
              "(4760, 21)"
            ]
          },
          "metadata": {},
          "execution_count": 7
        }
      ]
    },
    {
      "cell_type": "code",
      "source": [
        "df.columns"
      ],
      "metadata": {
        "colab": {
          "base_uri": "https://localhost:8080/"
        },
        "id": "1Tj_yJvQtlar",
        "outputId": "1eeb90db-ad2d-4c5d-f312-140578bdc015"
      },
      "execution_count": 8,
      "outputs": [
        {
          "output_type": "execute_result",
          "data": {
            "text/plain": [
              "Index(['Movie_ID', 'Movie_Title', 'Movie_Genre', 'Movie_Language',\n",
              "       'Movie_Budget', 'Movie_Popularity', 'Movie_Release_Date',\n",
              "       'Movie_Revenue', 'Movie_Runtime', 'Movie_Vote', 'Movie_Vote_Count',\n",
              "       'Movie_Homepage', 'Movie_Keywords', 'Movie_Overview',\n",
              "       'Movie_Production_House', 'Movie_Production_Country',\n",
              "       'Movie_Spoken_Language', 'Movie_Tagline', 'Movie_Cast', 'Movie_Crew',\n",
              "       'Movie_Director'],\n",
              "      dtype='object')"
            ]
          },
          "metadata": {},
          "execution_count": 8
        }
      ]
    },
    {
      "cell_type": "code",
      "source": [
        "df_features = df[['Movie_Genre', 'Movie_Keywords', 'Movie_Tagline', 'Movie_Cast', 'Movie_Director']]"
      ],
      "metadata": {
        "id": "st6H1Qg9tokB"
      },
      "execution_count": 10,
      "outputs": []
    },
    {
      "cell_type": "code",
      "source": [
        "df_features.shape"
      ],
      "metadata": {
        "colab": {
          "base_uri": "https://localhost:8080/"
        },
        "id": "ZbED64JIuxuu",
        "outputId": "5b192523-d129-4ad4-fdd1-a00e7792d33c"
      },
      "execution_count": 11,
      "outputs": [
        {
          "output_type": "execute_result",
          "data": {
            "text/plain": [
              "(4760, 5)"
            ]
          },
          "metadata": {},
          "execution_count": 11
        }
      ]
    },
    {
      "cell_type": "code",
      "source": [
        "df_features"
      ],
      "metadata": {
        "colab": {
          "base_uri": "https://localhost:8080/",
          "height": 579
        },
        "id": "WtIl_q0Xu5Hq",
        "outputId": "4037dd7f-3cc9-4aac-cb8d-2d6b6a992e13"
      },
      "execution_count": 12,
      "outputs": [
        {
          "output_type": "execute_result",
          "data": {
            "text/plain": [
              "                           Movie_Genre  \\\n",
              "0                         Crime Comedy   \n",
              "1     Adventure Action Science Fiction   \n",
              "2                     Animation Family   \n",
              "3                 Comedy Drama Romance   \n",
              "4                                Drama   \n",
              "...                                ...   \n",
              "4755                            Horror   \n",
              "4756               Comedy Family Drama   \n",
              "4757                    Thriller Drama   \n",
              "4758                            Family   \n",
              "4759                       Documentary   \n",
              "\n",
              "                                         Movie_Keywords  \\\n",
              "0             hotel new year's eve witch bet hotel room   \n",
              "1           android galaxy hermit death star lightsaber   \n",
              "2     father son relationship harbor underwater fish...   \n",
              "3     vietnam veteran hippie mentally disabled runni...   \n",
              "4     male nudity female nudity adultery midlife cri...   \n",
              "...                                                 ...   \n",
              "4755                                                NaN   \n",
              "4756                                                NaN   \n",
              "4757                     christian film sex trafficking   \n",
              "4758                                                NaN   \n",
              "4759  music actors legendary perfomer classic hollyw...   \n",
              "\n",
              "                                          Movie_Tagline  \\\n",
              "0     Twelve outrageous guests. Four scandalous requ...   \n",
              "1          A long time ago in a galaxy far, far away...   \n",
              "2     There are 3.7 trillion fish in the ocean, they...   \n",
              "3     The world will never be the same, once you've ...   \n",
              "4                                          Look closer.   \n",
              "...                                                 ...   \n",
              "4755                The hot spot where Satan's waitin'.   \n",
              "4756           It’s better to stand out than to fit in.   \n",
              "4757           She never knew it could happen to her...   \n",
              "4758                                                NaN   \n",
              "4759                                                NaN   \n",
              "\n",
              "                                             Movie_Cast     Movie_Director  \n",
              "0     Tim Roth Antonio Banderas Jennifer Beals Madon...     Allison Anders  \n",
              "1     Mark Hamill Harrison Ford Carrie Fisher Peter ...       George Lucas  \n",
              "2     Albert Brooks Ellen DeGeneres Alexander Gould ...     Andrew Stanton  \n",
              "3     Tom Hanks Robin Wright Gary Sinise Mykelti Wil...    Robert Zemeckis  \n",
              "4     Kevin Spacey Annette Bening Thora Birch Wes Be...         Sam Mendes  \n",
              "...                                                 ...                ...  \n",
              "4755  Lisa Hart Carroll Michael Des Barres Paul Drak...         Pece Dingo  \n",
              "4756  Roni Akurati Brighton Sharbino Jason Lee Anjul...       Frank Lotito  \n",
              "4757  Nicole Smolen Kim Baldwin Ariana Stephens Brys...       Jaco Booyens  \n",
              "4758                                                NaN                NaN  \n",
              "4759                                    Tony Oppedisano  Simon Napier-Bell  \n",
              "\n",
              "[4760 rows x 5 columns]"
            ],
            "text/html": [
              "\n",
              "  <div id=\"df-b69084a2-6240-4569-b429-c4516e08a6e8\" class=\"colab-df-container\">\n",
              "    <div>\n",
              "<style scoped>\n",
              "    .dataframe tbody tr th:only-of-type {\n",
              "        vertical-align: middle;\n",
              "    }\n",
              "\n",
              "    .dataframe tbody tr th {\n",
              "        vertical-align: top;\n",
              "    }\n",
              "\n",
              "    .dataframe thead th {\n",
              "        text-align: right;\n",
              "    }\n",
              "</style>\n",
              "<table border=\"1\" class=\"dataframe\">\n",
              "  <thead>\n",
              "    <tr style=\"text-align: right;\">\n",
              "      <th></th>\n",
              "      <th>Movie_Genre</th>\n",
              "      <th>Movie_Keywords</th>\n",
              "      <th>Movie_Tagline</th>\n",
              "      <th>Movie_Cast</th>\n",
              "      <th>Movie_Director</th>\n",
              "    </tr>\n",
              "  </thead>\n",
              "  <tbody>\n",
              "    <tr>\n",
              "      <th>0</th>\n",
              "      <td>Crime Comedy</td>\n",
              "      <td>hotel new year's eve witch bet hotel room</td>\n",
              "      <td>Twelve outrageous guests. Four scandalous requ...</td>\n",
              "      <td>Tim Roth Antonio Banderas Jennifer Beals Madon...</td>\n",
              "      <td>Allison Anders</td>\n",
              "    </tr>\n",
              "    <tr>\n",
              "      <th>1</th>\n",
              "      <td>Adventure Action Science Fiction</td>\n",
              "      <td>android galaxy hermit death star lightsaber</td>\n",
              "      <td>A long time ago in a galaxy far, far away...</td>\n",
              "      <td>Mark Hamill Harrison Ford Carrie Fisher Peter ...</td>\n",
              "      <td>George Lucas</td>\n",
              "    </tr>\n",
              "    <tr>\n",
              "      <th>2</th>\n",
              "      <td>Animation Family</td>\n",
              "      <td>father son relationship harbor underwater fish...</td>\n",
              "      <td>There are 3.7 trillion fish in the ocean, they...</td>\n",
              "      <td>Albert Brooks Ellen DeGeneres Alexander Gould ...</td>\n",
              "      <td>Andrew Stanton</td>\n",
              "    </tr>\n",
              "    <tr>\n",
              "      <th>3</th>\n",
              "      <td>Comedy Drama Romance</td>\n",
              "      <td>vietnam veteran hippie mentally disabled runni...</td>\n",
              "      <td>The world will never be the same, once you've ...</td>\n",
              "      <td>Tom Hanks Robin Wright Gary Sinise Mykelti Wil...</td>\n",
              "      <td>Robert Zemeckis</td>\n",
              "    </tr>\n",
              "    <tr>\n",
              "      <th>4</th>\n",
              "      <td>Drama</td>\n",
              "      <td>male nudity female nudity adultery midlife cri...</td>\n",
              "      <td>Look closer.</td>\n",
              "      <td>Kevin Spacey Annette Bening Thora Birch Wes Be...</td>\n",
              "      <td>Sam Mendes</td>\n",
              "    </tr>\n",
              "    <tr>\n",
              "      <th>...</th>\n",
              "      <td>...</td>\n",
              "      <td>...</td>\n",
              "      <td>...</td>\n",
              "      <td>...</td>\n",
              "      <td>...</td>\n",
              "    </tr>\n",
              "    <tr>\n",
              "      <th>4755</th>\n",
              "      <td>Horror</td>\n",
              "      <td>NaN</td>\n",
              "      <td>The hot spot where Satan's waitin'.</td>\n",
              "      <td>Lisa Hart Carroll Michael Des Barres Paul Drak...</td>\n",
              "      <td>Pece Dingo</td>\n",
              "    </tr>\n",
              "    <tr>\n",
              "      <th>4756</th>\n",
              "      <td>Comedy Family Drama</td>\n",
              "      <td>NaN</td>\n",
              "      <td>It’s better to stand out than to fit in.</td>\n",
              "      <td>Roni Akurati Brighton Sharbino Jason Lee Anjul...</td>\n",
              "      <td>Frank Lotito</td>\n",
              "    </tr>\n",
              "    <tr>\n",
              "      <th>4757</th>\n",
              "      <td>Thriller Drama</td>\n",
              "      <td>christian film sex trafficking</td>\n",
              "      <td>She never knew it could happen to her...</td>\n",
              "      <td>Nicole Smolen Kim Baldwin Ariana Stephens Brys...</td>\n",
              "      <td>Jaco Booyens</td>\n",
              "    </tr>\n",
              "    <tr>\n",
              "      <th>4758</th>\n",
              "      <td>Family</td>\n",
              "      <td>NaN</td>\n",
              "      <td>NaN</td>\n",
              "      <td>NaN</td>\n",
              "      <td>NaN</td>\n",
              "    </tr>\n",
              "    <tr>\n",
              "      <th>4759</th>\n",
              "      <td>Documentary</td>\n",
              "      <td>music actors legendary perfomer classic hollyw...</td>\n",
              "      <td>NaN</td>\n",
              "      <td>Tony Oppedisano</td>\n",
              "      <td>Simon Napier-Bell</td>\n",
              "    </tr>\n",
              "  </tbody>\n",
              "</table>\n",
              "<p>4760 rows × 5 columns</p>\n",
              "</div>\n",
              "    <div class=\"colab-df-buttons\">\n",
              "\n",
              "  <div class=\"colab-df-container\">\n",
              "    <button class=\"colab-df-convert\" onclick=\"convertToInteractive('df-b69084a2-6240-4569-b429-c4516e08a6e8')\"\n",
              "            title=\"Convert this dataframe to an interactive table.\"\n",
              "            style=\"display:none;\">\n",
              "\n",
              "  <svg xmlns=\"http://www.w3.org/2000/svg\" height=\"24px\" viewBox=\"0 -960 960 960\">\n",
              "    <path d=\"M120-120v-720h720v720H120Zm60-500h600v-160H180v160Zm220 220h160v-160H400v160Zm0 220h160v-160H400v160ZM180-400h160v-160H180v160Zm440 0h160v-160H620v160ZM180-180h160v-160H180v160Zm440 0h160v-160H620v160Z\"/>\n",
              "  </svg>\n",
              "    </button>\n",
              "\n",
              "  <style>\n",
              "    .colab-df-container {\n",
              "      display:flex;\n",
              "      gap: 12px;\n",
              "    }\n",
              "\n",
              "    .colab-df-convert {\n",
              "      background-color: #E8F0FE;\n",
              "      border: none;\n",
              "      border-radius: 50%;\n",
              "      cursor: pointer;\n",
              "      display: none;\n",
              "      fill: #1967D2;\n",
              "      height: 32px;\n",
              "      padding: 0 0 0 0;\n",
              "      width: 32px;\n",
              "    }\n",
              "\n",
              "    .colab-df-convert:hover {\n",
              "      background-color: #E2EBFA;\n",
              "      box-shadow: 0px 1px 2px rgba(60, 64, 67, 0.3), 0px 1px 3px 1px rgba(60, 64, 67, 0.15);\n",
              "      fill: #174EA6;\n",
              "    }\n",
              "\n",
              "    .colab-df-buttons div {\n",
              "      margin-bottom: 4px;\n",
              "    }\n",
              "\n",
              "    [theme=dark] .colab-df-convert {\n",
              "      background-color: #3B4455;\n",
              "      fill: #D2E3FC;\n",
              "    }\n",
              "\n",
              "    [theme=dark] .colab-df-convert:hover {\n",
              "      background-color: #434B5C;\n",
              "      box-shadow: 0px 1px 3px 1px rgba(0, 0, 0, 0.15);\n",
              "      filter: drop-shadow(0px 1px 2px rgba(0, 0, 0, 0.3));\n",
              "      fill: #FFFFFF;\n",
              "    }\n",
              "  </style>\n",
              "\n",
              "    <script>\n",
              "      const buttonEl =\n",
              "        document.querySelector('#df-b69084a2-6240-4569-b429-c4516e08a6e8 button.colab-df-convert');\n",
              "      buttonEl.style.display =\n",
              "        google.colab.kernel.accessAllowed ? 'block' : 'none';\n",
              "\n",
              "      async function convertToInteractive(key) {\n",
              "        const element = document.querySelector('#df-b69084a2-6240-4569-b429-c4516e08a6e8');\n",
              "        const dataTable =\n",
              "          await google.colab.kernel.invokeFunction('convertToInteractive',\n",
              "                                                    [key], {});\n",
              "        if (!dataTable) return;\n",
              "\n",
              "        const docLinkHtml = 'Like what you see? Visit the ' +\n",
              "          '<a target=\"_blank\" href=https://colab.research.google.com/notebooks/data_table.ipynb>data table notebook</a>'\n",
              "          + ' to learn more about interactive tables.';\n",
              "        element.innerHTML = '';\n",
              "        dataTable['output_type'] = 'display_data';\n",
              "        await google.colab.output.renderOutput(dataTable, element);\n",
              "        const docLink = document.createElement('div');\n",
              "        docLink.innerHTML = docLinkHtml;\n",
              "        element.appendChild(docLink);\n",
              "      }\n",
              "    </script>\n",
              "  </div>\n",
              "\n",
              "\n",
              "<div id=\"df-e57269c9-9572-408f-8d8b-68ec15390f7d\">\n",
              "  <button class=\"colab-df-quickchart\" onclick=\"quickchart('df-e57269c9-9572-408f-8d8b-68ec15390f7d')\"\n",
              "            title=\"Suggest charts\"\n",
              "            style=\"display:none;\">\n",
              "\n",
              "<svg xmlns=\"http://www.w3.org/2000/svg\" height=\"24px\"viewBox=\"0 0 24 24\"\n",
              "     width=\"24px\">\n",
              "    <g>\n",
              "        <path d=\"M19 3H5c-1.1 0-2 .9-2 2v14c0 1.1.9 2 2 2h14c1.1 0 2-.9 2-2V5c0-1.1-.9-2-2-2zM9 17H7v-7h2v7zm4 0h-2V7h2v10zm4 0h-2v-4h2v4z\"/>\n",
              "    </g>\n",
              "</svg>\n",
              "  </button>\n",
              "\n",
              "<style>\n",
              "  .colab-df-quickchart {\n",
              "      --bg-color: #E8F0FE;\n",
              "      --fill-color: #1967D2;\n",
              "      --hover-bg-color: #E2EBFA;\n",
              "      --hover-fill-color: #174EA6;\n",
              "      --disabled-fill-color: #AAA;\n",
              "      --disabled-bg-color: #DDD;\n",
              "  }\n",
              "\n",
              "  [theme=dark] .colab-df-quickchart {\n",
              "      --bg-color: #3B4455;\n",
              "      --fill-color: #D2E3FC;\n",
              "      --hover-bg-color: #434B5C;\n",
              "      --hover-fill-color: #FFFFFF;\n",
              "      --disabled-bg-color: #3B4455;\n",
              "      --disabled-fill-color: #666;\n",
              "  }\n",
              "\n",
              "  .colab-df-quickchart {\n",
              "    background-color: var(--bg-color);\n",
              "    border: none;\n",
              "    border-radius: 50%;\n",
              "    cursor: pointer;\n",
              "    display: none;\n",
              "    fill: var(--fill-color);\n",
              "    height: 32px;\n",
              "    padding: 0;\n",
              "    width: 32px;\n",
              "  }\n",
              "\n",
              "  .colab-df-quickchart:hover {\n",
              "    background-color: var(--hover-bg-color);\n",
              "    box-shadow: 0 1px 2px rgba(60, 64, 67, 0.3), 0 1px 3px 1px rgba(60, 64, 67, 0.15);\n",
              "    fill: var(--button-hover-fill-color);\n",
              "  }\n",
              "\n",
              "  .colab-df-quickchart-complete:disabled,\n",
              "  .colab-df-quickchart-complete:disabled:hover {\n",
              "    background-color: var(--disabled-bg-color);\n",
              "    fill: var(--disabled-fill-color);\n",
              "    box-shadow: none;\n",
              "  }\n",
              "\n",
              "  .colab-df-spinner {\n",
              "    border: 2px solid var(--fill-color);\n",
              "    border-color: transparent;\n",
              "    border-bottom-color: var(--fill-color);\n",
              "    animation:\n",
              "      spin 1s steps(1) infinite;\n",
              "  }\n",
              "\n",
              "  @keyframes spin {\n",
              "    0% {\n",
              "      border-color: transparent;\n",
              "      border-bottom-color: var(--fill-color);\n",
              "      border-left-color: var(--fill-color);\n",
              "    }\n",
              "    20% {\n",
              "      border-color: transparent;\n",
              "      border-left-color: var(--fill-color);\n",
              "      border-top-color: var(--fill-color);\n",
              "    }\n",
              "    30% {\n",
              "      border-color: transparent;\n",
              "      border-left-color: var(--fill-color);\n",
              "      border-top-color: var(--fill-color);\n",
              "      border-right-color: var(--fill-color);\n",
              "    }\n",
              "    40% {\n",
              "      border-color: transparent;\n",
              "      border-right-color: var(--fill-color);\n",
              "      border-top-color: var(--fill-color);\n",
              "    }\n",
              "    60% {\n",
              "      border-color: transparent;\n",
              "      border-right-color: var(--fill-color);\n",
              "    }\n",
              "    80% {\n",
              "      border-color: transparent;\n",
              "      border-right-color: var(--fill-color);\n",
              "      border-bottom-color: var(--fill-color);\n",
              "    }\n",
              "    90% {\n",
              "      border-color: transparent;\n",
              "      border-bottom-color: var(--fill-color);\n",
              "    }\n",
              "  }\n",
              "</style>\n",
              "\n",
              "  <script>\n",
              "    async function quickchart(key) {\n",
              "      const quickchartButtonEl =\n",
              "        document.querySelector('#' + key + ' button');\n",
              "      quickchartButtonEl.disabled = true;  // To prevent multiple clicks.\n",
              "      quickchartButtonEl.classList.add('colab-df-spinner');\n",
              "      try {\n",
              "        const charts = await google.colab.kernel.invokeFunction(\n",
              "            'suggestCharts', [key], {});\n",
              "      } catch (error) {\n",
              "        console.error('Error during call to suggestCharts:', error);\n",
              "      }\n",
              "      quickchartButtonEl.classList.remove('colab-df-spinner');\n",
              "      quickchartButtonEl.classList.add('colab-df-quickchart-complete');\n",
              "    }\n",
              "    (() => {\n",
              "      let quickchartButtonEl =\n",
              "        document.querySelector('#df-e57269c9-9572-408f-8d8b-68ec15390f7d button');\n",
              "      quickchartButtonEl.style.display =\n",
              "        google.colab.kernel.accessAllowed ? 'block' : 'none';\n",
              "    })();\n",
              "  </script>\n",
              "</div>\n",
              "\n",
              "  <div id=\"id_79eee0f5-a2b9-4ed6-9838-2494c06f1d3b\">\n",
              "    <style>\n",
              "      .colab-df-generate {\n",
              "        background-color: #E8F0FE;\n",
              "        border: none;\n",
              "        border-radius: 50%;\n",
              "        cursor: pointer;\n",
              "        display: none;\n",
              "        fill: #1967D2;\n",
              "        height: 32px;\n",
              "        padding: 0 0 0 0;\n",
              "        width: 32px;\n",
              "      }\n",
              "\n",
              "      .colab-df-generate:hover {\n",
              "        background-color: #E2EBFA;\n",
              "        box-shadow: 0px 1px 2px rgba(60, 64, 67, 0.3), 0px 1px 3px 1px rgba(60, 64, 67, 0.15);\n",
              "        fill: #174EA6;\n",
              "      }\n",
              "\n",
              "      [theme=dark] .colab-df-generate {\n",
              "        background-color: #3B4455;\n",
              "        fill: #D2E3FC;\n",
              "      }\n",
              "\n",
              "      [theme=dark] .colab-df-generate:hover {\n",
              "        background-color: #434B5C;\n",
              "        box-shadow: 0px 1px 3px 1px rgba(0, 0, 0, 0.15);\n",
              "        filter: drop-shadow(0px 1px 2px rgba(0, 0, 0, 0.3));\n",
              "        fill: #FFFFFF;\n",
              "      }\n",
              "    </style>\n",
              "    <button class=\"colab-df-generate\" onclick=\"generateWithVariable('df_features')\"\n",
              "            title=\"Generate code using this dataframe.\"\n",
              "            style=\"display:none;\">\n",
              "\n",
              "  <svg xmlns=\"http://www.w3.org/2000/svg\" height=\"24px\"viewBox=\"0 0 24 24\"\n",
              "       width=\"24px\">\n",
              "    <path d=\"M7,19H8.4L18.45,9,17,7.55,7,17.6ZM5,21V16.75L18.45,3.32a2,2,0,0,1,2.83,0l1.4,1.43a1.91,1.91,0,0,1,.58,1.4,1.91,1.91,0,0,1-.58,1.4L9.25,21ZM18.45,9,17,7.55Zm-12,3A5.31,5.31,0,0,0,4.9,8.1,5.31,5.31,0,0,0,1,6.5,5.31,5.31,0,0,0,4.9,4.9,5.31,5.31,0,0,0,6.5,1,5.31,5.31,0,0,0,8.1,4.9,5.31,5.31,0,0,0,12,6.5,5.46,5.46,0,0,0,6.5,12Z\"/>\n",
              "  </svg>\n",
              "    </button>\n",
              "    <script>\n",
              "      (() => {\n",
              "      const buttonEl =\n",
              "        document.querySelector('#id_79eee0f5-a2b9-4ed6-9838-2494c06f1d3b button.colab-df-generate');\n",
              "      buttonEl.style.display =\n",
              "        google.colab.kernel.accessAllowed ? 'block' : 'none';\n",
              "\n",
              "      buttonEl.onclick = () => {\n",
              "        google.colab.notebook.generateWithVariable('df_features');\n",
              "      }\n",
              "      })();\n",
              "    </script>\n",
              "  </div>\n",
              "\n",
              "    </div>\n",
              "  </div>\n"
            ],
            "application/vnd.google.colaboratory.intrinsic+json": {
              "type": "dataframe",
              "variable_name": "df_features",
              "summary": "{\n  \"name\": \"df_features\",\n  \"rows\": 4760,\n  \"fields\": [\n    {\n      \"column\": \"Movie_Genre\",\n      \"properties\": {\n        \"dtype\": \"category\",\n        \"num_unique_values\": 1164,\n        \"samples\": [\n          \"Family Animation Adventure\",\n          \"Adventure Science Fiction Action\",\n          \"Action Crime Drama Romance Thriller\"\n        ],\n        \"semantic_type\": \"\",\n        \"description\": \"\"\n      }\n    },\n    {\n      \"column\": \"Movie_Keywords\",\n      \"properties\": {\n        \"dtype\": \"string\",\n        \"num_unique_values\": 4202,\n        \"samples\": [\n          \"comedy cheating on partner amusement park summer job carny\",\n          \"dystopia\",\n          \"famous score hero mine vietnam war village\"\n        ],\n        \"semantic_type\": \"\",\n        \"description\": \"\"\n      }\n    },\n    {\n      \"column\": \"Movie_Tagline\",\n      \"properties\": {\n        \"dtype\": \"string\",\n        \"num_unique_values\": 3927,\n        \"samples\": [\n          \"Laughter is contagious\",\n          \"A comedy that doesn't let principles stand in the way of progress.\",\n          \"Evolution Begins\"\n        ],\n        \"semantic_type\": \"\",\n        \"description\": \"\"\n      }\n    },\n    {\n      \"column\": \"Movie_Cast\",\n      \"properties\": {\n        \"dtype\": \"string\",\n        \"num_unique_values\": 4714,\n        \"samples\": [\n          \"Robin Tunney Fairuza Balk Neve Campbell Rachel True Skeet Ulrich\",\n          \"Peter Sellers Christopher Plummer Herbert Lom Catherine Schell Peter Arne\",\n          \"Alan King Angela Bassett Timothy Hutton Mary Steenburgen Clifton James\"\n        ],\n        \"semantic_type\": \"\",\n        \"description\": \"\"\n      }\n    },\n    {\n      \"column\": \"Movie_Director\",\n      \"properties\": {\n        \"dtype\": \"category\",\n        \"num_unique_values\": 2331,\n        \"samples\": [\n          \"Dennis Gansel\",\n          \"\\\\u00c0lex Pastor\",\n          \"Michael D. Sellers\"\n        ],\n        \"semantic_type\": \"\",\n        \"description\": \"\"\n      }\n    }\n  ]\n}"
            }
          },
          "metadata": {},
          "execution_count": 12
        }
      ]
    },
    {
      "cell_type": "code",
      "source": [
        "x = df_features['Movie_Genre'] + ' ' + df_features['Movie_Genre'] + ' ' + df_features['Movie_Keywords'] + ' ' + df_features['Movie_Tagline'] + ' ' + df_features['Movie_Cast'] + ' ' + df_features['Movie_Director']"
      ],
      "metadata": {
        "id": "_4v6qmIpu8mt"
      },
      "execution_count": 23,
      "outputs": []
    },
    {
      "cell_type": "code",
      "source": [
        "x"
      ],
      "metadata": {
        "colab": {
          "base_uri": "https://localhost:8080/"
        },
        "id": "JVPxnzJmvwSc",
        "outputId": "e4cc4886-60a4-4221-a6ac-80db02a350d5"
      },
      "execution_count": 24,
      "outputs": [
        {
          "output_type": "execute_result",
          "data": {
            "text/plain": [
              "0       Crime Comedy Crime Comedy hotel new year's eve...\n",
              "1       Adventure Action Science Fiction Adventure Act...\n",
              "2       Animation Family Animation Family father son r...\n",
              "3       Comedy Drama Romance Comedy Drama Romance viet...\n",
              "4       Drama Drama male nudity female nudity adultery...\n",
              "                              ...                        \n",
              "4755                                                  NaN\n",
              "4756                                                  NaN\n",
              "4757    Thriller Drama Thriller Drama christian film s...\n",
              "4758                                                  NaN\n",
              "4759                                                  NaN\n",
              "Length: 4760, dtype: object"
            ]
          },
          "metadata": {},
          "execution_count": 24
        }
      ]
    },
    {
      "cell_type": "code",
      "source": [
        "x.shape"
      ],
      "metadata": {
        "colab": {
          "base_uri": "https://localhost:8080/"
        },
        "id": "yBsvI7ynv6yc",
        "outputId": "162cdab6-8c55-485b-c655-dbd3d868cc4c"
      },
      "execution_count": 25,
      "outputs": [
        {
          "output_type": "execute_result",
          "data": {
            "text/plain": [
              "(4760,)"
            ]
          },
          "metadata": {},
          "execution_count": 25
        }
      ]
    },
    {
      "cell_type": "code",
      "source": [
        "from sklearn.feature_extraction.text import TfidfVectorizer"
      ],
      "metadata": {
        "id": "t2aK9ZHNv976"
      },
      "execution_count": 26,
      "outputs": []
    },
    {
      "cell_type": "code",
      "source": [
        "tfidf = TfidfVectorizer()"
      ],
      "metadata": {
        "id": "B3uvKl6fwTKS"
      },
      "execution_count": 27,
      "outputs": []
    },
    {
      "cell_type": "code",
      "source": [
        "x = x.dropna()"
      ],
      "metadata": {
        "id": "1DEYOMLowdGY"
      },
      "execution_count": 28,
      "outputs": []
    },
    {
      "cell_type": "code",
      "source": [
        "x = tfidf.fit_transform(x)"
      ],
      "metadata": {
        "id": "Z9kYU_x6ya-v"
      },
      "execution_count": 29,
      "outputs": []
    },
    {
      "cell_type": "code",
      "source": [
        "x.shape"
      ],
      "metadata": {
        "colab": {
          "base_uri": "https://localhost:8080/"
        },
        "id": "bgIAgXx3yfo4",
        "outputId": "94806e88-7fcf-48f3-b5a4-88cc31a30531"
      },
      "execution_count": 30,
      "outputs": [
        {
          "output_type": "execute_result",
          "data": {
            "text/plain": [
              "(3736, 14759)"
            ]
          },
          "metadata": {},
          "execution_count": 30
        }
      ]
    },
    {
      "cell_type": "code",
      "source": [
        "print(x)"
      ],
      "metadata": {
        "colab": {
          "base_uri": "https://localhost:8080/"
        },
        "id": "klj_cxltyoLM",
        "outputId": "4716e612-6c7f-4e7b-9f58-eb43991626d8"
      },
      "execution_count": 31,
      "outputs": [
        {
          "output_type": "stream",
          "name": "stdout",
          "text": [
            "  (0, 533)\t0.1637447467602223\n",
            "  (0, 428)\t0.1439256932200449\n",
            "  (0, 13193)\t0.1451644959108804\n",
            "  (0, 8247)\t0.1416325541451009\n",
            "  (0, 8077)\t0.1668042538813181\n",
            "  (0, 1178)\t0.1668042538813181\n",
            "  (0, 6720)\t0.09704733833155803\n",
            "  (0, 1034)\t0.13954818433685812\n",
            "  (0, 633)\t0.13587437048620946\n",
            "  (0, 11181)\t0.14275044748674795\n",
            "  (0, 13141)\t0.10610484989532576\n",
            "  (0, 7722)\t0.0846977057857913\n",
            "  (0, 9512)\t0.06045375499289586\n",
            "  (0, 14351)\t0.17451359610984035\n",
            "  (0, 4823)\t0.08311692258964265\n",
            "  (0, 14317)\t0.10475668056008032\n",
            "  (0, 6783)\t0.13127654963154292\n",
            "  (0, 13017)\t0.09170795962000015\n",
            "  (0, 9578)\t0.07051411323027929\n",
            "  (0, 3325)\t0.11796383695812003\n",
            "  (0, 4727)\t0.11246602278860261\n",
            "  (0, 6061)\t0.19256194057081252\n",
            "  (0, 6401)\t0.14292744310103636\n",
            "  (0, 1273)\t0.1955078953833147\n",
            "  (0, 7859)\t0.1493418963736232\n",
            "  :\t:\n",
            "  (3734, 4823)\t0.3200411587969199\n",
            "  (3735, 1631)\t0.2816173201590683\n",
            "  (3735, 6612)\t0.2816173201590683\n",
            "  (3735, 1886)\t0.2816173201590683\n",
            "  (3735, 702)\t0.2816173201590683\n",
            "  (3735, 12126)\t0.2816173201590683\n",
            "  (3735, 4987)\t0.24027145746257503\n",
            "  (3735, 13280)\t0.24027145746257503\n",
            "  (3735, 12455)\t0.23586442216222922\n",
            "  (3735, 1010)\t0.18622424353633865\n",
            "  (3735, 2978)\t0.1933604146871605\n",
            "  (3735, 5712)\t0.21739500846415546\n",
            "  (3735, 11830)\t0.1594605139088677\n",
            "  (3735, 11740)\t0.14676482224177648\n",
            "  (3735, 9333)\t0.18811068493826982\n",
            "  (3735, 4685)\t0.12930108475320543\n",
            "  (3735, 2517)\t0.16380939282496143\n",
            "  (3735, 7244)\t0.2319771415331778\n",
            "  (3735, 5948)\t0.16475242096640355\n",
            "  (3735, 7171)\t0.17538238087769187\n",
            "  (3735, 13095)\t0.14812763140967208\n",
            "  (3735, 13165)\t0.09207673886787385\n",
            "  (3735, 6577)\t0.10870749420337975\n",
            "  (3735, 9287)\t0.13912406706553682\n",
            "  (3735, 3850)\t0.11757286198505404\n"
          ]
        }
      ]
    },
    {
      "cell_type": "code",
      "source": [
        "from sklearn.metrics.pairwise import cosine_similarity"
      ],
      "metadata": {
        "id": "Ht8qv3Osyux5"
      },
      "execution_count": 32,
      "outputs": []
    },
    {
      "cell_type": "code",
      "source": [
        "similarity_score = cosine_similarity(x)"
      ],
      "metadata": {
        "id": "l6s5J-p43QAb"
      },
      "execution_count": 33,
      "outputs": []
    },
    {
      "cell_type": "code",
      "source": [
        "similarity_score"
      ],
      "metadata": {
        "colab": {
          "base_uri": "https://localhost:8080/"
        },
        "id": "Ul7_6rs63amM",
        "outputId": "cc87ebc0-9f39-4d27-f415-a9314c48ba6e"
      },
      "execution_count": 34,
      "outputs": [
        {
          "output_type": "execute_result",
          "data": {
            "text/plain": [
              "array([[1.        , 0.01230704, 0.03225507, ..., 0.01007964, 0.07529102,\n",
              "        0.        ],\n",
              "       [0.01230704, 1.        , 0.00717239, ..., 0.01320715, 0.05194009,\n",
              "        0.        ],\n",
              "       [0.03225507, 0.00717239, 1.        , ..., 0.01876193, 0.10800864,\n",
              "        0.        ],\n",
              "       ...,\n",
              "       [0.01007964, 0.01320715, 0.01876193, ..., 1.        , 0.01406863,\n",
              "        0.01479139],\n",
              "       [0.07529102, 0.05194009, 0.10800864, ..., 0.01406863, 1.        ,\n",
              "        0.        ],\n",
              "       [0.        , 0.        , 0.        , ..., 0.01479139, 0.        ,\n",
              "        1.        ]])"
            ]
          },
          "metadata": {},
          "execution_count": 34
        }
      ]
    },
    {
      "cell_type": "code",
      "source": [
        "similarity_score.shape"
      ],
      "metadata": {
        "colab": {
          "base_uri": "https://localhost:8080/"
        },
        "id": "CxSXQ65p3jOT",
        "outputId": "d4e0e937-951a-4f7e-b55b-e7364487dbff"
      },
      "execution_count": 35,
      "outputs": [
        {
          "output_type": "execute_result",
          "data": {
            "text/plain": [
              "(3736, 3736)"
            ]
          },
          "metadata": {},
          "execution_count": 35
        }
      ]
    },
    {
      "cell_type": "code",
      "source": [
        "favorite_movie_name = input('Enter your favorite movie name: ')"
      ],
      "metadata": {
        "colab": {
          "base_uri": "https://localhost:8080/"
        },
        "id": "DuGFIw4Z3nZc",
        "outputId": "d3eb1b21-883f-4783-aa74-17961e6e7f95"
      },
      "execution_count": 36,
      "outputs": [
        {
          "name": "stdout",
          "output_type": "stream",
          "text": [
            "Enter your favorite movie name: avtaar\n"
          ]
        }
      ]
    },
    {
      "cell_type": "code",
      "source": [
        "all_movie_title_list = df['Movie_Title'].tolist()"
      ],
      "metadata": {
        "id": "MgEsKmAQ37hf"
      },
      "execution_count": 37,
      "outputs": []
    },
    {
      "cell_type": "code",
      "source": [
        "import difflib"
      ],
      "metadata": {
        "id": "nDMBzDur4B0G"
      },
      "execution_count": 39,
      "outputs": []
    },
    {
      "cell_type": "code",
      "source": [
        "movie_recommendation = difflib.get_close_matches(favorite_movie_name, all_movie_title_list)"
      ],
      "metadata": {
        "id": "abEcpxrA4KQ6"
      },
      "execution_count": 40,
      "outputs": []
    },
    {
      "cell_type": "code",
      "source": [
        "print(movie_recommendation)"
      ],
      "metadata": {
        "colab": {
          "base_uri": "https://localhost:8080/"
        },
        "id": "EVbUxqzF4e_k",
        "outputId": "4d4b6ea3-2c2b-473e-fcb3-cc67403f76df"
      },
      "execution_count": 41,
      "outputs": [
        {
          "output_type": "stream",
          "name": "stdout",
          "text": [
            "['Avatar', 'Gattaca']\n"
          ]
        }
      ]
    },
    {
      "cell_type": "code",
      "source": [
        "close_match = movie_recommendation[0]\n",
        "print(close_match)"
      ],
      "metadata": {
        "colab": {
          "base_uri": "https://localhost:8080/"
        },
        "id": "0VVk2ILk4oOa",
        "outputId": "ad5a0579-0896-407e-9fe6-ff2aa3ebb177"
      },
      "execution_count": 42,
      "outputs": [
        {
          "output_type": "stream",
          "name": "stdout",
          "text": [
            "Avatar\n"
          ]
        }
      ]
    },
    {
      "cell_type": "code",
      "source": [
        "index_of_close_match_movie = df[df.Movie_Title == close_match]['Movie_ID'].values[0]\n",
        "print(index_of_close_match_movie)"
      ],
      "metadata": {
        "colab": {
          "base_uri": "https://localhost:8080/"
        },
        "id": "DOKM61qX4xky",
        "outputId": "d8830fcc-8a62-446e-ba27-e04d7731337f"
      },
      "execution_count": 43,
      "outputs": [
        {
          "output_type": "stream",
          "name": "stdout",
          "text": [
            "2692\n"
          ]
        }
      ]
    },
    {
      "cell_type": "code",
      "source": [
        "recommendation_score = list(enumerate(similarity_score[index_of_close_match_movie]))\n",
        "print(recommendation_score)"
      ],
      "metadata": {
        "colab": {
          "base_uri": "https://localhost:8080/"
        },
        "id": "JhJGpdrr49om",
        "outputId": "90f80ac3-320e-468b-a6ef-f8736ff1e80d"
      },
      "execution_count": 44,
      "outputs": [
        {
          "output_type": "stream",
          "name": "stdout",
          "text": [
            "[(0, 0.035587798698074255), (1, 0.0), (2, 0.0031918794882574582), (3, 0.06347669660965466), (4, 0.012625365371317608), (5, 0.018632799178640344), (6, 0.008107079820047922), (7, 0.016640740878227457), (8, 0.016048832903267862), (9, 0.003956199562355717), (10, 0.023111218729296494), (11, 0.024935040250345077), (12, 0.012511851239670014), (13, 0.047839823066940984), (14, 0.08094048097680231), (15, 0.009979933184302741), (16, 0.008335385909746524), (17, 0.03724786178103332), (18, 0.011569282695845451), (19, 0.020961307545591876), (20, 0.012567498909434028), (21, 0.02107172768096018), (22, 0.045861928143340586), (23, 0.029281295108669926), (24, 0.049912762931306545), (25, 0.011667232496945831), (26, 0.0), (27, 0.018603027971061722), (28, 0.07367319686050447), (29, 0.0), (30, 0.011015460888273805), (31, 0.015589293839598296), (32, 0.05123428334378954), (33, 0.012440684126612762), (34, 0.035185778280250254), (35, 0.0), (36, 0.01763309824535455), (37, 0.03000057972474465), (38, 0.007307922273146027), (39, 0.029533461336259018), (40, 0.022981085960242106), (41, 0.03481621652326822), (42, 0.015341068824647173), (43, 0.02412801095352069), (44, 0.0), (45, 0.0), (46, 0.02533813991457127), (47, 0.0810274414710361), (48, 0.014928031521378542), (49, 0.03989884571910163), (50, 0.017878851074880422), (51, 0.02151987388125075), (52, 0.00731643624878635), (53, 0.00820546998906235), (54, 0.02207677672276329), (55, 0.01979491986385653), (56, 0.009042774415316703), (57, 0.015476024027119482), (58, 0.05464460918203458), (59, 0.0258400478558361), (60, 0.06593335967004627), (61, 0.06357797555716149), (62, 0.015742704926411256), (63, 0.011162521845450284), (64, 0.019416685444652325), (65, 0.021537964055340215), (66, 0.03643941107693169), (67, 0.0), (68, 0.03901213096090139), (69, 0.01137452040033418), (70, 0.036332005636534055), (71, 0.020226318577640064), (72, 0.0185954263265477), (73, 0.005860431350488216), (74, 0.0), (75, 0.00841613437376349), (76, 0.03607261497977954), (77, 0.0033504226327489743), (78, 0.0), (79, 0.036600323634044654), (80, 0.010321341018816679), (81, 0.011088181981536665), (82, 0.04889217646610574), (83, 0.07876054266502852), (84, 0.0334358381637302), (85, 0.003113915601904409), (86, 0.008934024001356402), (87, 0.0), (88, 0.016350171091544102), (89, 0.01023133063384492), (90, 0.007407936870787264), (91, 0.0033465723822448962), (92, 0.0), (93, 0.028311336629132242), (94, 0.013477269793123437), (95, 0.011771888563527911), (96, 0.0), (97, 0.0), (98, 0.008258867613900565), (99, 0.012440266886589495), (100, 0.04684807489599482), (101, 0.022025738788959408), (102, 0.08838499891009449), (103, 0.027886085061118893), (104, 0.022509868548769785), (105, 0.06076018509584191), (106, 0.033072045695114294), (107, 0.04668029939539922), (108, 0.01788133102523258), (109, 0.0148404383172395), (110, 0.05410695383275303), (111, 0.053714255723985804), (112, 0.04293589614297543), (113, 0.03538634805548982), (114, 0.0), (115, 0.036187732949893886), (116, 0.025174506494625118), (117, 0.04994261925476151), (118, 0.02847065541947789), (119, 0.04176157100568534), (120, 0.03622531573594415), (121, 0.007293430140192463), (122, 0.011270417199166858), (123, 0.018560025091796474), (124, 0.0), (125, 0.09952428770833299), (126, 0.021745675529751107), (127, 0.05238735146052517), (128, 0.03461597814739043), (129, 0.007361279920937726), (130, 0.010806841157122066), (131, 0.018022869692080112), (132, 0.011103438150062714), (133, 0.016319020371486644), (134, 0.015249279570259898), (135, 0.035790738644483545), (136, 0.061720171647383235), (137, 0.0), (138, 0.04532894295698551), (139, 0.015663026664482667), (140, 0.0033499547057543174), (141, 0.009696432042306373), (142, 0.01778765134760952), (143, 0.014880438482882147), (144, 0.0035137691650074985), (145, 0.021430673112926388), (146, 0.011314783922858125), (147, 0.021275934756942855), (148, 0.05237394071995992), (149, 0.010693357289427606), (150, 0.03577525964575764), (151, 0.028313725885086342), (152, 0.06679378748967194), (153, 0.012263579347988541), (154, 0.0), (155, 0.01777156292453231), (156, 0.01624157013600986), (157, 0.013743020072012413), (158, 0.02712623678131957), (159, 0.02906131883325353), (160, 0.06431687209778969), (161, 0.05523195263479273), (162, 0.0034772361211343754), (163, 0.03530454494147458), (164, 0.019237671012883466), (165, 0.04512119264746266), (166, 0.011709136516073996), (167, 0.0625896887533174), (168, 0.003560780022625064), (169, 0.0), (170, 0.02269050865446424), (171, 0.04136999602136907), (172, 0.01655092317604826), (173, 0.01333404668094411), (174, 0.020012575689298588), (175, 0.0031144697028816885), (176, 0.0), (177, 0.01481516511305742), (178, 0.010167669626006874), (179, 0.019618871287350362), (180, 0.06162960878608105), (181, 0.06438291620096621), (182, 0.04759501720275589), (183, 0.060865554601299665), (184, 0.035772733049426644), (185, 0.03975374882379338), (186, 0.016761380815518673), (187, 0.010460471099431691), (188, 0.003822163908357708), (189, 0.05834535242318211), (190, 0.011413358871713783), (191, 0.08372886932684048), (192, 0.0238926606499218), (193, 0.01234614535146652), (194, 0.0), (195, 0.034707541096451085), (196, 0.022318624961189647), (197, 0.08297249444727346), (198, 0.06501438780781188), (199, 0.011249583024489066), (200, 0.03788191402856736), (201, 0.036829698903746204), (202, 0.01610073123634714), (203, 0.03286241680814624), (204, 0.04825701398787541), (205, 0.04919754505916644), (206, 0.007693487872365287), (207, 0.04330605761461298), (208, 0.03169942532344455), (209, 0.011400391284762605), (210, 0.029858827300352733), (211, 0.1024701701497831), (212, 0.020128222552543977), (213, 0.020503255391562), (214, 0.03323094190189284), (215, 0.006342535183252852), (216, 0.03764791998184186), (217, 0.03566471321378977), (218, 0.0), (219, 0.00983352872415161), (220, 0.013627861443960663), (221, 0.010981202837031984), (222, 0.024983523048106818), (223, 0.027012690507938815), (224, 0.01941834329816352), (225, 0.010196588201205736), (226, 0.0), (227, 0.028421840519959468), (228, 0.02351892461748176), (229, 0.0), (230, 0.036817141321761), (231, 0.011510299742559972), (232, 0.04813634868352818), (233, 0.061989564012552435), (234, 0.004144727555553349), (235, 0.028998590546530787), (236, 0.03837341939323928), (237, 0.04039647756556237), (238, 0.009012696197947286), (239, 0.037487914328574456), (240, 0.0), (241, 0.014471751746514556), (242, 0.0034773214880509887), (243, 0.003527884105703443), (244, 0.06801030273649789), (245, 0.07007907569263068), (246, 0.04089098412770638), (247, 0.0), (248, 0.040309234961899615), (249, 0.0098450761480227), (250, 0.010705771644667487), (251, 0.04098260332936982), (252, 0.019622326987959127), (253, 0.0343203328692174), (254, 0.03893251394423761), (255, 0.006185337261863689), (256, 0.013558502655401957), (257, 0.04963966198607444), (258, 0.011106745868528776), (259, 0.038932490681669686), (260, 0.0465952319445376), (261, 0.053786361136693786), (262, 0.037564089823664035), (263, 0.024642791047600646), (264, 0.03688018527137588), (265, 0.003573423204504259), (266, 0.010734270590466348), (267, 0.01007098764351927), (268, 0.027807297159615045), (269, 0.018126203340659872), (270, 0.032657398917385456), (271, 0.0), (272, 0.010554903988922145), (273, 0.021351479481342805), (274, 0.011298093110412253), (275, 0.015191947496725594), (276, 0.025668259156404256), (277, 0.018484350063075326), (278, 0.023244896054854292), (279, 0.027292441513850366), (280, 0.003682681994192238), (281, 0.006112603440535218), (282, 0.010412368524323812), (283, 0.03603679817267049), (284, 0.0), (285, 0.0), (286, 0.05423670694465466), (287, 0.02091075830427888), (288, 0.016902351264775253), (289, 0.04826013045386387), (290, 0.021297864601129923), (291, 0.014022394061106487), (292, 0.04236361275467217), (293, 0.006652914549931158), (294, 0.018239564064496443), (295, 0.007248609066293747), (296, 0.0), (297, 0.04592267951198863), (298, 0.07195925756590504), (299, 0.030649673610523082), (300, 0.0), (301, 0.01321334459067414), (302, 0.043924868758026564), (303, 0.020877998448484623), (304, 0.021346528007550727), (305, 0.05784032326939037), (306, 0.030629926956185962), (307, 0.045486891477414554), (308, 0.03161101499721424), (309, 0.03682368833503227), (310, 0.02235265016091456), (311, 0.009818294883715212), (312, 0.006322568348363654), (313, 0.044429962637857215), (314, 0.0033076454971682316), (315, 0.04119724407913084), (316, 0.017069389441161986), (317, 0.02707081065074786), (318, 0.028478040595030354), (319, 0.006818314226368592), (320, 0.014698967100921185), (321, 0.02407597903964329), (322, 0.06697170321391528), (323, 0.02703616984298607), (324, 0.01793188336229687), (325, 0.037307623565836404), (326, 0.0371885954250455), (327, 0.029944104063311598), (328, 0.011450320260881556), (329, 0.054214647848742234), (330, 0.020689654126054), (331, 0.003438557522678684), (332, 0.029169628632359678), (333, 0.030268561929536576), (334, 0.035660356323248085), (335, 0.05444767977720789), (336, 0.05834785143214598), (337, 0.05038652822004513), (338, 0.010696786331031516), (339, 0.006851497865552018), (340, 0.018957457125771602), (341, 0.015728397735489525), (342, 0.0424192068969719), (343, 0.010137023877559007), (344, 0.015819422978465204), (345, 0.01855218556171867), (346, 0.014220985430513849), (347, 0.021263042854112617), (348, 0.014358488121677336), (349, 0.011741965952067735), (350, 0.03332746522158112), (351, 0.031729539590231046), (352, 0.04926405598932443), (353, 0.023463888191713404), (354, 0.0), (355, 0.0), (356, 0.04326760018526192), (357, 0.02641157446618286), (358, 0.0), (359, 0.004089620943065934), (360, 0.022269400766634324), (361, 0.0), (362, 0.013516895411066883), (363, 0.00752748431103057), (364, 0.09921565946181235), (365, 0.006414217704443801), (366, 0.02065079484407187), (367, 0.040477954398868116), (368, 0.015463418495605764), (369, 0.0), (370, 0.04314085996814468), (371, 0.013467107182912528), (372, 0.01884899667312795), (373, 0.012895024235326406), (374, 0.01149326696890524), (375, 0.0), (376, 0.04138626830223825), (377, 0.01117182593272667), (378, 0.011593195245848169), (379, 0.014592561573210686), (380, 0.04442254853597283), (381, 0.01440818199920052), (382, 0.13508862925374915), (383, 0.06192503548013323), (384, 0.05868602486792705), (385, 0.016906296170645436), (386, 0.045603379581504525), (387, 0.003381754882230289), (388, 0.03389640864105689), (389, 0.06267410609047845), (390, 0.016243009774451228), (391, 0.015592738183893671), (392, 0.0340877884142127), (393, 0.03820389396456949), (394, 0.038573180009898546), (395, 0.004026312907469836), (396, 0.020517594320560106), (397, 0.028691874319981398), (398, 0.0), (399, 0.004200126442872314), (400, 0.04685451617372807), (401, 0.025259607235740354), (402, 0.017804092983943337), (403, 0.023042752391866837), (404, 0.012033474684155235), (405, 0.01208660794016964), (406, 0.01032319758730293), (407, 0.04530247624254469), (408, 0.030432586984792582), (409, 0.0), (410, 0.02179430056608785), (411, 0.0), (412, 0.032310471517060645), (413, 0.01935307701436008), (414, 0.02085879983910657), (415, 0.013016804009279428), (416, 0.013487564603066658), (417, 0.013354389266938556), (418, 0.022259305890703966), (419, 0.018147215384134968), (420, 0.019765532285907092), (421, 0.04894261407984962), (422, 0.01687211105792493), (423, 0.012873144262644319), (424, 0.014919993357096279), (425, 0.026939778178406204), (426, 0.008962597354776995), (427, 0.017697214861125136), (428, 0.05492409056841759), (429, 0.07070690596194279), (430, 0.010802488188585431), (431, 0.012995760190212079), (432, 0.01477960838593404), (433, 0.0073504323167077395), (434, 0.03116116161776084), (435, 0.052010457460344744), (436, 0.04773982168377681), (437, 0.019092545580692767), (438, 0.01437398011249273), (439, 0.019349106820865013), (440, 0.024358043932633654), (441, 0.0194047874822446), (442, 0.050394378979881777), (443, 0.06401077292059568), (444, 0.04378089012096749), (445, 0.032043677647077114), (446, 0.017701987207789666), (447, 0.026678577295006594), (448, 0.010305764561596528), (449, 0.012802025268582543), (450, 0.031721586160397), (451, 0.005020444468942211), (452, 0.020399818478894688), (453, 0.010262154470319343), (454, 0.03851832928930825), (455, 0.028420625018957667), (456, 0.048488629413408965), (457, 0.04921468633308097), (458, 0.013539678566983225), (459, 0.05319809824417043), (460, 0.016278199820328586), (461, 0.01736859635379052), (462, 0.012961655184199465), (463, 0.007301477911326964), (464, 0.006496721123621491), (465, 0.01236408084392985), (466, 0.014804976555907443), (467, 0.05757371322497608), (468, 0.018225663521817845), (469, 0.029216775340832432), (470, 0.03511161174872246), (471, 0.011747557061958777), (472, 0.06830311978097624), (473, 0.021314296785881995), (474, 0.013891982596520337), (475, 0.0), (476, 0.0), (477, 0.03670284563770139), (478, 0.0), (479, 0.03567354074470757), (480, 0.016128050663794254), (481, 0.06879443058754257), (482, 0.03750393585098318), (483, 0.011385281596283076), (484, 0.038797659028743346), (485, 0.04273801626924879), (486, 0.04730787789440985), (487, 0.01996417170031293), (488, 0.021944908851689444), (489, 0.04582762157026208), (490, 0.015230462582757802), (491, 0.05887131420027916), (492, 0.013892265747761163), (493, 0.034263237823800495), (494, 0.042365431966571616), (495, 0.016253405770983123), (496, 0.007094619970770212), (497, 0.10699164016081389), (498, 0.0), (499, 0.00689729279296571), (500, 0.031139120869533313), (501, 0.04595340686460892), (502, 0.012284687540028), (503, 0.04291176219343734), (504, 0.046432121738190085), (505, 0.013983025254397732), (506, 0.04102516726835957), (507, 0.010927800105866636), (508, 0.0033701142257864473), (509, 0.0), (510, 0.044127076322335375), (511, 0.0), (512, 0.03452150075716856), (513, 0.018611479191732245), (514, 0.02276479368631195), (515, 0.007080458198863575), (516, 0.014618140022093967), (517, 0.010869802076645532), (518, 0.0), (519, 0.0037256083353977318), (520, 0.024186168354181713), (521, 0.033809831783373434), (522, 0.024166930160278988), (523, 0.0), (524, 0.04258677736468263), (525, 0.0), (526, 0.019976551351377787), (527, 0.09935261099248051), (528, 0.00924999418303397), (529, 0.0), (530, 0.0), (531, 0.003058364713552668), (532, 0.031082693743630943), (533, 0.0179472089347227), (534, 0.053974881128748466), (535, 0.012042880939374681), (536, 0.010851182972069752), (537, 0.056743683630970834), (538, 0.08691295346853486), (539, 0.01221934905503039), (540, 0.051813563605451585), (541, 0.015531722125954139), (542, 0.0422814780998924), (543, 0.05164817634327382), (544, 0.0648210800785626), (545, 0.014217001648065278), (546, 0.0), (547, 0.0), (548, 0.051914392762618965), (549, 0.027040744702460193), (550, 0.010998731102217914), (551, 0.0037977598646549227), (552, 0.0255574987199683), (553, 0.0), (554, 0.0), (555, 0.011993119277852002), (556, 0.01088367804400711), (557, 0.09033069239319977), (558, 0.03832375121991738), (559, 0.042043772889648466), (560, 0.03478079085062811), (561, 0.11883653041376015), (562, 0.0036563250206874173), (563, 0.014442315073777743), (564, 0.04943835365938504), (565, 0.017729680197693005), (566, 0.0172819909595719), (567, 0.026273431329898442), (568, 0.015244545435227701), (569, 0.00991595827708716), (570, 0.04345771215564899), (571, 0.0), (572, 0.024381881579131102), (573, 0.006187058873272011), (574, 0.02740370810150696), (575, 0.04144627352274851), (576, 0.011062197968417549), (577, 0.0), (578, 0.010073846319950406), (579, 0.011988958924257657), (580, 0.017925665090609583), (581, 0.01530276548702833), (582, 0.02166664006478806), (583, 0.013241682579808347), (584, 0.0), (585, 0.0), (586, 0.031289066581594006), (587, 0.011814394750987), (588, 0.019792989866046554), (589, 0.04311761163585508), (590, 0.0031322989592534943), (591, 0.012256045773233307), (592, 0.027278981797318587), (593, 0.01665626455633793), (594, 0.021401981408123858), (595, 0.03896225948668212), (596, 0.015952602459504285), (597, 0.010458389698260222), (598, 0.03419334869703386), (599, 0.0402698505123153), (600, 0.0), (601, 0.017164765947494), (602, 0.011795421621794096), (603, 0.04407267386162935), (604, 0.0327406651179358), (605, 0.042728077466746395), (606, 0.00753834479069531), (607, 0.03896438387327533), (608, 0.014515767814584371), (609, 0.07413560060010427), (610, 0.07933586904031507), (611, 0.0034078275252379894), (612, 0.02085961926236852), (613, 0.0), (614, 0.02264259189830096), (615, 0.056551792298760166), (616, 0.004029438246960643), (617, 0.002982224274207796), (618, 0.052091453600085935), (619, 0.014292651876836066), (620, 0.05036709813729235), (621, 0.041357902208768615), (622, 0.01265670969636974), (623, 0.0), (624, 0.059400273632142675), (625, 0.03422666780845846), (626, 0.00413992356078253), (627, 0.024858273822360073), (628, 0.06702229131237122), (629, 0.025470719839959872), (630, 0.004063638529374896), (631, 0.0), (632, 0.026078362352750434), (633, 0.051970543075033), (634, 0.13650639821559682), (635, 0.0), (636, 0.02110563434574108), (637, 0.037169235505721474), (638, 0.024519194373276994), (639, 0.06262857332759686), (640, 0.02471626908928861), (641, 0.02527122440205768), (642, 0.0), (643, 0.018505485676666465), (644, 0.07978940714843091), (645, 0.03686334237884709), (646, 0.006752331875438402), (647, 0.032388858272980665), (648, 0.016907607116472913), (649, 0.020747353811288567), (650, 0.047280282138380196), (651, 0.04074757693154289), (652, 0.062470597646809164), (653, 0.022344301592213033), (654, 0.015705669784061467), (655, 0.048118463159119676), (656, 0.03466076904339468), (657, 0.01779575578596239), (658, 0.029115068959393295), (659, 0.09076282350819073), (660, 0.0), (661, 0.019637510818185974), (662, 0.012282479796314154), (663, 0.01641448688594327), (664, 0.0), (665, 0.029319221505757574), (666, 0.013906019504898429), (667, 0.03366857189262686), (668, 0.0), (669, 0.0031083362364053256), (670, 0.052409995480141386), (671, 0.041546665813309805), (672, 0.01276014732257275), (673, 0.01288319734561421), (674, 0.015571697071283457), (675, 0.02259956431466379), (676, 0.048898860742549066), (677, 0.05245954032928234), (678, 0.0312507156007934), (679, 0.0455498876154877), (680, 0.10180837309957703), (681, 0.018282877801112894), (682, 0.029646210196881483), (683, 0.04763144672639952), (684, 0.0541211295819541), (685, 0.039043151581084824), (686, 0.01978898846650456), (687, 0.03993325848076007), (688, 0.013498604479122737), (689, 0.0), (690, 0.019998373066703476), (691, 0.03501002978941541), (692, 0.05322421110355044), (693, 0.011635717684903771), (694, 0.017363917053282763), (695, 0.02973003766745102), (696, 0.04511939588388787), (697, 0.02626323715126285), (698, 0.00321217323087572), (699, 0.0695903420717155), (700, 0.04875725527369162), (701, 0.03199790389781811), (702, 0.04563758464086359), (703, 0.01762765162506632), (704, 0.01297744990627878), (705, 0.00391494055177367), (706, 0.017152349357925215), (707, 0.022016716160099783), (708, 0.07860963062088173), (709, 0.015180173649977202), (710, 0.02122432809996086), (711, 0.016438307756460706), (712, 0.014646000856576177), (713, 0.04310710213513624), (714, 0.04851228469292013), (715, 0.015859625562222077), (716, 0.02361099037777571), (717, 0.0329178338383146), (718, 0.009976450362314915), (719, 0.03688264995142355), (720, 0.049663911441509896), (721, 0.02165335559102505), (722, 0.05705241329984872), (723, 0.04085786568956565), (724, 0.030083196378835796), (725, 0.05834277313329368), (726, 0.037434525850754144), (727, 0.003564680897336675), (728, 0.02152862649683434), (729, 0.04496046463510359), (730, 0.015485728413195763), (731, 0.04248007520626158), (732, 0.04787375067882339), (733, 0.0321812928367005), (734, 0.038328659394817624), (735, 0.018313085044767124), (736, 0.011545138744009868), (737, 0.04752240149539268), (738, 0.006606249819099105), (739, 0.06109644605248872), (740, 0.042722581223789385), (741, 0.02757901641082295), (742, 0.022212174059614436), (743, 0.019465734525382215), (744, 0.02645421989085666), (745, 0.02195497038696809), (746, 0.05150072159043826), (747, 0.03610045775454891), (748, 0.007903171459372842), (749, 0.0061513885797805715), (750, 0.051865926219725356), (751, 0.03668695437264278), (752, 0.03992638426599128), (753, 0.009602118743047902), (754, 0.017925906145590503), (755, 0.025629149398046162), (756, 0.024408125098494816), (757, 0.05445992136145081), (758, 0.022251603531575098), (759, 0.02242759801171941), (760, 0.053869167335961816), (761, 0.0), (762, 0.00678509544358744), (763, 0.025880409719091852), (764, 0.021044631485143683), (765, 0.040972241966915984), (766, 0.008454967037863536), (767, 0.015521936152632934), (768, 0.006006591728862163), (769, 0.006393022437268837), (770, 0.006110303206829569), (771, 0.013236085697699951), (772, 0.011814561635540451), (773, 0.04186011259021863), (774, 0.017148635070978184), (775, 0.025903927576314746), (776, 0.02549381840625372), (777, 0.01754476576972421), (778, 0.037733061280958366), (779, 0.06919228239565745), (780, 0.040540373252575646), (781, 0.11696627303215465), (782, 0.0892745667191494), (783, 0.020129469994105767), (784, 0.014665870123164984), (785, 0.022251526120436037), (786, 0.023246592108700247), (787, 0.0647675204263037), (788, 0.059948803828059075), (789, 0.021291380771126404), (790, 0.0), (791, 0.01041174965157496), (792, 0.04175399948384215), (793, 0.018199077472893902), (794, 0.05308475562147148), (795, 0.010328697859857367), (796, 0.05562331719022705), (797, 0.010893634243907581), (798, 0.021931829915729017), (799, 0.07636200979170159), (800, 0.03243914493407746), (801, 0.06583914250036643), (802, 0.01851502226413147), (803, 0.015369281226641066), (804, 0.020998434407778918), (805, 0.04558177463081177), (806, 0.04283884017909086), (807, 0.06108021247445791), (808, 0.022474305718842177), (809, 0.06205249879724836), (810, 0.0), (811, 0.04793730858520638), (812, 0.0551604902809691), (813, 0.03679214594212879), (814, 0.011815346378043918), (815, 0.003246415805377623), (816, 0.08179530964719393), (817, 0.03660881810934176), (818, 0.05205198177598426), (819, 0.025217875308059846), (820, 0.012850148778945306), (821, 0.02174443164709254), (822, 0.06029553283618691), (823, 0.03956699635735878), (824, 0.01979984964860083), (825, 0.0071871380326420506), (826, 0.022821792196716036), (827, 0.08660825497527792), (828, 0.020175882094600958), (829, 0.057603114032773), (830, 0.033961913799695195), (831, 0.02681884652720057), (832, 0.017332709669143173), (833, 0.02705201063585086), (834, 0.019028376944875813), (835, 0.030532340597139693), (836, 0.01695761980351522), (837, 0.01280312593899925), (838, 0.07134238125788875), (839, 0.025483256669110027), (840, 0.0), (841, 0.010804967583362777), (842, 0.04617807454799684), (843, 0.0187822378128767), (844, 0.003793722997287413), (845, 0.00350548588108206), (846, 0.02334023592838674), (847, 0.010816130160684466), (848, 0.0037670522510220004), (849, 0.020064756411418163), (850, 0.07781439295120428), (851, 0.033597565395388294), (852, 0.04186705760476453), (853, 0.053710376061744974), (854, 0.0), (855, 0.003867880156647686), (856, 0.03862705912451241), (857, 0.04880621975599414), (858, 0.042022675856837), (859, 0.024448771358189823), (860, 0.04112727633214356), (861, 0.02159731500247864), (862, 0.02896835035495498), (863, 0.06152362960966111), (864, 0.03221662124739966), (865, 0.0428506315538231), (866, 0.00963200353873267), (867, 0.05029721944645882), (868, 0.018273109606904668), (869, 0.07598120767412288), (870, 0.05584560740642222), (871, 0.04058991942217795), (872, 0.048407525971274026), (873, 0.02216954464522806), (874, 0.06148310557310968), (875, 0.030645400893445314), (876, 0.0), (877, 0.017910896001809853), (878, 0.02438311166336514), (879, 0.06556777188400771), (880, 0.04123217971786335), (881, 0.03809799435512274), (882, 0.0), (883, 0.04167196599325758), (884, 0.02412394612881128), (885, 0.030657218080136453), (886, 0.03606931134484263), (887, 0.014997239267782436), (888, 0.06002665521456209), (889, 0.013096796466465568), (890, 0.03594120077932341), (891, 0.04268022299318999), (892, 0.0345473938512591), (893, 0.054550013838413514), (894, 0.011330289968326648), (895, 0.060608913319657794), (896, 0.0379169857109852), (897, 0.06850316797802021), (898, 0.0), (899, 0.008112035460244136), (900, 0.03156461003187236), (901, 0.005684394950489899), (902, 0.020278229010241663), (903, 0.030680391530991856), (904, 0.054261911882271), (905, 0.04142839854312306), (906, 0.04050527330699102), (907, 0.061097072644077995), (908, 0.02008922577844104), (909, 0.022430506647354014), (910, 0.011614988781701403), (911, 0.01600830617530794), (912, 0.012386552215174804), (913, 0.0), (914, 0.01574790567930169), (915, 0.0564115319757305), (916, 0.026195456767587607), (917, 0.007028069837631235), (918, 0.013902409065415877), (919, 0.06468585077272086), (920, 0.06524636552785391), (921, 0.0), (922, 0.010789802125182225), (923, 0.019844023867795612), (924, 0.03899725366525306), (925, 0.027321769316592907), (926, 0.036398628879523075), (927, 0.022370047131898274), (928, 0.016159868707548323), (929, 0.003891779519685915), (930, 0.006423894163236988), (931, 0.015279995333418398), (932, 0.007119795171348581), (933, 0.01958434961139408), (934, 0.0), (935, 0.025046324521774493), (936, 0.009042483651868938), (937, 0.03336902676973426), (938, 0.02608115111956471), (939, 0.05029705248066272), (940, 0.015434663207514635), (941, 0.016549323977857026), (942, 0.04544323202513182), (943, 0.037470936606604645), (944, 0.06181561891823157), (945, 0.02171833735535814), (946, 0.019192566550326324), (947, 0.011962605311230544), (948, 0.011370459885142629), (949, 0.05271013969931568), (950, 0.044194343946904975), (951, 0.021987487891560884), (952, 0.018359994870417888), (953, 0.015001606101958921), (954, 0.056988497833083525), (955, 0.006497546910067472), (956, 0.03257241679554184), (957, 0.023100935778020533), (958, 0.0407963914095348), (959, 0.025417023310030734), (960, 0.0), (961, 0.0031349733458453867), (962, 0.028008979802796402), (963, 0.023224981150064765), (964, 0.016168946643604104), (965, 0.039817787640205535), (966, 0.003511131337339924), (967, 0.025424765175634533), (968, 0.012250984723671223), (969, 0.0), (970, 0.023666152930784452), (971, 0.015652001375090843), (972, 0.057931966774940336), (973, 0.04421558899915161), (974, 0.025251086490732683), (975, 0.0), (976, 0.006821407286714487), (977, 0.007404914088788003), (978, 0.009342509452515909), (979, 0.015480209448527654), (980, 0.028215606529355754), (981, 0.03996650656860064), (982, 0.04318902148170981), (983, 0.06166039237678256), (984, 0.03994829255612446), (985, 0.04564432574391526), (986, 0.037989033064899286), (987, 0.05222860751979127), (988, 0.0), (989, 0.01861287483679289), (990, 0.07549268886838226), (991, 0.014838713759804114), (992, 0.0065840995459031494), (993, 0.02639124126998061), (994, 0.04726836448217087), (995, 0.016825289028502017), (996, 0.028144013364233087), (997, 0.00846883223868243), (998, 0.0), (999, 0.01386106796529102), (1000, 0.047821603604933365), (1001, 0.012280123375691527), (1002, 0.017967900479587635), (1003, 0.014073067230412531), (1004, 0.00978802907774922), (1005, 0.02235337801153365), (1006, 0.06652127052638254), (1007, 0.019650433990006804), (1008, 0.011881781251551154), (1009, 0.016521498511079046), (1010, 0.0038411334559774945), (1011, 0.03157324316758565), (1012, 0.032367464531904755), (1013, 0.011071417558778659), (1014, 0.014356971314599114), (1015, 0.07522966178749302), (1016, 0.011784996174408063), (1017, 0.028371686827906265), (1018, 0.05508917141267858), (1019, 0.020963340750369), (1020, 0.033235159739696464), (1021, 0.011993448740916983), (1022, 0.014384442132622964), (1023, 0.026135611762989543), (1024, 0.0244091709859488), (1025, 0.049134265248837156), (1026, 0.0031900526009864777), (1027, 0.04680744879927484), (1028, 0.011154216199418848), (1029, 0.04296511973388972), (1030, 0.045701587045076895), (1031, 0.04127224770815818), (1032, 0.0), (1033, 0.006271477467411606), (1034, 0.019855166216991744), (1035, 0.026169502420689363), (1036, 0.011235319764753058), (1037, 0.01473096160288292), (1038, 0.015383043201356746), (1039, 0.007071383414587897), (1040, 0.0), (1041, 0.022183958997698816), (1042, 0.012173773814206746), (1043, 0.02664124318773274), (1044, 0.04135211657852794), (1045, 0.02354656509101969), (1046, 0.019324675968615306), (1047, 0.015348184976227865), (1048, 0.0), (1049, 0.01767439280477562), (1050, 0.009634463596701958), (1051, 0.10857648222619218), (1052, 0.0038114464309342267), (1053, 0.014507046528981339), (1054, 0.014245408528656718), (1055, 0.010643775306471941), (1056, 0.02992563685641506), (1057, 0.01920357864121373), (1058, 0.012402748305385252), (1059, 0.06114759081092115), (1060, 0.040184447293911414), (1061, 0.014079822140257667), (1062, 0.01975573855659169), (1063, 0.022435278064810535), (1064, 0.015108531994671248), (1065, 0.015084489686152927), (1066, 0.0), (1067, 0.028530123633452316), (1068, 0.03149926206262304), (1069, 0.07720507713772458), (1070, 0.0032971516348704326), (1071, 0.006492599209601215), (1072, 0.022430339943577696), (1073, 0.01209087057206436), (1074, 0.03848553206716285), (1075, 0.012090523805869804), (1076, 0.025244172385986207), (1077, 0.016385853945068148), (1078, 0.023239359691939104), (1079, 0.04062945166995919), (1080, 0.0), (1081, 0.010934310784352464), (1082, 0.05081366415582762), (1083, 0.04735215200288029), (1084, 0.02669195882542733), (1085, 0.012506250365147978), (1086, 0.0), (1087, 0.03964688228601973), (1088, 0.026927633917939953), (1089, 0.026811253518040225), (1090, 0.01534553093894653), (1091, 0.022154155174557693), (1092, 0.009930493467837339), (1093, 0.01484698504438217), (1094, 0.021139374910705576), (1095, 0.014085924343442214), (1096, 0.09113970115589652), (1097, 0.03813668294730137), (1098, 0.093907055854995), (1099, 0.010005304638687023), (1100, 0.043985154254587926), (1101, 0.027548669936068367), (1102, 0.015362741476931058), (1103, 0.03482227130944687), (1104, 0.006819299632587918), (1105, 0.07184784213924765), (1106, 0.009800663939198904), (1107, 0.011026575987196727), (1108, 0.028764980831067065), (1109, 0.012730198473157725), (1110, 0.013278187513840547), (1111, 0.038623401826681114), (1112, 0.024808681810580803), (1113, 0.059554927719166345), (1114, 0.046907407011840166), (1115, 0.011056172835385077), (1116, 0.04062927219856556), (1117, 0.057870813609436196), (1118, 0.015481405799934948), (1119, 0.01277212265466081), (1120, 0.02250430214971812), (1121, 0.042556792418827746), (1122, 0.019807344237391996), (1123, 0.006422786923044485), (1124, 0.015321158485950084), (1125, 0.03747614801125248), (1126, 0.019493665531326046), (1127, 0.0), (1128, 0.014330391249226694), (1129, 0.026731606125393576), (1130, 0.007270419223326213), (1131, 0.03667495590335772), (1132, 0.014729897462889645), (1133, 0.05278815647436371), (1134, 0.03505580055956639), (1135, 0.02513533722694755), (1136, 0.016428627116247423), (1137, 0.0334360596768834), (1138, 0.013946665682880902), (1139, 0.02986235233666664), (1140, 0.03881317343228706), (1141, 0.036256632622272175), (1142, 0.02772013070309818), (1143, 0.04559934138850888), (1144, 0.0370345010746171), (1145, 0.03657381390705876), (1146, 0.010094346093034511), (1147, 0.023999841733712723), (1148, 0.0256768427308756), (1149, 0.0), (1150, 0.032849833360920205), (1151, 0.024292180527477225), (1152, 0.052334299503716125), (1153, 0.0391992237637513), (1154, 0.0), (1155, 0.017377304468201786), (1156, 0.01677605675801273), (1157, 0.05175470304031837), (1158, 0.0), (1159, 0.008286153657228795), (1160, 0.010364751160973979), (1161, 0.024830335525079367), (1162, 0.012210616430446618), (1163, 0.0), (1164, 0.013503706981584224), (1165, 0.00821539328785202), (1166, 0.0), (1167, 0.03919452189832121), (1168, 0.0035488168064165882), (1169, 0.03100777979839551), (1170, 0.0), (1171, 0.022666866530946066), (1172, 0.03462621198625271), (1173, 0.014850125156353863), (1174, 0.0), (1175, 0.0), (1176, 0.04186600691166338), (1177, 0.0), (1178, 0.04149040482526235), (1179, 0.021548141304233662), (1180, 0.05288375123862695), (1181, 0.0), (1182, 0.024574662830329635), (1183, 0.0126377477302739), (1184, 0.010450650709535424), (1185, 0.020648892696332004), (1186, 0.029234484851536596), (1187, 0.026886587694291586), (1188, 0.012420325288626069), (1189, 0.0), (1190, 0.005873445927760178), (1191, 0.026711508748801946), (1192, 0.02705119387198145), (1193, 0.016095318950783623), (1194, 0.025634174431061665), (1195, 0.0206883614952095), (1196, 0.0486418001781484), (1197, 0.00952004234061289), (1198, 0.042128349265560354), (1199, 0.038897552790994605), (1200, 0.07218223933161212), (1201, 0.04654911173416318), (1202, 0.03991976832392823), (1203, 0.025458370720040938), (1204, 0.024921706510980038), (1205, 0.017063384796615393), (1206, 0.044733251645343516), (1207, 0.053050119801695446), (1208, 0.003610918919603187), (1209, 0.0), (1210, 0.005383638058735294), (1211, 0.09972747981769337), (1212, 0.048599866327788684), (1213, 0.04284440870683251), (1214, 0.011706761554083456), (1215, 0.04758514793354856), (1216, 0.019513880140083067), (1217, 0.012715821216136911), (1218, 0.0810245892936371), (1219, 0.012452074562649487), (1220, 0.01245837221684565), (1221, 0.01997957429832925), (1222, 0.0), (1223, 0.06272058037610866), (1224, 0.021814153881826292), (1225, 0.014023246224364997), (1226, 0.008657258639990468), (1227, 0.01546830418020107), (1228, 0.011913948161439297), (1229, 0.03494341953948678), (1230, 0.01929470104185479), (1231, 0.04187083934901194), (1232, 0.030985151865276835), (1233, 0.012562194395406224), (1234, 0.02256504987312795), (1235, 0.07234080971000412), (1236, 0.0), (1237, 0.0043223852443614414), (1238, 0.024761049552399557), (1239, 0.048731204762259867), (1240, 0.030085390107391866), (1241, 0.0036057191273029796), (1242, 0.012930205272866183), (1243, 0.01725860239564568), (1244, 0.050019352328720665), (1245, 0.013093586848929768), (1246, 0.021191166438014934), (1247, 0.0334512142457162), (1248, 0.012391567933470671), (1249, 0.010023637336271042), (1250, 0.017528219186719828), (1251, 0.0), (1252, 0.06002908385421306), (1253, 0.032131992085058854), (1254, 0.01488011398254823), (1255, 0.031695130799575866), (1256, 0.09352611411965847), (1257, 0.06750000082982048), (1258, 0.06231005009346921), (1259, 0.0584684400354459), (1260, 0.02289037524959494), (1261, 0.017572719911625564), (1262, 0.02317489498740347), (1263, 0.022916245051029936), (1264, 0.05749066123278925), (1265, 0.01783612869087072), (1266, 0.032531836696629575), (1267, 0.02218294194082913), (1268, 0.027206182559066136), (1269, 0.01766508545989967), (1270, 0.03731202309574676), (1271, 0.05584944003959412), (1272, 0.01222964022131148), (1273, 0.003993579109653866), (1274, 0.0699836681091272), (1275, 0.022405054061412803), (1276, 0.00982549859738666), (1277, 0.01792608050545228), (1278, 0.014948197556796041), (1279, 0.016951560945316756), (1280, 0.014962919801801084), (1281, 0.052925953777498855), (1282, 0.0205749772298198), (1283, 0.0), (1284, 0.04666494216452335), (1285, 0.03831319960711035), (1286, 0.05051225272481873), (1287, 0.003048627546842203), (1288, 0.014091447061645695), (1289, 0.059470277064387955), (1290, 0.0), (1291, 0.012094400365350163), (1292, 0.029694823730877375), (1293, 0.0406452693090648), (1294, 0.057055130878455894), (1295, 0.014959176377882615), (1296, 0.04327852029600783), (1297, 0.0), (1298, 0.006800501366612815), (1299, 0.05891077955568381), (1300, 0.03756536291097737), (1301, 0.05396404112067142), (1302, 0.06538958117426662), (1303, 0.040261019398905175), (1304, 0.025476052711607376), (1305, 0.01737131669743296), (1306, 0.01846428279674115), (1307, 0.05291221648538472), (1308, 0.015585215593883685), (1309, 0.0), (1310, 0.03160169475768004), (1311, 0.08551334138529752), (1312, 0.03737077373058429), (1313, 0.034760513482514854), (1314, 0.06977321798329873), (1315, 0.003910218340016211), (1316, 0.0445152970156157), (1317, 0.04656892540698178), (1318, 0.043142694047066825), (1319, 0.026323707273685056), (1320, 0.015485920273324079), (1321, 0.04402224744821922), (1322, 0.030986213491853345), (1323, 0.0038802797747327705), (1324, 0.03739025212919649), (1325, 0.012413084237628323), (1326, 0.01180716466467209), (1327, 0.045152078716141394), (1328, 0.02129218195541223), (1329, 0.021329041491770756), (1330, 0.04422637216407701), (1331, 0.06307521464645144), (1332, 0.018315558114542784), (1333, 0.02911960386884474), (1334, 0.010354082430865467), (1335, 0.007018303912012692), (1336, 0.0), (1337, 0.04544072618951636), (1338, 0.038532646086198184), (1339, 0.0), (1340, 0.021638896236331896), (1341, 0.04631825552890401), (1342, 0.0), (1343, 0.014627589927813291), (1344, 0.024586506102747666), (1345, 0.033135058323251886), (1346, 0.010964891074919308), (1347, 0.05398372470709991), (1348, 0.029108486118852646), (1349, 0.07651820258984544), (1350, 0.00885228327382639), (1351, 0.005825412182455677), (1352, 0.016163051825195975), (1353, 0.0769312512937036), (1354, 0.02412913950659191), (1355, 0.04077482829449939), (1356, 0.05776112823244108), (1357, 0.015148592233653287), (1358, 0.024477437575538594), (1359, 0.04562157164646319), (1360, 0.061509562955231814), (1361, 0.03667205315790747), (1362, 0.011232752802567959), (1363, 0.059257116691098774), (1364, 0.02499437354241193), (1365, 0.011381667582704156), (1366, 0.04630522893544432), (1367, 0.01942841772051128), (1368, 0.012520287251158824), (1369, 0.03838759718961497), (1370, 0.027033682447319067), (1371, 0.05545178834420445), (1372, 0.03418359782485007), (1373, 0.06708446307837351), (1374, 0.014491077871045581), (1375, 0.061273568853651504), (1376, 0.01608587813775677), (1377, 0.09860320913159988), (1378, 0.029735026635474844), (1379, 0.020809354619198292), (1380, 0.021322222722471668), (1381, 0.04494806787465163), (1382, 0.06829529451295346), (1383, 0.012052473852924947), (1384, 0.02500671854572218), (1385, 0.0), (1386, 0.020763904563741498), (1387, 0.08087134618246451), (1388, 0.01704371194932358), (1389, 0.022362320183504286), (1390, 0.02576108990200662), (1391, 0.04749815922547013), (1392, 0.003884250032578013), (1393, 0.0), (1394, 0.030436231221839832), (1395, 0.009759424554583222), (1396, 0.02765351075805136), (1397, 0.022839595351802525), (1398, 0.10493203388087569), (1399, 0.02421900116899646), (1400, 0.02007775641107644), (1401, 0.01590683855580115), (1402, 0.00750364645242211), (1403, 0.04219451998471501), (1404, 0.030120641698758145), (1405, 0.018934373224423384), (1406, 0.024282557881162802), (1407, 0.025992312117178715), (1408, 0.024755486834443508), (1409, 0.0), (1410, 0.024675608113767074), (1411, 0.0), (1412, 0.014409671710080377), (1413, 0.05397429311166454), (1414, 0.015920652840528463), (1415, 0.009691213165408115), (1416, 0.04646449921940188), (1417, 0.039407221713652615), (1418, 0.01684463522608761), (1419, 0.06253438363649647), (1420, 0.0), (1421, 0.025459235663434273), (1422, 0.015448673612489758), (1423, 0.056690927115275944), (1424, 0.014481634669056229), (1425, 0.014426228564117781), (1426, 0.015575119482852397), (1427, 0.023683729737861606), (1428, 0.041493531909557506), (1429, 0.011889304373428186), (1430, 0.010065379665689489), (1431, 0.020288444327812957), (1432, 0.03689223113256919), (1433, 0.01600704529594266), (1434, 0.014473854763053098), (1435, 0.0), (1436, 0.051785761299155235), (1437, 0.05810536962204941), (1438, 0.003258482539472307), (1439, 0.02183472302612884), (1440, 0.0), (1441, 0.024875469966504877), (1442, 0.019468820228171625), (1443, 0.04632495029231548), (1444, 0.01306582704020216), (1445, 0.01946369426433308), (1446, 0.003430756697438485), (1447, 0.037747059012392725), (1448, 0.04398287358526324), (1449, 0.03446026824006971), (1450, 0.0), (1451, 0.016001103399187963), (1452, 0.0199092409772599), (1453, 0.0), (1454, 0.02671955988794434), (1455, 0.018932133261024314), (1456, 0.01042601088654343), (1457, 0.012800151413488491), (1458, 0.016443464068861612), (1459, 0.025745535968828115), (1460, 0.027854639177076996), (1461, 0.01022035812292308), (1462, 0.05011058328551536), (1463, 0.02433977142593162), (1464, 0.02626342424344881), (1465, 0.0), (1466, 0.09915557057182003), (1467, 0.0), (1468, 0.035221687165811935), (1469, 0.06867444283372429), (1470, 0.013775635453129365), (1471, 0.015755741881311038), (1472, 0.044370007038238714), (1473, 0.026076294826559314), (1474, 0.015386692946312541), (1475, 0.0), (1476, 0.013007667031930724), (1477, 0.014980011070009685), (1478, 0.0), (1479, 0.0), (1480, 0.08522783631816198), (1481, 0.03740824154119044), (1482, 0.0), (1483, 0.023912764121796243), (1484, 0.01637945941205238), (1485, 0.04499913009104267), (1486, 0.015178841183309363), (1487, 0.06078940773354286), (1488, 0.018768075868457284), (1489, 0.034999516061362), (1490, 0.038950111364143065), (1491, 0.04698770402337388), (1492, 0.023123588162475697), (1493, 0.040811255298648194), (1494, 0.07348839068634512), (1495, 0.014745327520867178), (1496, 0.011600743147313812), (1497, 0.0), (1498, 0.0), (1499, 0.031963467096616203), (1500, 0.010783264786353056), (1501, 0.017395565962503225), (1502, 0.009787892805186403), (1503, 0.07378240379866219), (1504, 0.007092822822872499), (1505, 0.040340260513484646), (1506, 0.0035850086259016987), (1507, 0.0), (1508, 0.06678962726174521), (1509, 0.0), (1510, 0.0038591315415628133), (1511, 0.037704172859495406), (1512, 0.014952566747947307), (1513, 0.04209481212508538), (1514, 0.01955843919175446), (1515, 0.011172159721687495), (1516, 0.028648598523938595), (1517, 0.01620204680240624), (1518, 0.02187063582990536), (1519, 0.014424507048827624), (1520, 0.018404841683357397), (1521, 0.006191943916710702), (1522, 0.04653097260541832), (1523, 0.0064748319950409935), (1524, 0.05663022986668514), (1525, 0.0), (1526, 0.013379918491885584), (1527, 0.022306371001441234), (1528, 0.03441905160824616), (1529, 0.006504143872239707), (1530, 0.008466173939489468), (1531, 0.032370917090268354), (1532, 0.00934849665024892), (1533, 0.025516429329306242), (1534, 0.023889888356608324), (1535, 0.029127095256268692), (1536, 0.04617115450502375), (1537, 0.010781545652408167), (1538, 0.04945935378259424), (1539, 0.01424605878134787), (1540, 0.04344118819077577), (1541, 0.010991724275780554), (1542, 0.021222514740345484), (1543, 0.028097305846459707), (1544, 0.012200116876184343), (1545, 0.05373367019465043), (1546, 0.03625101229910489), (1547, 0.02465663839625279), (1548, 0.01792630393257577), (1549, 0.012699288817635474), (1550, 0.05921917617933177), (1551, 0.0187535769133371), (1552, 0.016218131695677766), (1553, 0.042292868542879856), (1554, 0.024054908506943022), (1555, 0.06076151156670071), (1556, 0.01665271819589003), (1557, 0.010336488892629272), (1558, 0.05041715273251494), (1559, 0.013412759620858009), (1560, 0.04881967828303038), (1561, 0.006269875306431648), (1562, 0.015068518341647987), (1563, 0.12265502325581591), (1564, 0.0), (1565, 0.020607317783764255), (1566, 0.02908130299449685), (1567, 0.019858456561061433), (1568, 0.012145543594862893), (1569, 0.003733393056477052), (1570, 0.0), (1571, 0.01854609213388671), (1572, 0.07206516013895908), (1573, 0.024623845057452944), (1574, 0.035196466748727714), (1575, 0.04885717359129905), (1576, 0.026300147621997155), (1577, 0.025401231443939472), (1578, 0.012032142871090263), (1579, 0.054540552989333156), (1580, 0.09210557547670285), (1581, 0.0), (1582, 0.06859576674861209), (1583, 0.054322354919241006), (1584, 0.009602526209542784), (1585, 0.00850243457602376), (1586, 0.02132156062661664), (1587, 0.018968325791208017), (1588, 0.04782082691216131), (1589, 0.015245199102827877), (1590, 0.013989755819829879), (1591, 0.016147018916210915), (1592, 0.12900389290710093), (1593, 0.05072778041870628), (1594, 0.015778221090430675), (1595, 0.030361696110115775), (1596, 0.01230652443278679), (1597, 0.06144974270852188), (1598, 0.017729708208221253), (1599, 0.017144568998366194), (1600, 0.0119876747944458), (1601, 0.015366868441636377), (1602, 0.022698665327348426), (1603, 0.05449057693321608), (1604, 0.057048118368673795), (1605, 0.006115468642708082), (1606, 0.05254576832704782), (1607, 0.03586651702475924), (1608, 0.028122412156553957), (1609, 0.01325621716051439), (1610, 0.019043345698480988), (1611, 0.012736073476983497), (1612, 0.0), (1613, 0.013059775450286836), (1614, 0.006956904443018629), (1615, 0.003402570336218891), (1616, 0.02227901373541709), (1617, 0.012714689894427124), (1618, 0.0588109144353865), (1619, 0.01059165239303161), (1620, 0.00659945812342154), (1621, 0.04436034236248851), (1622, 0.03364212844057117), (1623, 0.06586204542561835), (1624, 0.027933960059098668), (1625, 0.037920129569495434), (1626, 0.029019136133304257), (1627, 0.07184794124670589), (1628, 0.08044567204436431), (1629, 0.007054785077742406), (1630, 0.027444929255079915), (1631, 0.02302971272626024), (1632, 0.006381831108538859), (1633, 0.028713169458200592), (1634, 0.0), (1635, 0.028436850145302735), (1636, 0.059957437087955895), (1637, 0.04294104242939016), (1638, 0.019261291175202505), (1639, 0.022351005134708255), (1640, 0.01908631964785098), (1641, 0.046523019589125456), (1642, 0.020553363467972933), (1643, 0.0165182215766168), (1644, 0.014484813601118158), (1645, 0.04068747453180806), (1646, 0.06707637465184307), (1647, 0.05244898376689118), (1648, 0.0), (1649, 0.015523503704527377), (1650, 0.02094785423526725), (1651, 0.016822501066719377), (1652, 0.0), (1653, 0.017689950288974788), (1654, 0.036413494766350134), (1655, 0.10625704935282039), (1656, 0.03948164236009547), (1657, 0.0), (1658, 0.010166089138116733), (1659, 0.04482619513374531), (1660, 0.053881031742636074), (1661, 0.05266682516966711), (1662, 0.02162931015012803), (1663, 0.04550022122493824), (1664, 0.037288422719689025), (1665, 0.013948995431815898), (1666, 0.009152857836274094), (1667, 0.007162977262546125), (1668, 0.011629759114053305), (1669, 0.05201590278096488), (1670, 0.011423342866407294), (1671, 0.01102216317952421), (1672, 0.00907483262041931), (1673, 0.04805368839765511), (1674, 0.006633884095848713), (1675, 0.06837099154728903), (1676, 0.035806711540150936), (1677, 0.01789809740846811), (1678, 0.06406101425802874), (1679, 0.033378173864105874), (1680, 0.04362041422882756), (1681, 0.0072120762060498625), (1682, 0.06252888038108131), (1683, 0.012989138804681421), (1684, 0.03844263433391072), (1685, 0.02147715655821473), (1686, 0.034507685863550686), (1687, 0.0507627812847695), (1688, 0.03658608867302167), (1689, 0.01465480225013021), (1690, 0.0), (1691, 0.05885917156959468), (1692, 0.02773770809034453), (1693, 0.010099545165955388), (1694, 0.014836082766964156), (1695, 0.015814130368420047), (1696, 0.11744648507633515), (1697, 0.03437589938327665), (1698, 0.015389336092644382), (1699, 0.029229312102982682), (1700, 0.02158394969578701), (1701, 0.02254717760651123), (1702, 0.059302064161773305), (1703, 0.00990709510835074), (1704, 0.011276735830078533), (1705, 0.013871917767485432), (1706, 0.010591094147447733), (1707, 0.04716553268676611), (1708, 0.0038462133057448095), (1709, 0.0712188206039263), (1710, 0.026110224396146423), (1711, 0.005660777588682912), (1712, 0.02463105055907402), (1713, 0.010880228506208385), (1714, 0.04192247628306751), (1715, 0.12034364711123341), (1716, 0.020772289954683717), (1717, 0.03541778427278375), (1718, 0.025335607310586546), (1719, 0.056301802301088555), (1720, 0.012209086029216954), (1721, 0.006392343381829584), (1722, 0.07820696209459492), (1723, 0.06946083130109798), (1724, 0.018425634113442464), (1725, 0.02968211115388937), (1726, 0.05769105362263584), (1727, 0.015445717091789287), (1728, 0.06390780357613772), (1729, 0.047130777611384546), (1730, 0.011591179832176654), (1731, 0.03458375257340558), (1732, 0.010882503489370398), (1733, 0.02353553345910202), (1734, 0.0409694166265001), (1735, 0.05003093153504439), (1736, 0.030042162529299497), (1737, 0.013185732283753217), (1738, 0.018884123360381495), (1739, 0.0680513180294374), (1740, 0.024441818634090586), (1741, 0.01570310810864848), (1742, 0.04793396191932493), (1743, 0.01384216661596667), (1744, 0.02070851108874345), (1745, 0.09862156490205021), (1746, 0.0), (1747, 0.044442340556995086), (1748, 0.04745452696751452), (1749, 0.015293107520265836), (1750, 0.032812886399561314), (1751, 0.01759918079222125), (1752, 0.003192755127870117), (1753, 0.049606434645171824), (1754, 0.014416753194085379), (1755, 0.0280747460548912), (1756, 0.04728176082145692), (1757, 0.03602239312912301), (1758, 0.01244441888337089), (1759, 0.02872045576520456), (1760, 0.032429371133973456), (1761, 0.03065607827267187), (1762, 0.03596075096379415), (1763, 0.03154538125463116), (1764, 0.03724937395931895), (1765, 0.02217220531270403), (1766, 0.022184171902572894), (1767, 0.03052576501390944), (1768, 0.0), (1769, 0.03025399400217397), (1770, 0.02602917598651342), (1771, 0.0072639965327307345), (1772, 0.011985788107982535), (1773, 0.0), (1774, 0.029031958777242524), (1775, 0.054539945896794104), (1776, 0.018610681172956015), (1777, 0.0), (1778, 0.012751566577446657), (1779, 0.0081378387934435), (1780, 0.045106840812814214), (1781, 0.02334307583294632), (1782, 0.01274853391566257), (1783, 0.03380453020144389), (1784, 0.03912380285392196), (1785, 0.03872835445968427), (1786, 0.01575258171896168), (1787, 0.045818916083142855), (1788, 0.07485712987769477), (1789, 0.003977683160577289), (1790, 0.0), (1791, 0.03059315969152963), (1792, 0.04236303103576433), (1793, 0.042288188749396154), (1794, 0.030473124342484753), (1795, 0.014609680499787924), (1796, 0.0348634439319748), (1797, 0.019177274600222574), (1798, 0.0), (1799, 0.0401889541670908), (1800, 0.06576386974849632), (1801, 0.015502312006138962), (1802, 0.0), (1803, 0.026826570235659236), (1804, 0.02566895832539378), (1805, 0.029147344967968298), (1806, 0.0), (1807, 0.018969122530048173), (1808, 0.051669981374063964), (1809, 0.046242974412862715), (1810, 0.0), (1811, 0.0), (1812, 0.034756410835532894), (1813, 0.020319258212027597), (1814, 0.00657848556406577), (1815, 0.024352464792680915), (1816, 0.028299007359737567), (1817, 0.023318382070229807), (1818, 0.012093515687500245), (1819, 0.04122250254843227), (1820, 0.029502853493106287), (1821, 0.03299824596880695), (1822, 0.02721146574693517), (1823, 0.02947445530174416), (1824, 0.025662114575899016), (1825, 0.016828284993157347), (1826, 0.015052973376309968), (1827, 0.10957168703719916), (1828, 0.0), (1829, 0.03607574430745039), (1830, 0.007476858402812295), (1831, 0.03742964341651124), (1832, 0.0), (1833, 0.0466927123191518), (1834, 0.056332598249639404), (1835, 0.09417297837430096), (1836, 0.04451806269655166), (1837, 0.03659223378489034), (1838, 0.03925438801109587), (1839, 0.035509889898116945), (1840, 0.045083759102112125), (1841, 0.017774262310355445), (1842, 0.03822872087516842), (1843, 0.02148492773079959), (1844, 0.023329859959483813), (1845, 0.03018201133033154), (1846, 0.0038974792693416255), (1847, 0.01566058308269869), (1848, 0.007694915536619389), (1849, 0.01206062312181717), (1850, 0.014299652164403638), (1851, 0.022082156543965788), (1852, 0.015746654320583815), (1853, 0.016776828887508213), (1854, 0.02217415908623547), (1855, 0.011268936407334172), (1856, 0.01858484888482399), (1857, 0.056354901740588284), (1858, 0.02760212222936219), (1859, 0.0), (1860, 0.015186491052012167), (1861, 0.0), (1862, 0.03900110578386158), (1863, 0.09451053615992817), (1864, 0.013690567857243955), (1865, 0.015880101766801012), (1866, 0.04588812482148204), (1867, 0.08497116038674986), (1868, 0.031063063375889072), (1869, 0.0), (1870, 0.023233758918651023), (1871, 0.01990566114726743), (1872, 0.014927184283680724), (1873, 0.030542720952358243), (1874, 0.04313320676842884), (1875, 0.022269787653214683), (1876, 0.02680256400344397), (1877, 0.04885507018066949), (1878, 0.014320230141921951), (1879, 0.016002677648210603), (1880, 0.007481889786146185), (1881, 0.025165057014002495), (1882, 0.02437283592772407), (1883, 0.0), (1884, 0.025833604768658106), (1885, 0.01323940708764403), (1886, 0.02704455775944174), (1887, 0.018985581146629554), (1888, 0.013051763435044772), (1889, 0.013876332256455603), (1890, 0.016210043749942497), (1891, 0.016738438040781373), (1892, 0.0), (1893, 0.01872705494016904), (1894, 0.07679850483775509), (1895, 0.01177231062123792), (1896, 0.025215183469223117), (1897, 0.021376021056719756), (1898, 0.04513676747814514), (1899, 0.011837944943923883), (1900, 0.02553754927934982), (1901, 0.025910828001504314), (1902, 0.008683871079857613), (1903, 0.053110358976691446), (1904, 0.03342399491325295), (1905, 0.015554384313155901), (1906, 0.011671319267312978), (1907, 0.0), (1908, 0.0), (1909, 0.0939991154389071), (1910, 0.012426804013176002), (1911, 0.06598111441333859), (1912, 0.011635470229624217), (1913, 0.03126700048412917), (1914, 0.027277512645527788), (1915, 0.009447821079385393), (1916, 0.013580588685167181), (1917, 0.027869374036113042), (1918, 0.02948093207974014), (1919, 0.04285572936546706), (1920, 0.025182981428533417), (1921, 0.006826505173285321), (1922, 0.051860557882229985), (1923, 0.06028992153228572), (1924, 0.035632877455869225), (1925, 0.012481754977809036), (1926, 0.04131716545684626), (1927, 0.05870387604699251), (1928, 0.03937996400728303), (1929, 0.022507767281585767), (1930, 0.013186024333040246), (1931, 0.060124971428200086), (1932, 0.03151570459187064), (1933, 0.017095590869416942), (1934, 0.028463262470229626), (1935, 0.0), (1936, 0.01122533097047255), (1937, 0.014031068625090015), (1938, 0.0131890036494942), (1939, 0.02489419029746416), (1940, 0.04457310550117032), (1941, 0.09882801454496862), (1942, 0.012367056678359512), (1943, 0.015868739162782818), (1944, 0.013360638680212427), (1945, 0.05168410548993244), (1946, 0.012957249345565003), (1947, 0.018909609300363416), (1948, 0.017950880973005866), (1949, 0.007267220104410909), (1950, 0.09576434507931286), (1951, 0.03868453421319573), (1952, 0.011392641686680251), (1953, 0.013801455428139289), (1954, 0.0), (1955, 0.029251270772695542), (1956, 0.013999090084048961), (1957, 0.026440025172115078), (1958, 0.07520641485849693), (1959, 0.04581013306492556), (1960, 0.037774391564942084), (1961, 0.028248888424880058), (1962, 0.051400292394736494), (1963, 0.062476417698572456), (1964, 0.014130213720003604), (1965, 0.036774918322958865), (1966, 0.0), (1967, 0.014645650907965803), (1968, 0.046260114010681835), (1969, 0.04712010593702487), (1970, 0.029821468186293686), (1971, 0.04037812769502567), (1972, 0.05302713444105715), (1973, 0.06204512137763304), (1974, 0.012204871216485232), (1975, 0.04220747022631003), (1976, 0.0), (1977, 0.02551310999372318), (1978, 0.055105427937202286), (1979, 0.04314377705073279), (1980, 0.057172297800409916), (1981, 0.03908854302363478), (1982, 0.0), (1983, 0.0), (1984, 0.01816650682609946), (1985, 0.04840198243910717), (1986, 0.006411555283038253), (1987, 0.010287757790724147), (1988, 0.013799309022549132), (1989, 0.004090716378477136), (1990, 0.025885023710582555), (1991, 0.0), (1992, 0.013603122922954982), (1993, 0.0), (1994, 0.05401802056007112), (1995, 0.06948091745071291), (1996, 0.012913076211856877), (1997, 0.010589314546530615), (1998, 0.0274293786171929), (1999, 0.06493124723495108), (2000, 0.05070049495465676), (2001, 0.020160774489867313), (2002, 0.02949550791308029), (2003, 0.010018062529571693), (2004, 0.07608918243451683), (2005, 0.061035401491422364), (2006, 0.058924500959499526), (2007, 0.016321910650464046), (2008, 0.06987471403026217), (2009, 0.0), (2010, 0.019530230007096715), (2011, 0.023227279346255243), (2012, 0.015298233533318646), (2013, 0.06674217334001403), (2014, 0.03835945530443913), (2015, 0.010742235265963329), (2016, 0.012762012809746847), (2017, 0.021512063010918757), (2018, 0.025844028453091358), (2019, 0.0652080050890043), (2020, 0.043410832701812355), (2021, 0.011323732836594134), (2022, 0.0), (2023, 0.06846954783659018), (2024, 0.04709878135210691), (2025, 0.0182059692359804), (2026, 0.01374376737101273), (2027, 0.026209599877615706), (2028, 0.012715463846852577), (2029, 0.048005392854048166), (2030, 0.0), (2031, 0.003966294381604114), (2032, 0.06670787859984899), (2033, 0.0372984725912131), (2034, 0.04039660604187621), (2035, 0.031410634716561976), (2036, 0.05874420465221534), (2037, 0.05690040856680092), (2038, 0.00685193093947133), (2039, 0.07687574491729603), (2040, 0.011448738718918466), (2041, 0.043478657591071695), (2042, 0.030423162349870882), (2043, 0.008150780471347634), (2044, 0.012346383435552406), (2045, 0.0), (2046, 0.045873318241508254), (2047, 0.011850957170610903), (2048, 0.017348600492496036), (2049, 0.01690981768983308), (2050, 0.030549174779589065), (2051, 0.029016389417578278), (2052, 0.0), (2053, 0.015148280788389454), (2054, 0.02358286517996775), (2055, 0.021533879843770847), (2056, 0.014175602398490528), (2057, 0.046915848591028785), (2058, 0.022138792255543556), (2059, 0.028963070191716456), (2060, 0.003688286474317883), (2061, 0.05269022757000012), (2062, 0.011729919374244622), (2063, 0.020691354747759405), (2064, 0.02326976289802795), (2065, 0.06132441758098882), (2066, 0.03916689516967754), (2067, 0.008719923001700212), (2068, 0.02767180245505404), (2069, 0.012960852367958778), (2070, 0.06190606016384823), (2071, 0.015962142424225976), (2072, 0.014632040162820464), (2073, 0.014759827109851568), (2074, 0.014007498459454816), (2075, 0.09888364886324569), (2076, 0.054312095931865464), (2077, 0.025004371615066585), (2078, 0.04729177221450058), (2079, 0.01795461430068946), (2080, 0.03769903725273909), (2081, 0.02087891457928815), (2082, 0.02851891336074232), (2083, 0.02151741139162478), (2084, 0.0110055780488165), (2085, 0.04062624691828792), (2086, 0.07066350129515438), (2087, 0.02038485626170001), (2088, 0.051945617212001985), (2089, 0.01739612129865435), (2090, 0.01586817496018948), (2091, 0.02441504878291314), (2092, 0.0711879475291109), (2093, 0.011028755278093992), (2094, 0.0), (2095, 0.023455950043491356), (2096, 0.054512719356689124), (2097, 0.014871979129806463), (2098, 0.0), (2099, 0.0494603137738929), (2100, 0.029156975638718767), (2101, 0.0273767795501677), (2102, 0.0176569142019313), (2103, 0.01079939841731571), (2104, 0.025255700836264494), (2105, 0.02238109649043748), (2106, 0.00612241353274685), (2107, 0.012034497916511382), (2108, 0.02903280431157764), (2109, 0.015818280518497242), (2110, 0.023342290898006088), (2111, 0.03856798369261259), (2112, 0.035293837493856325), (2113, 0.012167403499750132), (2114, 0.013612099424961163), (2115, 0.06554415850724761), (2116, 0.0), (2117, 0.012552424743724188), (2118, 0.015996855537126042), (2119, 0.01273443363396128), (2120, 0.019812233988738034), (2121, 0.09125863028617938), (2122, 0.02422963549638265), (2123, 0.02164190646622457), (2124, 0.06041830516749497), (2125, 0.010095152526337785), (2126, 0.07156391973557655), (2127, 0.027163444112182), (2128, 0.06460677523003587), (2129, 0.020402054522220724), (2130, 0.042408525408712525), (2131, 0.061768696699608557), (2132, 0.0027375107932061165), (2133, 0.04860672945482443), (2134, 0.04659846371366516), (2135, 0.06256082155054882), (2136, 0.047518273790997746), (2137, 0.02197973639006031), (2138, 0.0), (2139, 0.04359792761550345), (2140, 0.06685368953029795), (2141, 0.04291997085757211), (2142, 0.0), (2143, 0.003672422772378988), (2144, 0.015563006175278926), (2145, 0.023375641931854457), (2146, 0.028426299050798142), (2147, 0.07772824211941944), (2148, 0.009916674637036476), (2149, 0.06000464026838698), (2150, 0.013616777356694197), (2151, 0.018438327132518223), (2152, 0.021816895651789667), (2153, 0.021358513132043632), (2154, 0.0), (2155, 0.05872884009943092), (2156, 0.010832658532696582), (2157, 0.06344312057604068), (2158, 0.015011399789408816), (2159, 0.04180495383684351), (2160, 0.01740892206470964), (2161, 0.03312000728634329), (2162, 0.050322196769909594), (2163, 0.0), (2164, 0.022921012515403655), (2165, 0.020917719432888705), (2166, 0.02881902710517907), (2167, 0.05195203435154435), (2168, 0.03534870813657327), (2169, 0.0), (2170, 0.035788544881324956), (2171, 0.023483682678783112), (2172, 0.055812904289282324), (2173, 0.014191337089278127), (2174, 0.019727088999270063), (2175, 0.06616679259038234), (2176, 0.022057021689279133), (2177, 0.09053447091218655), (2178, 0.05143014671785261), (2179, 0.029415105428229067), (2180, 0.04171092702362301), (2181, 0.017323915275552874), (2182, 0.02752852165764809), (2183, 0.06966742609168307), (2184, 0.010042299899459248), (2185, 0.037140975298697594), (2186, 0.01350443609515277), (2187, 0.020702545779086257), (2188, 0.03265076267220508), (2189, 0.03917090629141777), (2190, 0.017556526106422384), (2191, 0.05808976403178506), (2192, 0.027015917421315275), (2193, 0.010798994092106527), (2194, 0.01724389216856216), (2195, 0.041626526576723825), (2196, 0.022989844905254332), (2197, 0.003637454611432626), (2198, 0.06790539418161595), (2199, 0.018022994231109982), (2200, 0.017703872295848057), (2201, 0.0), (2202, 0.012565474561348204), (2203, 0.05053208696494737), (2204, 0.055178098880177384), (2205, 0.0547154301133604), (2206, 0.040689952034309966), (2207, 0.028402538075898067), (2208, 0.01673881992772745), (2209, 0.015650306340856457), (2210, 0.006130038875427922), (2211, 0.02175615693029113), (2212, 0.043108293878906814), (2213, 0.010018065934992743), (2214, 0.0), (2215, 0.012336235648094137), (2216, 0.019851689108843548), (2217, 0.016848472224314456), (2218, 0.022352361671573916), (2219, 0.01266979223715993), (2220, 0.05570974375508921), (2221, 0.05018465575628488), (2222, 0.01457128233948508), (2223, 0.003905591565476482), (2224, 0.011901280856987636), (2225, 0.01049456449617929), (2226, 0.007237866886640845), (2227, 0.025251299472507004), (2228, 0.011055343832061238), (2229, 0.030176342004626263), (2230, 0.013799457749456793), (2231, 0.03165128164036757), (2232, 0.004930122034618979), (2233, 0.054165375060581396), (2234, 0.0), (2235, 0.023639652922327985), (2236, 0.022368204339982607), (2237, 0.06776554792633895), (2238, 0.026526889061836218), (2239, 0.01983384289229779), (2240, 0.01192379611981857), (2241, 0.021038974215852484), (2242, 0.06537479012897168), (2243, 0.019712072656641752), (2244, 0.061890816367762724), (2245, 0.02186921059187335), (2246, 0.04068831780270704), (2247, 0.0), (2248, 0.0), (2249, 0.01653152945473668), (2250, 0.0), (2251, 0.017242224012251468), (2252, 0.1572666532486424), (2253, 0.03653054393992175), (2254, 0.013177930602552426), (2255, 0.02997076841516709), (2256, 0.04005735129710727), (2257, 0.053815460023030004), (2258, 0.02607947188920353), (2259, 0.013872285597411604), (2260, 0.02919328471008669), (2261, 0.010707081139716527), (2262, 0.03959722950493978), (2263, 0.012645657188494681), (2264, 0.0), (2265, 0.011145161040982222), (2266, 0.03419433419209989), (2267, 0.009819438552955728), (2268, 0.08212304858488745), (2269, 0.016442482583794923), (2270, 0.015374599677328737), (2271, 0.012017956179613454), (2272, 0.04016653971720452), (2273, 0.022943203481440237), (2274, 0.044172456887346716), (2275, 0.06851950974666755), (2276, 0.013366055963344376), (2277, 0.022133013199528907), (2278, 0.04662521742215915), (2279, 0.01725056029439931), (2280, 0.029140548725091794), (2281, 0.01673716745813999), (2282, 0.04115727272796805), (2283, 0.028793318763621456), (2284, 0.047587334860318735), (2285, 0.01539664236750585), (2286, 0.013129538207608649), (2287, 0.026271619637638736), (2288, 0.016516417039884358), (2289, 0.015478750457647598), (2290, 0.0913063352959316), (2291, 0.017983318993301634), (2292, 0.032693743187031166), (2293, 0.0247947165121822), (2294, 0.08230881366777912), (2295, 0.015045467680398748), (2296, 0.022976530805120857), (2297, 0.0), (2298, 0.09685748644926061), (2299, 0.013888871506789857), (2300, 0.012089763130478708), (2301, 0.02359671892476964), (2302, 0.01567136872532096), (2303, 0.048156382125844686), (2304, 0.011390573015865496), (2305, 0.047054411337477224), (2306, 0.003343307774953249), (2307, 0.035157213644514476), (2308, 0.054144630340022024), (2309, 0.047911558906834684), (2310, 0.030465742867634663), (2311, 0.016673078354863886), (2312, 0.02631143655944495), (2313, 0.06332522344393965), (2314, 0.02024533789431396), (2315, 0.049138217109144684), (2316, 0.011371710778747835), (2317, 0.012814724580395643), (2318, 0.0407337774653819), (2319, 0.010473927523409605), (2320, 0.0), (2321, 0.023347547568431236), (2322, 0.0), (2323, 0.05293990124008398), (2324, 0.023480589482748133), (2325, 0.012174019128426802), (2326, 0.014337071539955917), (2327, 0.010163010782451076), (2328, 0.015951465036919518), (2329, 0.04097795787243961), (2330, 0.011612000387448664), (2331, 0.06162256093920193), (2332, 0.00957734876413129), (2333, 0.028956159318344447), (2334, 0.05389568189342675), (2335, 0.0), (2336, 0.04011807181725382), (2337, 0.014411812444224435), (2338, 0.0), (2339, 0.013658905293112724), (2340, 0.026034972147319955), (2341, 0.011871805266145573), (2342, 0.011478083244684618), (2343, 0.0), (2344, 0.003788857365578578), (2345, 0.04408372048955496), (2346, 0.04767745825188979), (2347, 0.02911216115440656), (2348, 0.01697187582290803), (2349, 0.016847148829797463), (2350, 0.03009855833535397), (2351, 0.03160978853413852), (2352, 0.03012958597147556), (2353, 0.06580983479497449), (2354, 0.0856467862513133), (2355, 0.021111693906745853), (2356, 0.026382887569804538), (2357, 0.035906564765964724), (2358, 0.017186436669109496), (2359, 0.05386341156031907), (2360, 0.024448001658531632), (2361, 0.02407708416258899), (2362, 0.1177768084288974), (2363, 0.03793553308802307), (2364, 0.0628716975565749), (2365, 0.05294855385887329), (2366, 0.016898245115254267), (2367, 0.0), (2368, 0.011298931427299739), (2369, 0.010621248315627796), (2370, 0.060358092150535746), (2371, 0.022501402059473097), (2372, 0.08916714277987553), (2373, 0.050431304518879026), (2374, 0.0), (2375, 0.04902971693514152), (2376, 0.018705255942174447), (2377, 0.03546742100825537), (2378, 0.009166916273415105), (2379, 0.07038230393287075), (2380, 0.012353126547254838), (2381, 0.009791401748236304), (2382, 0.0), (2383, 0.043077091910463404), (2384, 0.025673859851753494), (2385, 0.0548145199600637), (2386, 0.0), (2387, 0.0651779116513222), (2388, 0.029783209474558967), (2389, 0.012066646001942032), (2390, 0.015879399321436227), (2391, 0.004186203390605956), (2392, 0.014425670623849075), (2393, 0.0037833788332877617), (2394, 0.014828180174425384), (2395, 0.03494454062385339), (2396, 0.006776488568047493), (2397, 0.03327189984443128), (2398, 0.007561033549962585), (2399, 0.07991342524229111), (2400, 0.06199867644451191), (2401, 0.07721812406415668), (2402, 0.025786431112471427), (2403, 0.011094003358301019), (2404, 0.0032103130026502158), (2405, 0.05189148125238238), (2406, 0.04794917604517446), (2407, 0.014762129318684869), (2408, 0.052625612575662686), (2409, 0.028394035368816826), (2410, 0.05103735111206068), (2411, 0.034372444245599085), (2412, 0.03407031033522451), (2413, 0.017757261231479755), (2414, 0.03928596411515998), (2415, 0.023166231279922574), (2416, 0.05370773018352496), (2417, 0.1469294331197321), (2418, 0.0), (2419, 0.018945033262755727), (2420, 0.040298693310300664), (2421, 0.07489337941697248), (2422, 0.021574769794106247), (2423, 0.0), (2424, 0.014778648600420921), (2425, 0.01990340805266784), (2426, 0.0), (2427, 0.0), (2428, 0.018022917434965396), (2429, 0.042146742780023685), (2430, 0.013519087491933028), (2431, 0.013508428137106145), (2432, 0.041876796145587585), (2433, 0.007944597009424164), (2434, 0.03857292712261743), (2435, 0.041629637195085126), (2436, 0.11496025839926519), (2437, 0.01753324313408735), (2438, 0.027289007961507593), (2439, 0.0), (2440, 0.025541988484053084), (2441, 0.011953733554368608), (2442, 0.03918200644395844), (2443, 0.01475367923795212), (2444, 0.11245913437814137), (2445, 0.046544663464002906), (2446, 0.0), (2447, 0.017592331236473437), (2448, 0.04019688757269859), (2449, 0.0), (2450, 0.0), (2451, 0.0389928705577377), (2452, 0.04709548366891078), (2453, 0.02958048478439399), (2454, 0.0), (2455, 0.0), (2456, 0.04096131151507162), (2457, 0.0582493532835798), (2458, 0.05476039517061097), (2459, 0.05462948000603956), (2460, 0.029229168034468227), (2461, 0.062411715074266905), (2462, 0.03981550810638984), (2463, 0.04367038346951009), (2464, 0.04338570364461496), (2465, 0.014139244105756177), (2466, 0.07446548735547517), (2467, 0.013017054572265763), (2468, 0.048505729983457396), (2469, 0.0032692975606568426), (2470, 0.03607057883484108), (2471, 0.014753829999467043), (2472, 0.011695630663409805), (2473, 0.022175380362294033), (2474, 0.04414534022906754), (2475, 0.02541433885856991), (2476, 0.012293346929351023), (2477, 0.01959385127064795), (2478, 0.014297304379065236), (2479, 0.04376225887115032), (2480, 0.014147307305448963), (2481, 0.00812003055985115), (2482, 0.06210785818548612), (2483, 0.021761501612474407), (2484, 0.015481324860429127), (2485, 0.05976574414711483), (2486, 0.06061914697835947), (2487, 0.0054741076945177556), (2488, 0.02861923923112885), (2489, 0.0318734598383607), (2490, 0.047390355073941924), (2491, 0.027896469832346418), (2492, 0.05237078685313954), (2493, 0.0), (2494, 0.006319411109935694), (2495, 0.0), (2496, 0.03315641370357041), (2497, 0.008377230505178038), (2498, 0.01265103292934258), (2499, 0.035680040042990205), (2500, 0.01642188951018539), (2501, 0.0), (2502, 0.02854578508004542), (2503, 0.0), (2504, 0.029170753954790414), (2505, 0.011665414690754765), (2506, 0.03226136908924041), (2507, 0.017669192593436387), (2508, 0.016695472996587236), (2509, 0.023586028730116004), (2510, 0.01290640835928012), (2511, 0.025346483432893918), (2512, 0.04825042864514407), (2513, 0.05340726016168866), (2514, 0.03125746495973894), (2515, 0.02222118788555604), (2516, 0.04480822305499954), (2517, 0.047863663764906327), (2518, 0.03452582747410616), (2519, 0.0533702571317444), (2520, 0.0), (2521, 0.05184054837752045), (2522, 0.03404945034278246), (2523, 0.04848941857182447), (2524, 0.015182961222566464), (2525, 0.050602707303845224), (2526, 0.020549804817658605), (2527, 0.012298367264833467), (2528, 0.02373748466017702), (2529, 0.0), (2530, 0.029906999490947966), (2531, 0.0), (2532, 0.04802477449424182), (2533, 0.010608185757444162), (2534, 0.07456277558889632), (2535, 0.03536943693010412), (2536, 0.0), (2537, 0.008395210344429567), (2538, 0.024838994957305544), (2539, 0.03185326156972512), (2540, 0.017487404754425784), (2541, 0.014936007451909752), (2542, 0.025339555789328505), (2543, 0.025265733464392946), (2544, 0.05920830394920541), (2545, 0.01604951444080286), (2546, 0.022185428150345597), (2547, 0.0), (2548, 0.05557788766514636), (2549, 0.0), (2550, 0.0035141947188640082), (2551, 0.05115236825141983), (2552, 0.01476690277352182), (2553, 0.0), (2554, 0.05132953996727358), (2555, 0.06016341338789835), (2556, 0.025976421640845716), (2557, 0.024869660006489124), (2558, 0.05742276610509571), (2559, 0.01745242075173668), (2560, 0.011673336021782018), (2561, 0.013280854058019771), (2562, 0.06713833804422764), (2563, 0.02266145983801399), (2564, 0.03747610201734297), (2565, 0.015287552758197334), (2566, 0.04678538733108231), (2567, 0.020224580870605698), (2568, 0.04290444413105208), (2569, 0.0326445432636297), (2570, 0.020225299050249924), (2571, 0.029513204514466165), (2572, 0.026087647257613516), (2573, 0.0), (2574, 0.019581459314233503), (2575, 0.050116465293957455), (2576, 0.028970788771988665), (2577, 0.04503891884909658), (2578, 0.0337958265910722), (2579, 0.007261670753013058), (2580, 0.05324399317419895), (2581, 0.015238990779898673), (2582, 0.045104195051876864), (2583, 0.015176724392034484), (2584, 0.0), (2585, 0.0825571148962094), (2586, 0.07273536886052855), (2587, 0.0), (2588, 0.051397395095537146), (2589, 0.0058288440764445), (2590, 0.008382932244457858), (2591, 0.0), (2592, 0.011007076497402157), (2593, 0.01026818426903674), (2594, 0.03311074042709417), (2595, 0.0), (2596, 0.015583989518888166), (2597, 0.0), (2598, 0.02602448255556826), (2599, 0.013338084512378), (2600, 0.0), (2601, 0.003756369891892843), (2602, 0.0), (2603, 0.02811477092480566), (2604, 0.0), (2605, 0.0), (2606, 0.007402920231119274), (2607, 0.062000398349576644), (2608, 0.048359516797050195), (2609, 0.020901267743773985), (2610, 0.0), (2611, 0.015500503627654748), (2612, 0.06367380191193078), (2613, 0.025352666793613553), (2614, 0.032308289694317774), (2615, 0.020840347464350276), (2616, 0.04315800839718106), (2617, 0.019582400879441686), (2618, 0.014129076178314251), (2619, 0.02695181762131555), (2620, 0.0076423047612643995), (2621, 0.020550645051735025), (2622, 0.0386584787639822), (2623, 0.014769695591535693), (2624, 0.006794138445676915), (2625, 0.062321071152048775), (2626, 0.015465615877892453), (2627, 0.0), (2628, 0.021823700661647696), (2629, 0.017484796655672024), (2630, 0.04653208134903235), (2631, 0.01553634242312007), (2632, 0.02163960026339231), (2633, 0.019807453595934263), (2634, 0.015424265014486689), (2635, 0.04044952333334363), (2636, 0.0), (2637, 0.029111585700273092), (2638, 0.054956813042066094), (2639, 0.06247682369773544), (2640, 0.058228499056038184), (2641, 0.049138893644705105), (2642, 0.030635945453930093), (2643, 0.028086956340011425), (2644, 0.08545884988343343), (2645, 0.05102774388552819), (2646, 0.0176200684199645), (2647, 0.0), (2648, 0.0243856023445182), (2649, 0.0034515233555969978), (2650, 0.05076354234224986), (2651, 0.01158231074049416), (2652, 0.013306107661859948), (2653, 0.013831976763779641), (2654, 0.051664938371248165), (2655, 0.022615196880934132), (2656, 0.04331548404600532), (2657, 0.00665925400779641), (2658, 0.02799319915536641), (2659, 0.05264970332554228), (2660, 0.02362371856398593), (2661, 0.05678744140374541), (2662, 0.007473358562888176), (2663, 0.023320932669331725), (2664, 0.04699996964960617), (2665, 0.031209933874141404), (2666, 0.01257076596613886), (2667, 0.0), (2668, 0.05082125014102376), (2669, 0.017720444135422894), (2670, 0.04015649901500596), (2671, 0.0676634011061914), (2672, 0.024579145883812898), (2673, 0.05272479238387633), (2674, 0.020774618207088584), (2675, 0.02430983751874471), (2676, 0.006042027827827835), (2677, 0.011968441576977722), (2678, 0.07690276841839157), (2679, 0.04381507811706864), (2680, 0.03610670617029002), (2681, 0.03385684958639235), (2682, 0.019343196536526466), (2683, 0.015678026152087503), (2684, 0.015922937083830496), (2685, 0.07039697164619271), (2686, 0.046996345008716155), (2687, 0.04264304373849053), (2688, 0.05184682276214126), (2689, 0.020289098587496147), (2690, 0.01124259764714365), (2691, 0.02646755762680804), (2692, 1.0000000000000002), (2693, 0.006469131057123256), (2694, 0.014110634825954897), (2695, 0.0), (2696, 0.010059482355872534), (2697, 0.04420378574653369), (2698, 0.027318114101749627), (2699, 0.03758974335297905), (2700, 0.06058737815892638), (2701, 0.03708153347240285), (2702, 0.06391213313823153), (2703, 0.02089473130911679), (2704, 0.01843654026891757), (2705, 0.06961272803652857), (2706, 0.007117755668739591), (2707, 0.04320009249403896), (2708, 0.024103457391565594), (2709, 0.0), (2710, 0.00347057986572391), (2711, 0.0), (2712, 0.09453890718664784), (2713, 0.06615511793027223), (2714, 0.008957096562466921), (2715, 0.01383361555596891), (2716, 0.015006017873446183), (2717, 0.04737844771746186), (2718, 0.06427448472287739), (2719, 0.027859349874778543), (2720, 0.02340855722889385), (2721, 0.04215873813912691), (2722, 0.0403927298162339), (2723, 0.03687155780226786), (2724, 0.07225272865940509), (2725, 0.04368752345412878), (2726, 0.047182496172768075), (2727, 0.07113015679062941), (2728, 0.15907622609622837), (2729, 0.0), (2730, 0.027597737742612684), (2731, 0.06302415241253669), (2732, 0.03549477682228932), (2733, 0.026964712215499568), (2734, 0.00982544487976277), (2735, 0.040180410958217005), (2736, 0.05871681244106143), (2737, 0.031233896723183194), (2738, 0.041530778918828816), (2739, 0.020934245471008226), (2740, 0.01774297459924855), (2741, 0.024523866394361337), (2742, 0.03979895334793848), (2743, 0.0481927195294106), (2744, 0.012730394972183836), (2745, 0.030993880726930614), (2746, 0.02228270364958302), (2747, 0.009786896274333396), (2748, 0.01436598498348699), (2749, 0.0), (2750, 0.0), (2751, 0.039233760825695616), (2752, 0.032499696658008455), (2753, 0.0), (2754, 0.03145902354285889), (2755, 0.012096463406663305), (2756, 0.02844700796106144), (2757, 0.018843915908196035), (2758, 0.02904872549661626), (2759, 0.017713162686491948), (2760, 0.03891337478997328), (2761, 0.03314993306565039), (2762, 0.015115565683737647), (2763, 0.028449714805056543), (2764, 0.05867114183711495), (2765, 0.008285000738082166), (2766, 0.03252524153906139), (2767, 0.025135300097622562), (2768, 0.0034413674004073777), (2769, 0.028267783380841776), (2770, 0.016633980526297613), (2771, 0.013826940324093238), (2772, 0.0), (2773, 0.003577275309070141), (2774, 0.011015439557018664), (2775, 0.018548753198472767), (2776, 0.030009965880586874), (2777, 0.01438787146294165), (2778, 0.040922841263653295), (2779, 0.013412510720017914), (2780, 0.028377512192721305), (2781, 0.01151189361676258), (2782, 0.03485585325023195), (2783, 0.011849686833665506), (2784, 0.0364033899820314), (2785, 0.03810845066525245), (2786, 0.0248714353876131), (2787, 0.036305768635058466), (2788, 0.007028701175699508), (2789, 0.072093182464583), (2790, 0.07636710024247247), (2791, 0.04103493976106126), (2792, 0.02817245426014854), (2793, 0.02624990633049397), (2794, 0.0), (2795, 0.06347777122203094), (2796, 0.03691662966819603), (2797, 0.00801371582942276), (2798, 0.020542442563973935), (2799, 0.056678865775768805), (2800, 0.0), (2801, 0.06405490639201356), (2802, 0.053143215667456355), (2803, 0.0), (2804, 0.025944866813137325), (2805, 0.04080515506103741), (2806, 0.04560331130784318), (2807, 0.05806273964952171), (2808, 0.021820601292726987), (2809, 0.042731996770412964), (2810, 0.0165451841032701), (2811, 0.015314241175875952), (2812, 0.021897862276772623), (2813, 0.01593958363594183), (2814, 0.006351641921629739), (2815, 0.031159515298577273), (2816, 0.04840598030146109), (2817, 0.057995028506067456), (2818, 0.07999449510591992), (2819, 0.013347544325188268), (2820, 0.007144024157232675), (2821, 0.0), (2822, 0.03202566147769973), (2823, 0.0), (2824, 0.011138088074434997), (2825, 0.015584716732902435), (2826, 0.012009415893317764), (2827, 0.011977936070351154), (2828, 0.02857137025488967), (2829, 0.0), (2830, 0.01635306742705522), (2831, 0.014856792423624041), (2832, 0.027468684998041983), (2833, 0.011601244596575484), (2834, 0.003827633131842833), (2835, 0.11130240743392027), (2836, 0.00447218459019181), (2837, 0.05761695529374766), (2838, 0.043699626838410374), (2839, 0.0), (2840, 0.010942378345537185), (2841, 0.008545165434870685), (2842, 0.0413549123468009), (2843, 0.0561419604528064), (2844, 0.01072096421341583), (2845, 0.0361042403535454), (2846, 0.0033657248129320147), (2847, 0.03609397052714193), (2848, 0.018741312988848978), (2849, 0.03549449302829979), (2850, 0.0037004482757763877), (2851, 0.02684370479683304), (2852, 0.003547455280676959), (2853, 0.0), (2854, 0.0), (2855, 0.00838911302824334), (2856, 0.004058456510564442), (2857, 0.02105047875910022), (2858, 0.009440059440465148), (2859, 0.01079827487798245), (2860, 0.0), (2861, 0.08279924687800652), (2862, 0.01203571609755246), (2863, 0.0), (2864, 0.0), (2865, 0.02773757265138594), (2866, 0.009048888924360256), (2867, 0.013284331229916582), (2868, 0.0), (2869, 0.011307651954651592), (2870, 0.04358386277431882), (2871, 0.04827415013247854), (2872, 0.05394535016767271), (2873, 0.05464881704422006), (2874, 0.06495494510280057), (2875, 0.015409103741732185), (2876, 0.0), (2877, 0.057491445021020576), (2878, 0.02095942503074781), (2879, 0.011407478643791808), (2880, 0.01174688635581101), (2881, 0.049733343499242744), (2882, 0.0253439819984696), (2883, 0.04169194303788653), (2884, 0.0), (2885, 0.06221316800943129), (2886, 0.024495561453665615), (2887, 0.027897774506538502), (2888, 0.01902331370169885), (2889, 0.016373610284372588), (2890, 0.041089507594010914), (2891, 0.027919060424525514), (2892, 0.03163295114444659), (2893, 0.035186848136592314), (2894, 0.04426669734341709), (2895, 0.0168269522296361), (2896, 0.0), (2897, 0.0), (2898, 0.053134918104602295), (2899, 0.006295900851952645), (2900, 0.05916164520799718), (2901, 0.0), (2902, 0.046035051678382934), (2903, 0.02767171480630959), (2904, 0.0), (2905, 0.0), (2906, 0.041132012831581154), (2907, 0.023132664305426376), (2908, 0.05857914133515844), (2909, 0.05368904940562097), (2910, 0.014938540879767526), (2911, 0.07478881795502625), (2912, 0.014260192855514974), (2913, 0.03165357805827471), (2914, 0.009787381107296027), (2915, 0.04759313759684608), (2916, 0.0073438091491182245), (2917, 0.05133734176074131), (2918, 0.0), (2919, 0.010648949087394048), (2920, 0.03009072999740855), (2921, 0.045397116697504944), (2922, 0.0508949486352754), (2923, 0.059236890128611636), (2924, 0.043110603373326464), (2925, 0.017570934453843216), (2926, 0.043777773665603086), (2927, 0.030192436144709064), (2928, 0.03448828951859271), (2929, 0.023667738496891945), (2930, 0.0036206482949376136), (2931, 0.003473198879251317), (2932, 0.010018737964132912), (2933, 0.015035621126265247), (2934, 0.04268506428058226), (2935, 0.01694523950424542), (2936, 0.017472168777712765), (2937, 0.042647788266054365), (2938, 0.03443551290261758), (2939, 0.014273967639101862), (2940, 0.0), (2941, 0.044105459799407054), (2942, 0.021493796902204217), (2943, 0.01220914228777721), (2944, 0.026034547854516178), (2945, 0.038886517732436635), (2946, 0.015813649907245875), (2947, 0.013234891624532853), (2948, 0.014207104428736624), (2949, 0.04573874224685005), (2950, 0.023369968312911146), (2951, 0.11461721818198535), (2952, 0.06633690784059276), (2953, 0.0), (2954, 0.03510945185050651), (2955, 0.04280701762372849), (2956, 0.0), (2957, 0.0), (2958, 0.027511564660985303), (2959, 0.007896332987454078), (2960, 0.0), (2961, 0.030727570646042993), (2962, 0.013600696037174708), (2963, 0.015058205326851802), (2964, 0.03530142427692364), (2965, 0.04038321125366472), (2966, 0.0), (2967, 0.021235759934598225), (2968, 0.011803774250269026), (2969, 0.011469459410707804), (2970, 0.09731422208710663), (2971, 0.015652427778003394), (2972, 0.019485937791496644), (2973, 0.0), (2974, 0.021850318139859555), (2975, 0.04485120794830254), (2976, 0.015430137859389709), (2977, 0.013375044386088237), (2978, 0.04403173575491811), (2979, 0.012998511059869088), (2980, 0.028469350174714643), (2981, 0.028725169211233754), (2982, 0.03802525417067326), (2983, 0.0529889647450183), (2984, 0.008583924998807476), (2985, 0.06111073416464377), (2986, 0.011807276437776185), (2987, 0.054272760394112746), (2988, 0.018585401542050295), (2989, 0.012070286398578904), (2990, 0.05336037986801586), (2991, 0.05661285941946159), (2992, 0.053828913404852415), (2993, 0.022986076221813565), (2994, 0.0219999565467491), (2995, 0.0), (2996, 0.011267717473684803), (2997, 0.015183813294598104), (2998, 0.0), (2999, 0.03093886970165772), (3000, 0.012179465366248088), (3001, 0.047517522716821296), (3002, 0.013416681288176673), (3003, 0.03170318563129297), (3004, 0.011718784648915214), (3005, 0.017960205367122863), (3006, 0.026754679086082478), (3007, 0.015969293364687717), (3008, 0.02087833037900256), (3009, 0.06839975659282346), (3010, 0.06747290667022474), (3011, 0.0156840400922749), (3012, 0.046549445866409925), (3013, 0.08245842393710262), (3014, 0.01593138481994933), (3015, 0.0223887236440685), (3016, 0.0074692358140372615), (3017, 0.011417080874818826), (3018, 0.012327956559147734), (3019, 0.006100724702183837), (3020, 0.012440062913510746), (3021, 0.008481167727263154), (3022, 0.018910978245295713), (3023, 0.0), (3024, 0.00848159288044551), (3025, 0.011959514067478817), (3026, 0.0), (3027, 0.01620008655144693), (3028, 0.028369257766697707), (3029, 0.01843145193840487), (3030, 0.003552534694078872), (3031, 0.0), (3032, 0.07530720823494781), (3033, 0.025696267618447944), (3034, 0.015333645132164288), (3035, 0.03796767905511102), (3036, 0.010003417007149847), (3037, 0.0034986561813530577), (3038, 0.019712133170388953), (3039, 0.0), (3040, 0.003831814873516953), (3041, 0.010887225286437206), (3042, 0.03475924938830181), (3043, 0.02941518026737792), (3044, 0.025878770272068693), (3045, 0.02838012043572257), (3046, 0.04631233539275066), (3047, 0.010788842046398272), (3048, 0.045358031624826975), (3049, 0.032308557366553234), (3050, 0.01333723891471923), (3051, 0.030865002214843014), (3052, 0.03874131708966572), (3053, 0.01765834587853883), (3054, 0.01029155059697357), (3055, 0.0075185363707789684), (3056, 0.0037013399332801737), (3057, 0.03370484857656797), (3058, 0.010289186707672603), (3059, 0.03326091041300781), (3060, 0.01157771417199971), (3061, 0.03816303372195013), (3062, 0.02225874638288099), (3063, 0.04310618584206148), (3064, 0.06660450890355603), (3065, 0.026806961075320837), (3066, 0.0491021878494722), (3067, 0.03643270678965288), (3068, 0.03364117475438063), (3069, 0.0548935616061066), (3070, 0.0), (3071, 0.012570587916064602), (3072, 0.01274908409423009), (3073, 0.03077667636984978), (3074, 0.007496716378550779), (3075, 0.007885567103909483), (3076, 0.00734311266425502), (3077, 0.0031775635875544513), (3078, 0.03199644987835392), (3079, 0.03156492744577253), (3080, 0.02438267861632678), (3081, 0.0), (3082, 0.0), (3083, 0.035556989667688756), (3084, 0.0), (3085, 0.003567231735751112), (3086, 0.0), (3087, 0.007437979992176738), (3088, 0.05157157542199971), (3089, 0.04227402972390676), (3090, 0.01740857270817763), (3091, 0.061993175715317365), (3092, 0.0), (3093, 0.0), (3094, 0.03382560531121769), (3095, 0.019757400387993788), (3096, 0.013339383138839533), (3097, 0.02236733967281543), (3098, 0.016231662524733625), (3099, 0.006845973226321971), (3100, 0.018909659612762125), (3101, 0.025710916982941402), (3102, 0.04819200493105369), (3103, 0.019254574025824797), (3104, 0.0), (3105, 0.0), (3106, 0.003978152625009178), (3107, 0.018953367823400652), (3108, 0.021539454282200773), (3109, 0.03194953489199197), (3110, 0.04128914503719674), (3111, 0.014476045049602662), (3112, 0.014614059442474282), (3113, 0.025602705560785925), (3114, 0.0468837879192304), (3115, 0.05674735660494303), (3116, 0.004117989308554909), (3117, 0.0), (3118, 0.03865098800384716), (3119, 0.03339343641415307), (3120, 0.05583700866218869), (3121, 0.00793468692453228), (3122, 0.021316098755122373), (3123, 0.013536641828920112), (3124, 0.0), (3125, 0.05481959813094674), (3126, 0.0), (3127, 0.0), (3128, 0.007335444729334183), (3129, 0.0), (3130, 0.027858560140412672), (3131, 0.0), (3132, 0.014427239033475009), (3133, 0.0393292024989601), (3134, 0.036866107260709054), (3135, 0.035069722880449974), (3136, 0.021554697206928215), (3137, 0.05171091693366401), (3138, 0.0), (3139, 0.03865799860748975), (3140, 0.012245045905079157), (3141, 0.010799715011161967), (3142, 0.02062266526233871), (3143, 0.14471431271749008), (3144, 0.06606037275431793), (3145, 0.04280360161314481), (3146, 0.06937934018507988), (3147, 0.016905782738303524), (3148, 0.05853077456255803), (3149, 0.0), (3150, 0.0), (3151, 0.02094382544146299), (3152, 0.07906329116644906), (3153, 0.01775555651299878), (3154, 0.02622624356556232), (3155, 0.026294238962082307), (3156, 0.041150935281713694), (3157, 0.01594491367317087), (3158, 0.0400254032413419), (3159, 0.07297487622502989), (3160, 0.013990672808638131), (3161, 0.03141997609599377), (3162, 0.02593443244817685), (3163, 0.05653973055407213), (3164, 0.05389783927345697), (3165, 0.041831157917729365), (3166, 0.027202068568352965), (3167, 0.03337129628557612), (3168, 0.0038561441407355705), (3169, 0.013985256116214822), (3170, 0.043015514122807304), (3171, 0.01601658922434061), (3172, 0.011915027626459023), (3173, 0.0074949999689260405), (3174, 0.00783767023836109), (3175, 0.03855578766280391), (3176, 0.010377044947437675), (3177, 0.023256270109478634), (3178, 0.03594433497092515), (3179, 0.026824475473045777), (3180, 0.04232865810386167), (3181, 0.013061309896558484), (3182, 0.014766780857541122), (3183, 0.06492217378214725), (3184, 0.015890223945729406), (3185, 0.07228103177272559), (3186, 0.020615628858166084), (3187, 0.0332060638982989), (3188, 0.017935716928295136), (3189, 0.0), (3190, 0.04151600571101981), (3191, 0.11860189960179793), (3192, 0.024159014893005235), (3193, 0.007683726834910723), (3194, 0.0), (3195, 0.005354232422595306), (3196, 0.13577536778065064), (3197, 0.05166673575139723), (3198, 0.0030406568038575453), (3199, 0.005029857206705009), (3200, 0.0), (3201, 0.0), (3202, 0.07088612852431601), (3203, 0.0782353274562558), (3204, 0.01083388072755502), (3205, 0.0575902627163479), (3206, 0.003680282445539285), (3207, 0.010670117894697224), (3208, 0.018112738352533485), (3209, 0.0), (3210, 0.015746438760043925), (3211, 0.01689020521778383), (3212, 0.01301670534975655), (3213, 0.030336959493584312), (3214, 0.003498224312561509), (3215, 0.013950823356710022), (3216, 0.009980371870049595), (3217, 0.0), (3218, 0.028084992279963084), (3219, 0.007156820843196127), (3220, 0.012203514063328305), (3221, 0.0), (3222, 0.05964180035783852), (3223, 0.01738839776296651), (3224, 0.0), (3225, 0.0), (3226, 0.01102890964160413), (3227, 0.0), (3228, 0.024121645617439895), (3229, 0.0), (3230, 0.0373795005796176), (3231, 0.006983912562827326), (3232, 0.02118037139112361), (3233, 0.0), (3234, 0.0), (3235, 0.006714534956479941), (3236, 0.0035315433196997504), (3237, 0.0), (3238, 0.018204851043472914), (3239, 0.0), (3240, 0.02402082193572891), (3241, 0.019664008209896597), (3242, 0.029478291891808922), (3243, 0.026680145406687956), (3244, 0.011957828249142115), (3245, 0.020908515024262303), (3246, 0.031690195277784945), (3247, 0.02280876137010913), (3248, 0.009263093871719535), (3249, 0.016772440281329303), (3250, 0.05656446677681691), (3251, 0.05029985286056214), (3252, 0.017017119120151553), (3253, 0.04840771410295252), (3254, 0.011778607146358248), (3255, 0.055009714485716885), (3256, 0.011746439717911939), (3257, 0.0259932141418599), (3258, 0.07053419969335664), (3259, 0.042351749394076904), (3260, 0.007427136875928613), (3261, 0.06398991047834661), (3262, 0.019895767766194544), (3263, 0.0), (3264, 0.025728329873496856), (3265, 0.11140533742977128), (3266, 0.013704567137830434), (3267, 0.032432864445977705), (3268, 0.0), (3269, 0.0), (3270, 0.0), (3271, 0.01538911711740241), (3272, 0.012542141828866886), (3273, 0.02744312042617702), (3274, 0.029607013103929655), (3275, 0.05943270993459935), (3276, 0.010825914577457654), (3277, 0.04326871503603982), (3278, 0.02599159720672211), (3279, 0.03751564074255995), (3280, 0.03982312891696142), (3281, 0.018887868485652135), (3282, 0.021743394426160224), (3283, 0.06559550787162043), (3284, 0.09995504424891508), (3285, 0.0), (3286, 0.023178296736751532), (3287, 0.03590540246161472), (3288, 0.018989491952022028), (3289, 0.014286446595461442), (3290, 0.01405849500907275), (3291, 0.09522163866923129), (3292, 0.01406076910254941), (3293, 0.003901535730756642), (3294, 0.010912748789243896), (3295, 0.008760967639287673), (3296, 0.048486837151110115), (3297, 0.012091984557599285), (3298, 0.012540309256924783), (3299, 0.011322146921656003), (3300, 0.02323844572106784), (3301, 0.04082359929937868), (3302, 0.00806257185016049), (3303, 0.036253930013828276), (3304, 0.0), (3305, 0.015377178163735532), (3306, 0.023777037045233994), (3307, 0.010082842991134012), (3308, 0.0), (3309, 0.05581045503269645), (3310, 0.012118265752313135), (3311, 0.05770487131324956), (3312, 0.02842772424609001), (3313, 0.07442488861595078), (3314, 0.0), (3315, 0.04768137590319694), (3316, 0.01695222678348404), (3317, 0.026389233230655708), (3318, 0.02053079535303732), (3319, 0.023680804433723553), (3320, 0.040930014903584666), (3321, 0.01775569000838299), (3322, 0.046023742291608875), (3323, 0.006285992175447883), (3324, 0.012753383898783346), (3325, 0.06104298706480751), (3326, 0.02373029658834891), (3327, 0.017166287956036967), (3328, 0.004147535257069842), (3329, 0.05611225508765391), (3330, 0.012423058461096419), (3331, 0.014841561002356344), (3332, 0.01592704679702967), (3333, 0.018124359729366032), (3334, 0.007027818392703124), (3335, 0.012799389759332353), (3336, 0.029220077169410073), (3337, 0.04384442250551454), (3338, 0.06603951708410755), (3339, 0.03824600194743137), (3340, 0.05123017820210621), (3341, 0.02962517155654798), (3342, 0.04500736761143802), (3343, 0.01496384114433081), (3344, 0.013181174412863313), (3345, 0.022001859089065358), (3346, 0.0), (3347, 0.0), (3348, 0.023027460262551383), (3349, 0.009061997646351945), (3350, 0.015068002743745252), (3351, 0.021539136095536683), (3352, 0.0), (3353, 0.010490050638549435), (3354, 0.037250789344916324), (3355, 0.08592895814027307), (3356, 0.00885429455022359), (3357, 0.00685674694362969), (3358, 0.0), (3359, 0.007220728403287669), (3360, 0.007770584166188466), (3361, 0.016007118856442924), (3362, 0.023213944660520194), (3363, 0.07943625808268458), (3364, 0.04937884837883252), (3365, 0.01449757807895517), (3366, 0.012351061066321918), (3367, 0.0), (3368, 0.008523219314325342), (3369, 0.031974862227753274), (3370, 0.03810949960107923), (3371, 0.0234616614543003), (3372, 0.0), (3373, 0.03504783962107678), (3374, 0.02173856023199542), (3375, 0.0), (3376, 0.022115098781737338), (3377, 0.013328379483072956), (3378, 0.057946302103264916), (3379, 0.0), (3380, 0.014595942819449401), (3381, 0.006783301552622626), (3382, 0.05470036276438111), (3383, 0.04963448517446169), (3384, 0.04238826795795206), (3385, 0.02626903696628584), (3386, 0.025412594316361514), (3387, 0.023539000421126565), (3388, 0.024595806970479087), (3389, 0.09266860600521541), (3390, 0.0), (3391, 0.0), (3392, 0.018976546303599497), (3393, 0.030765929429643485), (3394, 0.025114334847833448), (3395, 0.010627461838124009), (3396, 0.0), (3397, 0.027431182069954277), (3398, 0.010361723985569903), (3399, 0.02362019329919822), (3400, 0.01448595038386534), (3401, 0.0), (3402, 0.006074049898871296), (3403, 0.01956243042168697), (3404, 0.0036714199231841554), (3405, 0.052771869204968), (3406, 0.023726285513820035), (3407, 0.034539558195485306), (3408, 0.014994150334147457), (3409, 0.05162048533836226), (3410, 0.0), (3411, 0.025760922633851584), (3412, 0.017950330374383976), (3413, 0.01619182256746307), (3414, 0.035503874050190634), (3415, 0.016620281371707287), (3416, 0.029785269336662666), (3417, 0.0), (3418, 0.06879291157692267), (3419, 0.0), (3420, 0.007860969838111192), (3421, 0.03850265371964678), (3422, 0.022418529179979763), (3423, 0.011482122627777874), (3424, 0.01595174491891838), (3425, 0.0), (3426, 0.012554323750377502), (3427, 0.024083553359204278), (3428, 0.01232554027844728), (3429, 0.006764782470258094), (3430, 0.02005191290502482), (3431, 0.017785859838337574), (3432, 0.0), (3433, 0.0036123942115514128), (3434, 0.014182308035782996), (3435, 0.02706549552730774), (3436, 0.03778177208967887), (3437, 0.09137605917980945), (3438, 0.05305227120919132), (3439, 0.019991218704024205), (3440, 0.0919288393958204), (3441, 0.017753669917998014), (3442, 0.0), (3443, 0.006726915469521431), (3444, 0.015330425917632331), (3445, 0.010702598154595337), (3446, 0.0), (3447, 0.020923005351763634), (3448, 0.011500801883633673), (3449, 0.015297283113079664), (3450, 0.0202368596520655), (3451, 0.024069227540400986), (3452, 0.021889578216058435), (3453, 0.0), (3454, 0.03787322916603024), (3455, 0.022183344907518686), (3456, 0.007803817479294345), (3457, 0.014694956786511084), (3458, 0.04347486575556993), (3459, 0.054498754742552724), (3460, 0.05870279421131361), (3461, 0.024107297402795467), (3462, 0.01532908015332197), (3463, 0.016175898830182597), (3464, 0.01392467354747631), (3465, 0.041322876466662994), (3466, 0.006952617978800516), (3467, 0.02321022217984727), (3468, 0.015344122101302978), (3469, 0.0), (3470, 0.0661281083711949), (3471, 0.012126815505020693), (3472, 0.01745394972563439), (3473, 0.01699531641909833), (3474, 0.023183448843727247), (3475, 0.003941318584342301), (3476, 0.0392865167495328), (3477, 0.02828854473680551), (3478, 0.09212339750336142), (3479, 0.023721588043078366), (3480, 0.010629465684947312), (3481, 0.02198518672088039), (3482, 0.010734669560240743), (3483, 0.016054118289350813), (3484, 0.023204190481503573), (3485, 0.01457987865945045), (3486, 0.03164887328419208), (3487, 0.034898990305298916), (3488, 0.0), (3489, 0.022933427035078467), (3490, 0.02130119008391299), (3491, 0.03910885724943763), (3492, 0.01351048590952279), (3493, 0.011055226890564521), (3494, 0.0), (3495, 0.012530703103151103), (3496, 0.011532882201074266), (3497, 0.016563384528572853), (3498, 0.015039056460980405), (3499, 0.0), (3500, 0.013694494517614697), (3501, 0.021156897536933842), (3502, 0.01716710888455745), (3503, 0.04488428681113314), (3504, 0.01630879169648045), (3505, 0.03623179764442874), (3506, 0.007738064425337438), (3507, 0.03285366078911498), (3508, 0.0), (3509, 0.01207923307752488), (3510, 0.0), (3511, 0.0), (3512, 0.015736759607231487), (3513, 0.00788753486333968), (3514, 0.03783128072007412), (3515, 0.041235852299566715), (3516, 0.0), (3517, 0.0), (3518, 0.005739714260781674), (3519, 0.015200250800774898), (3520, 0.03406052942753853), (3521, 0.0), (3522, 0.029017131533468868), (3523, 0.029869109343996746), (3524, 0.0378798710003707), (3525, 0.022443876808547848), (3526, 0.013924763361111977), (3527, 0.0324374926036547), (3528, 0.012878391719562078), (3529, 0.021417164194113977), (3530, 0.014446522591322643), (3531, 0.031183695335758516), (3532, 0.05848955067669054), (3533, 0.00392301626853532), (3534, 0.04025256257062701), (3535, 0.0), (3536, 0.05766474464093052), (3537, 0.0028557884767330664), (3538, 0.02785483943893845), (3539, 0.015940396326690563), (3540, 0.013071414082358306), (3541, 0.019502519807291802), (3542, 0.01487510281662296), (3543, 0.037390758308936775), (3544, 0.017439382264870434), (3545, 0.015173322063834059), (3546, 0.014541958326254054), (3547, 0.011882975108622832), (3548, 0.019502976533325698), (3549, 0.08320041685415897), (3550, 0.03638484252214811), (3551, 0.01109847105987299), (3552, 0.05550698087000329), (3553, 0.025314441388989098), (3554, 0.05017768241299719), (3555, 0.01363743709461509), (3556, 0.031091896959919582), (3557, 0.036864849446246045), (3558, 0.010273473274658142), (3559, 0.018016265757508282), (3560, 0.017263789769386487), (3561, 0.016410917452574517), (3562, 0.021365778832898304), (3563, 0.0), (3564, 0.014588851387130987), (3565, 0.04790222358906584), (3566, 0.05984036862018677), (3567, 0.0042368254193967175), (3568, 0.055897919301998965), (3569, 0.031094803492880695), (3570, 0.0), (3571, 0.010403626703059728), (3572, 0.02009579606436353), (3573, 0.012287040243385058), (3574, 0.029657854977222002), (3575, 0.032724398455765344), (3576, 0.01238964490899109), (3577, 0.04090258797384428), (3578, 0.017893865629963514), (3579, 0.0), (3580, 0.035899760702930245), (3581, 0.0035765519431841617), (3582, 0.038963859016379464), (3583, 0.1506058559388229), (3584, 0.04149063456358783), (3585, 0.0646924166262261), (3586, 0.0), (3587, 0.028229245286890838), (3588, 0.019392543553947875), (3589, 0.0), (3590, 0.01305242915304328), (3591, 0.01268207725136425), (3592, 0.017484960261902733), (3593, 0.027874068885898926), (3594, 0.041351341195424995), (3595, 0.027425691884252604), (3596, 0.010444348584730085), (3597, 0.030326205754554733), (3598, 0.014794862916661666), (3599, 0.01275539804281695), (3600, 0.0183257911736204), (3601, 0.0), (3602, 0.016351314889032523), (3603, 0.03595762881061077), (3604, 0.0), (3605, 0.01966697387513351), (3606, 0.018490948298020525), (3607, 0.011946752040331663), (3608, 0.05128114358562198), (3609, 0.01230919954043725), (3610, 0.0), (3611, 0.025908407921306633), (3612, 0.0), (3613, 0.02758258974617877), (3614, 0.0), (3615, 0.012867054045615106), (3616, 0.03672654836364203), (3617, 0.0), (3618, 0.021823472666900958), (3619, 0.0), (3620, 0.012908477284790224), (3621, 0.0035050197231039615), (3622, 0.004101848178693201), (3623, 0.030061495601225563), (3624, 0.05530140294791232), (3625, 0.015217254555153971), (3626, 0.00693877202431106), (3627, 0.015375141324868133), (3628, 0.020423522316006214), (3629, 0.0273524859460351), (3630, 0.02444858949290322), (3631, 0.0), (3632, 0.04827471549187446), (3633, 0.011553005087041152), (3634, 0.00708027607389893), (3635, 0.006713426197228314), (3636, 0.020700119650924123), (3637, 0.07073539291649332), (3638, 0.025421881782461714), (3639, 0.014135729932524736), (3640, 0.04532788703238502), (3641, 0.0), (3642, 0.030315362326099732), (3643, 0.02049628317930934), (3644, 0.014103607437489417), (3645, 0.0), (3646, 0.08100592067955727), (3647, 0.0), (3648, 0.019930770548319664), (3649, 0.024993184725696924), (3650, 0.01890324089646456), (3651, 0.05692695630835145), (3652, 0.008536276291605084), (3653, 0.031887182153289964), (3654, 0.05309322187178013), (3655, 0.05527813260148842), (3656, 0.024026459428017642), (3657, 0.015439807548044865), (3658, 0.038787845361043405), (3659, 0.07565608191079458), (3660, 0.06720380735133646), (3661, 0.015011350158404773), (3662, 0.01491178753128311), (3663, 0.02779853707075558), (3664, 0.03775318681955094), (3665, 0.011871421708707924), (3666, 0.011109123470207993), (3667, 0.0), (3668, 0.01837522864574081), (3669, 0.003887006556600704), (3670, 0.0), (3671, 0.035812316265735444), (3672, 0.009411686757172614), (3673, 0.023210543243274206), (3674, 0.05115602812693244), (3675, 0.030186957844487154), (3676, 0.0), (3677, 0.059441452408634465), (3678, 0.014760958551662061), (3679, 0.0047736785466762025), (3680, 0.0225895748620608), (3681, 0.0867885379143016), (3682, 0.007468687557804242), (3683, 0.011807640730544891), (3684, 0.011789626507708874), (3685, 0.03135502019549445), (3686, 0.0448738425917408), (3687, 0.03462666547651877), (3688, 0.031135788716123654), (3689, 0.058602236319905514), (3690, 0.0), (3691, 0.016181565377567424), (3692, 0.07244535680414546), (3693, 0.010485429115196083), (3694, 0.04413156246938271), (3695, 0.0), (3696, 0.007321340652677154), (3697, 0.0), (3698, 0.014361140962674324), (3699, 0.029132784045510157), (3700, 0.011184446206977547), (3701, 0.011411525118764726), (3702, 0.021974918726199243), (3703, 0.014673663029632801), (3704, 0.011714026539603675), (3705, 0.008278772138161606), (3706, 0.023094192031330386), (3707, 0.012867214724029519), (3708, 0.013683851325442628), (3709, 0.0), (3710, 0.0392652245858173), (3711, 0.03723352746059941), (3712, 0.015737550854023164), (3713, 0.015566860875923768), (3714, 0.041901322797241645), (3715, 0.0034543960817516512), (3716, 0.014272510638675092), (3717, 0.014809905356856747), (3718, 0.04286244459381376), (3719, 0.0), (3720, 0.007127631557875833), (3721, 0.03511708399604049), (3722, 0.011980810839184597), (3723, 0.005196444806816586), (3724, 0.026455226076205568), (3725, 0.01722000134139312), (3726, 0.02229682412768659), (3727, 0.01728637302856454), (3728, 0.048571977176232975), (3729, 0.030063660935590753), (3730, 0.01164179475498813), (3731, 0.0), (3732, 0.019483767562301208), (3733, 0.01599038040817473), (3734, 0.0), (3735, 0.02016467713277309)]\n"
          ]
        }
      ]
    },
    {
      "cell_type": "code",
      "source": [
        "len(recommendation_score)"
      ],
      "metadata": {
        "colab": {
          "base_uri": "https://localhost:8080/"
        },
        "id": "tONFnGYM5F7A",
        "outputId": "97d37f19-0939-43aa-ecc9-3b909c68ac34"
      },
      "execution_count": 45,
      "outputs": [
        {
          "output_type": "execute_result",
          "data": {
            "text/plain": [
              "3736"
            ]
          },
          "metadata": {},
          "execution_count": 45
        }
      ]
    },
    {
      "cell_type": "code",
      "source": [
        "sorted_similar_movies = sorted(recommendation_score, key = lambda x:x[1], reverse = True)\n",
        "print(sorted_similar_movies)"
      ],
      "metadata": {
        "colab": {
          "base_uri": "https://localhost:8080/"
        },
        "id": "qe3fwnxY5Sj-",
        "outputId": "ae23dcca-9998-447f-ceac-dcc3476f1667"
      },
      "execution_count": 46,
      "outputs": [
        {
          "output_type": "stream",
          "name": "stdout",
          "text": [
            "[(2692, 1.0000000000000002), (2728, 0.15907622609622837), (2252, 0.1572666532486424), (3583, 0.1506058559388229), (2417, 0.1469294331197321), (3143, 0.14471431271749008), (634, 0.13650639821559682), (3196, 0.13577536778065064), (382, 0.13508862925374915), (1592, 0.12900389290710093), (1563, 0.12265502325581591), (1715, 0.12034364711123341), (561, 0.11883653041376015), (3191, 0.11860189960179793), (2362, 0.1177768084288974), (1696, 0.11744648507633515), (781, 0.11696627303215465), (2436, 0.11496025839926519), (2951, 0.11461721818198535), (2444, 0.11245913437814137), (3265, 0.11140533742977128), (2835, 0.11130240743392027), (1827, 0.10957168703719916), (1051, 0.10857648222619218), (497, 0.10699164016081389), (1655, 0.10625704935282039), (1398, 0.10493203388087569), (211, 0.1024701701497831), (680, 0.10180837309957703), (3284, 0.09995504424891508), (1211, 0.09972747981769337), (125, 0.09952428770833299), (527, 0.09935261099248051), (364, 0.09921565946181235), (1466, 0.09915557057182003), (2075, 0.09888364886324569), (1941, 0.09882801454496862), (1745, 0.09862156490205021), (1377, 0.09860320913159988), (2970, 0.09731422208710663), (2298, 0.09685748644926061), (1950, 0.09576434507931286), (3291, 0.09522163866923129), (2712, 0.09453890718664784), (1863, 0.09451053615992817), (1835, 0.09417297837430096), (1909, 0.0939991154389071), (1098, 0.093907055854995), (1256, 0.09352611411965847), (3389, 0.09266860600521541), (3478, 0.09212339750336142), (1580, 0.09210557547670285), (3440, 0.0919288393958204), (3437, 0.09137605917980945), (2290, 0.0913063352959316), (2121, 0.09125863028617938), (1096, 0.09113970115589652), (659, 0.09076282350819073), (2177, 0.09053447091218655), (557, 0.09033069239319977), (782, 0.0892745667191494), (2372, 0.08916714277987553), (102, 0.08838499891009449), (538, 0.08691295346853486), (3681, 0.0867885379143016), (827, 0.08660825497527792), (3355, 0.08592895814027307), (2354, 0.0856467862513133), (1311, 0.08551334138529752), (2644, 0.08545884988343343), (1480, 0.08522783631816198), (1867, 0.08497116038674986), (191, 0.08372886932684048), (3549, 0.08320041685415897), (197, 0.08297249444727346), (2861, 0.08279924687800652), (2585, 0.0825571148962094), (3013, 0.08245842393710262), (2294, 0.08230881366777912), (2268, 0.08212304858488745), (816, 0.08179530964719393), (47, 0.0810274414710361), (1218, 0.0810245892936371), (3646, 0.08100592067955727), (14, 0.08094048097680231), (1387, 0.08087134618246451), (1628, 0.08044567204436431), (2818, 0.07999449510591992), (2399, 0.07991342524229111), (644, 0.07978940714843091), (3363, 0.07943625808268458), (610, 0.07933586904031507), (3152, 0.07906329116644906), (83, 0.07876054266502852), (708, 0.07860963062088173), (3203, 0.0782353274562558), (1722, 0.07820696209459492), (850, 0.07781439295120428), (2147, 0.07772824211941944), (2401, 0.07721812406415668), (1069, 0.07720507713772458), (1353, 0.0769312512937036), (2678, 0.07690276841839157), (2039, 0.07687574491729603), (1894, 0.07679850483775509), (1349, 0.07651820258984544), (2790, 0.07636710024247247), (799, 0.07636200979170159), (2004, 0.07608918243451683), (869, 0.07598120767412288), (3659, 0.07565608191079458), (990, 0.07549268886838226), (3032, 0.07530720823494781), (1015, 0.07522966178749302), (1958, 0.07520641485849693), (2421, 0.07489337941697248), (1788, 0.07485712987769477), (2911, 0.07478881795502625), (2534, 0.07456277558889632), (2466, 0.07446548735547517), (3313, 0.07442488861595078), (609, 0.07413560060010427), (1503, 0.07378240379866219), (28, 0.07367319686050447), (1494, 0.07348839068634512), (3159, 0.07297487622502989), (2586, 0.07273536886052855), (3692, 0.07244535680414546), (1235, 0.07234080971000412), (3185, 0.07228103177272559), (2724, 0.07225272865940509), (1200, 0.07218223933161212), (2789, 0.072093182464583), (1572, 0.07206516013895908), (298, 0.07195925756590504), (1627, 0.07184794124670589), (1105, 0.07184784213924765), (2126, 0.07156391973557655), (838, 0.07134238125788875), (1709, 0.0712188206039263), (2092, 0.0711879475291109), (2727, 0.07113015679062941), (3202, 0.07088612852431601), (3637, 0.07073539291649332), (429, 0.07070690596194279), (2086, 0.07066350129515438), (3258, 0.07053419969335664), (2685, 0.07039697164619271), (2379, 0.07038230393287075), (245, 0.07007907569263068), (1274, 0.0699836681091272), (2008, 0.06987471403026217), (1314, 0.06977321798329873), (2183, 0.06966742609168307), (2705, 0.06961272803652857), (699, 0.0695903420717155), (1995, 0.06948091745071291), (1723, 0.06946083130109798), (3146, 0.06937934018507988), (779, 0.06919228239565745), (481, 0.06879443058754257), (3418, 0.06879291157692267), (1469, 0.06867444283372429), (1582, 0.06859576674861209), (2275, 0.06851950974666755), (897, 0.06850316797802021), (2023, 0.06846954783659018), (3009, 0.06839975659282346), (1675, 0.06837099154728903), (472, 0.06830311978097624), (1382, 0.06829529451295346), (1739, 0.0680513180294374), (244, 0.06801030273649789), (2198, 0.06790539418161595), (2237, 0.06776554792633895), (2671, 0.0676634011061914), (1257, 0.06750000082982048), (3010, 0.06747290667022474), (3660, 0.06720380735133646), (2562, 0.06713833804422764), (1373, 0.06708446307837351), (1646, 0.06707637465184307), (628, 0.06702229131237122), (322, 0.06697170321391528), (2140, 0.06685368953029795), (152, 0.06679378748967194), (1508, 0.06678962726174521), (2013, 0.06674217334001403), (2032, 0.06670787859984899), (3064, 0.06660450890355603), (1006, 0.06652127052638254), (2952, 0.06633690784059276), (2175, 0.06616679259038234), (2713, 0.06615511793027223), (3470, 0.0661281083711949), (3144, 0.06606037275431793), (3338, 0.06603951708410755), (1911, 0.06598111441333859), (60, 0.06593335967004627), (1623, 0.06586204542561835), (801, 0.06583914250036643), (2353, 0.06580983479497449), (1800, 0.06576386974849632), (3283, 0.06559550787162043), (879, 0.06556777188400771), (2115, 0.06554415850724761), (1302, 0.06538958117426662), (2242, 0.06537479012897168), (920, 0.06524636552785391), (2019, 0.0652080050890043), (2387, 0.0651779116513222), (198, 0.06501438780781188), (2874, 0.06495494510280057), (1999, 0.06493124723495108), (3183, 0.06492217378214725), (544, 0.0648210800785626), (787, 0.0647675204263037), (3585, 0.0646924166262261), (919, 0.06468585077272086), (2128, 0.06460677523003587), (181, 0.06438291620096621), (160, 0.06431687209778969), (2718, 0.06427448472287739), (1678, 0.06406101425802874), (2801, 0.06405490639201356), (443, 0.06401077292059568), (3261, 0.06398991047834661), (2702, 0.06391213313823153), (1728, 0.06390780357613772), (2612, 0.06367380191193078), (61, 0.06357797555716149), (2795, 0.06347777122203094), (3, 0.06347669660965466), (2157, 0.06344312057604068), (2313, 0.06332522344393965), (1331, 0.06307521464645144), (2731, 0.06302415241253669), (2364, 0.0628716975565749), (1223, 0.06272058037610866), (389, 0.06267410609047845), (639, 0.06262857332759686), (167, 0.0625896887533174), (2135, 0.06256082155054882), (1419, 0.06253438363649647), (1682, 0.06252888038108131), (2639, 0.06247682369773544), (1963, 0.062476417698572456), (652, 0.062470597646809164), (2461, 0.062411715074266905), (2625, 0.062321071152048775), (1258, 0.06231005009346921), (2885, 0.06221316800943129), (2482, 0.06210785818548612), (809, 0.06205249879724836), (1973, 0.06204512137763304), (2607, 0.062000398349576644), (2400, 0.06199867644451191), (3091, 0.061993175715317365), (233, 0.061989564012552435), (383, 0.06192503548013323), (2070, 0.06190606016384823), (2244, 0.061890816367762724), (944, 0.06181561891823157), (2131, 0.061768696699608557), (136, 0.061720171647383235), (983, 0.06166039237678256), (180, 0.06162960878608105), (2331, 0.06162256093920193), (863, 0.06152362960966111), (1360, 0.061509562955231814), (874, 0.06148310557310968), (1597, 0.06144974270852188), (2065, 0.06132441758098882), (1375, 0.061273568853651504), (1059, 0.06114759081092115), (2985, 0.06111073416464377), (907, 0.061097072644077995), (739, 0.06109644605248872), (807, 0.06108021247445791), (3325, 0.06104298706480751), (2005, 0.061035401491422364), (183, 0.060865554601299665), (1487, 0.06078940773354286), (1555, 0.06076151156670071), (105, 0.06076018509584191), (2486, 0.06061914697835947), (895, 0.060608913319657794), (2700, 0.06058737815892638), (2124, 0.06041830516749497), (2370, 0.060358092150535746), (822, 0.06029553283618691), (1923, 0.06028992153228572), (2555, 0.06016341338789835), (1931, 0.060124971428200086), (1252, 0.06002908385421306), (888, 0.06002665521456209), (2149, 0.06000464026838698), (1636, 0.059957437087955895), (788, 0.059948803828059075), (3566, 0.05984036862018677), (2485, 0.05976574414711483), (3222, 0.05964180035783852), (1113, 0.059554927719166345), (1289, 0.059470277064387955), (3677, 0.059441452408634465), (3275, 0.05943270993459935), (624, 0.059400273632142675), (1702, 0.059302064161773305), (1363, 0.059257116691098774), (2923, 0.059236890128611636), (1550, 0.05921917617933177), (2544, 0.05920830394920541), (2900, 0.05916164520799718), (2006, 0.058924500959499526), (1299, 0.05891077955568381), (491, 0.05887131420027916), (1691, 0.05885917156959468), (1618, 0.0588109144353865), (2036, 0.05874420465221534), (2155, 0.05872884009943092), (2736, 0.05871681244106143), (1927, 0.05870387604699251), (3460, 0.05870279421131361), (384, 0.05868602486792705), (2764, 0.05867114183711495), (3689, 0.058602236319905514), (2908, 0.05857914133515844), (3148, 0.05853077456255803), (3532, 0.05848955067669054), (1259, 0.0584684400354459), (336, 0.05834785143214598), (189, 0.05834535242318211), (725, 0.05834277313329368), (2457, 0.0582493532835798), (2640, 0.058228499056038184), (1437, 0.05810536962204941), (2191, 0.05808976403178506), (2807, 0.05806273964952171), (2817, 0.057995028506067456), (3378, 0.057946302103264916), (972, 0.057931966774940336), (1117, 0.057870813609436196), (305, 0.05784032326939037), (1356, 0.05776112823244108), (3311, 0.05770487131324956), (1726, 0.05769105362263584), (3536, 0.05766474464093052), (2837, 0.05761695529374766), (829, 0.057603114032773), (3205, 0.0575902627163479), (467, 0.05757371322497608), (2877, 0.057491445021020576), (1264, 0.05749066123278925), (2558, 0.05742276610509571), (1980, 0.057172297800409916), (1294, 0.057055130878455894), (722, 0.05705241329984872), (1604, 0.057048118368673795), (954, 0.056988497833083525), (3651, 0.05692695630835145), (2037, 0.05690040856680092), (2661, 0.05678744140374541), (3115, 0.05674735660494303), (537, 0.056743683630970834), (1423, 0.056690927115275944), (2799, 0.056678865775768805), (1524, 0.05663022986668514), (2991, 0.05661285941946159), (3250, 0.05656446677681691), (615, 0.056551792298760166), (3163, 0.05653973055407213), (915, 0.0564115319757305), (1857, 0.056354901740588284), (1834, 0.056332598249639404), (1719, 0.056301802301088555), (2843, 0.0561419604528064), (3329, 0.05611225508765391), (3568, 0.055897919301998965), (1271, 0.05584944003959412), (870, 0.05584560740642222), (3120, 0.05583700866218869), (2172, 0.055812904289282324), (3309, 0.05581045503269645), (2220, 0.05570974375508921), (796, 0.05562331719022705), (2548, 0.05557788766514636), (3552, 0.05550698087000329), (1371, 0.05545178834420445), (3624, 0.05530140294791232), (3655, 0.05527813260148842), (161, 0.05523195263479273), (2204, 0.055178098880177384), (812, 0.0551604902809691), (1978, 0.055105427937202286), (1018, 0.05508917141267858), (3255, 0.055009714485716885), (2638, 0.054956813042066094), (428, 0.05492409056841759), (3069, 0.0548935616061066), (3125, 0.05481959813094674), (2385, 0.0548145199600637), (2458, 0.05476039517061097), (2205, 0.0547154301133604), (3382, 0.05470036276438111), (2873, 0.05464881704422006), (58, 0.05464460918203458), (2459, 0.05462948000603956), (893, 0.054550013838413514), (1579, 0.054540552989333156), (1775, 0.054539945896794104), (2096, 0.054512719356689124), (3459, 0.054498754742552724), (1603, 0.05449057693321608), (757, 0.05445992136145081), (335, 0.05444767977720789), (1583, 0.054322354919241006), (2076, 0.054312095931865464), (2987, 0.054272760394112746), (904, 0.054261911882271), (286, 0.05423670694465466), (329, 0.054214647848742234), (2233, 0.054165375060581396), (2308, 0.054144630340022024), (684, 0.0541211295819541), (110, 0.05410695383275303), (1994, 0.05401802056007112), (1347, 0.05398372470709991), (534, 0.053974881128748466), (1413, 0.05397429311166454), (1301, 0.05396404112067142), (2872, 0.05394535016767271), (3164, 0.05389783927345697), (2334, 0.05389568189342675), (1660, 0.053881031742636074), (760, 0.053869167335961816), (2359, 0.05386341156031907), (2992, 0.053828913404852415), (2257, 0.053815460023030004), (261, 0.053786361136693786), (1545, 0.05373367019465043), (111, 0.053714255723985804), (853, 0.053710376061744974), (2416, 0.05370773018352496), (2909, 0.05368904940562097), (2513, 0.05340726016168866), (2519, 0.0533702571317444), (2990, 0.05336037986801586), (2580, 0.05324399317419895), (692, 0.05322421110355044), (459, 0.05319809824417043), (2802, 0.053143215667456355), (2898, 0.053134918104602295), (1903, 0.053110358976691446), (3654, 0.05309322187178013), (794, 0.05308475562147148), (3438, 0.05305227120919132), (1207, 0.053050119801695446), (1972, 0.05302713444105715), (2983, 0.0529889647450183), (2365, 0.05294855385887329), (2323, 0.05293990124008398), (1281, 0.052925953777498855), (1307, 0.05291221648538472), (1180, 0.05288375123862695), (1133, 0.05278815647436371), (3405, 0.052771869204968), (2673, 0.05272479238387633), (949, 0.05271013969931568), (2061, 0.05269022757000012), (1661, 0.05266682516966711), (2659, 0.05264970332554228), (2408, 0.052625612575662686), (1606, 0.05254576832704782), (677, 0.05245954032928234), (1647, 0.05244898376689118), (670, 0.052409995480141386), (127, 0.05238735146052517), (148, 0.05237394071995992), (2492, 0.05237078685313954), (1152, 0.052334299503716125), (987, 0.05222860751979127), (618, 0.052091453600085935), (818, 0.05205198177598426), (1669, 0.05201590278096488), (435, 0.052010457460344744), (633, 0.051970543075033), (2167, 0.05195203435154435), (2088, 0.051945617212001985), (548, 0.051914392762618965), (2405, 0.05189148125238238), (750, 0.051865926219725356), (1922, 0.051860557882229985), (2688, 0.05184682276214126), (2521, 0.05184054837752045), (540, 0.051813563605451585), (1436, 0.051785761299155235), (1157, 0.05175470304031837), (3137, 0.05171091693366401), (1945, 0.05168410548993244), (1808, 0.051669981374063964), (3197, 0.05166673575139723), (2654, 0.051664938371248165), (543, 0.05164817634327382), (3409, 0.05162048533836226), (3088, 0.05157157542199971), (746, 0.05150072159043826), (2178, 0.05143014671785261), (1962, 0.051400292394736494), (2588, 0.051397395095537146), (2917, 0.05133734176074131), (2554, 0.05132953996727358), (3608, 0.05128114358562198), (32, 0.05123428334378954), (3340, 0.05123017820210621), (3674, 0.05115602812693244), (2551, 0.05115236825141983), (2410, 0.05103735111206068), (2645, 0.05102774388552819), (2922, 0.0508949486352754), (2668, 0.05082125014102376), (1082, 0.05081366415582762), (2650, 0.05076354234224986), (1687, 0.0507627812847695), (1593, 0.05072778041870628), (2000, 0.05070049495465676), (2525, 0.050602707303845224), (2203, 0.05053208696494737), (1286, 0.05051225272481873), (2373, 0.050431304518879026), (1558, 0.05041715273251494), (442, 0.050394378979881777), (337, 0.05038652822004513), (620, 0.05036709813729235), (2162, 0.050322196769909594), (3251, 0.05029985286056214), (867, 0.05029721944645882), (939, 0.05029705248066272), (2221, 0.05018465575628488), (3554, 0.05017768241299719), (2575, 0.050116465293957455), (1462, 0.05011058328551536), (1735, 0.05003093153504439), (1244, 0.050019352328720665), (117, 0.04994261925476151), (24, 0.049912762931306545), (2881, 0.049733343499242744), (720, 0.049663911441509896), (257, 0.04963966198607444), (3383, 0.04963448517446169), (1753, 0.049606434645171824), (2099, 0.0494603137738929), (1538, 0.04945935378259424), (564, 0.04943835365938504), (3364, 0.04937884837883252), (352, 0.04926405598932443), (457, 0.04921468633308097), (205, 0.04919754505916644), (2641, 0.049138893644705105), (2315, 0.049138217109144684), (1025, 0.049134265248837156), (3066, 0.0491021878494722), (2375, 0.04902971693514152), (421, 0.04894261407984962), (676, 0.048898860742549066), (82, 0.04889217646610574), (1575, 0.04885717359129905), (1877, 0.04885507018066949), (1560, 0.04881967828303038), (857, 0.04880621975599414), (700, 0.04875725527369162), (1239, 0.048731204762259867), (1196, 0.0486418001781484), (2133, 0.04860672945482443), (1212, 0.048599866327788684), (3728, 0.048571977176232975), (714, 0.04851228469292013), (2468, 0.048505729983457396), (2523, 0.04848941857182447), (456, 0.048488629413408965), (3296, 0.048486837151110115), (3253, 0.04840771410295252), (872, 0.048407525971274026), (2816, 0.04840598030146109), (1985, 0.04840198243910717), (2608, 0.048359516797050195), (3632, 0.04827471549187446), (2871, 0.04827415013247854), (289, 0.04826013045386387), (204, 0.04825701398787541), (2512, 0.04825042864514407), (2743, 0.0481927195294106), (3102, 0.04819200493105369), (2303, 0.048156382125844686), (232, 0.04813634868352818), (655, 0.048118463159119676), (1673, 0.04805368839765511), (2532, 0.04802477449424182), (2029, 0.048005392854048166), (2406, 0.04794917604517446), (811, 0.04793730858520638), (1742, 0.04793396191932493), (2309, 0.047911558906834684), (3565, 0.04790222358906584), (732, 0.04787375067882339), (2517, 0.047863663764906327), (13, 0.047839823066940984), (1000, 0.047821603604933365), (1588, 0.04782082691216131), (436, 0.04773982168377681), (3315, 0.04768137590319694), (2346, 0.04767745825188979), (683, 0.04763144672639952), (182, 0.04759501720275589), (2915, 0.04759313759684608), (2284, 0.047587334860318735), (1215, 0.04758514793354856), (737, 0.04752240149539268), (2136, 0.047518273790997746), (3001, 0.047517522716821296), (1391, 0.04749815922547013), (1748, 0.04745452696751452), (2490, 0.047390355073941924), (2717, 0.04737844771746186), (1083, 0.04735215200288029), (486, 0.04730787789440985), (2078, 0.04729177221450058), (1756, 0.04728176082145692), (650, 0.047280282138380196), (994, 0.04726836448217087), (2726, 0.047182496172768075), (1707, 0.04716553268676611), (1729, 0.047130777611384546), (1969, 0.04712010593702487), (2024, 0.04709878135210691), (2452, 0.04709548366891078), (2305, 0.047054411337477224), (2664, 0.04699996964960617), (2686, 0.046996345008716155), (1491, 0.04698770402337388), (2057, 0.046915848591028785), (1114, 0.046907407011840166), (3114, 0.0468837879192304), (400, 0.04685451617372807), (100, 0.04684807489599482), (1027, 0.04680744879927484), (2566, 0.04678538733108231), (1833, 0.0466927123191518), (107, 0.04668029939539922), (1284, 0.04666494216452335), (2278, 0.04662521742215915), (2134, 0.04659846371366516), (260, 0.0465952319445376), (1317, 0.04656892540698178), (3012, 0.046549445866409925), (1201, 0.04654911173416318), (2445, 0.046544663464002906), (2630, 0.04653208134903235), (1522, 0.04653097260541832), (1641, 0.046523019589125456), (1416, 0.04646449921940188), (504, 0.046432121738190085), (1443, 0.04632495029231548), (1341, 0.04631825552890401), (3046, 0.04631233539275066), (1366, 0.04630522893544432), (1968, 0.046260114010681835), (1809, 0.046242974412862715), (842, 0.04617807454799684), (1536, 0.04617115450502375), (2902, 0.046035051678382934), (3322, 0.046023742291608875), (501, 0.04595340686460892), (297, 0.04592267951198863), (1866, 0.04588812482148204), (2046, 0.045873318241508254), (22, 0.045861928143340586), (489, 0.04582762157026208), (1787, 0.045818916083142855), (1959, 0.04581013306492556), (2949, 0.04573874224685005), (1030, 0.045701587045076895), (985, 0.04564432574391526), (702, 0.04563758464086359), (1359, 0.04562157164646319), (386, 0.045603379581504525), (2806, 0.04560331130784318), (1143, 0.04559934138850888), (805, 0.04558177463081177), (679, 0.0455498876154877), (1663, 0.04550022122493824), (307, 0.045486891477414554), (942, 0.04544323202513182), (1337, 0.04544072618951636), (2921, 0.045397116697504944), (3048, 0.045358031624826975), (138, 0.04532894295698551), (3640, 0.04532788703238502), (407, 0.04530247624254469), (1327, 0.045152078716141394), (1898, 0.04513676747814514), (165, 0.04512119264746266), (696, 0.04511939588388787), (1780, 0.045106840812814214), (2582, 0.045104195051876864), (1840, 0.045083759102112125), (2577, 0.04503891884909658), (3342, 0.04500736761143802), (1485, 0.04499913009104267), (729, 0.04496046463510359), (1381, 0.04494806787465163), (3503, 0.04488428681113314), (3686, 0.0448738425917408), (2975, 0.04485120794830254), (1659, 0.04482619513374531), (2516, 0.04480822305499954), (1206, 0.044733251645343516), (1940, 0.04457310550117032), (1836, 0.04451806269655166), (1316, 0.0445152970156157), (1747, 0.044442340556995086), (313, 0.044429962637857215), (380, 0.04442254853597283), (1472, 0.044370007038238714), (1621, 0.04436034236248851), (2894, 0.04426669734341709), (1330, 0.04422637216407701), (973, 0.04421558899915161), (2697, 0.04420378574653369), (950, 0.044194343946904975), (2274, 0.044172456887346716), (2474, 0.04414534022906754), (3694, 0.04413156246938271), (510, 0.044127076322335375), (2941, 0.044105459799407054), (2345, 0.04408372048955496), (603, 0.04407267386162935), (2978, 0.04403173575491811), (1321, 0.04402224744821922), (1100, 0.043985154254587926), (1448, 0.04398287358526324), (302, 0.043924868758026564), (3337, 0.04384442250551454), (2679, 0.04381507811706864), (444, 0.04378089012096749), (2926, 0.043777773665603086), (2479, 0.04376225887115032), (2838, 0.043699626838410374), (2725, 0.04368752345412878), (2463, 0.04367038346951009), (1680, 0.04362041422882756), (2139, 0.04359792761550345), (2870, 0.04358386277431882), (2041, 0.043478657591071695), (3458, 0.04347486575556993), (570, 0.04345771215564899), (1540, 0.04344118819077577), (2020, 0.043410832701812355), (2464, 0.04338570364461496), (2656, 0.04331548404600532), (207, 0.04330605761461298), (1296, 0.04327852029600783), (3277, 0.04326871503603982), (356, 0.04326760018526192), (2707, 0.04320009249403896), (982, 0.04318902148170981), (2616, 0.04315800839718106), (1979, 0.04314377705073279), (1318, 0.043142694047066825), (370, 0.04314085996814468), (1874, 0.04313320676842884), (589, 0.04311761163585508), (2924, 0.043110603373326464), (2212, 0.043108293878906814), (713, 0.04310710213513624), (3063, 0.04310618584206148), (2383, 0.043077091910463404), (3170, 0.043015514122807304), (1029, 0.04296511973388972), (1637, 0.04294104242939016), (112, 0.04293589614297543), (2141, 0.04291997085757211), (503, 0.04291176219343734), (2568, 0.04290444413105208), (3718, 0.04286244459381376), (1919, 0.04285572936546706), (865, 0.0428506315538231), (1213, 0.04284440870683251), (806, 0.04283884017909086), (2955, 0.04280701762372849), (3145, 0.04280360161314481), (485, 0.04273801626924879), (2809, 0.042731996770412964), (605, 0.042728077466746395), (740, 0.042722581223789385), (2934, 0.04268506428058226), (891, 0.04268022299318999), (2937, 0.042647788266054365), (2687, 0.04264304373849053), (524, 0.04258677736468263), (1121, 0.042556792418827746), (731, 0.04248007520626158), (342, 0.0424192068969719), (2130, 0.042408525408712525), (3384, 0.04238826795795206), (494, 0.042365431966571616), (292, 0.04236361275467217), (1792, 0.04236303103576433), (3259, 0.042351749394076904), (3180, 0.04232865810386167), (1553, 0.042292868542879856), (1793, 0.042288188749396154), (542, 0.0422814780998924), (3089, 0.04227402972390676), (1975, 0.04220747022631003), (1403, 0.04219451998471501), (2721, 0.04215873813912691), (2429, 0.042146742780023685), (1198, 0.042128349265560354), (1513, 0.04209481212508538), (559, 0.042043772889648466), (858, 0.042022675856837), (1714, 0.04192247628306751), (3714, 0.041901322797241645), (2432, 0.041876796145587585), (1231, 0.04187083934901194), (852, 0.04186705760476453), (1176, 0.04186600691166338), (773, 0.04186011259021863), (3165, 0.041831157917729365), (2159, 0.04180495383684351), (119, 0.04176157100568534), (792, 0.04175399948384215), (2180, 0.04171092702362301), (2883, 0.04169194303788653), (883, 0.04167196599325758), (2435, 0.041629637195085126), (2195, 0.041626526576723825), (671, 0.041546665813309805), (2738, 0.041530778918828816), (3190, 0.04151600571101981), (1428, 0.041493531909557506), (3584, 0.04149063456358783), (1178, 0.04149040482526235), (575, 0.04144627352274851), (905, 0.04142839854312306), (376, 0.04138626830223825), (171, 0.04136999602136907), (621, 0.041357902208768615), (2842, 0.0413549123468009), (1044, 0.04135211657852794), (3594, 0.041351341195424995), (3465, 0.041322876466662994), (1926, 0.04131716545684626), (3110, 0.04128914503719674), (1031, 0.04127224770815818), (3515, 0.041235852299566715), (880, 0.04123217971786335), (1819, 0.04122250254843227), (315, 0.04119724407913084), (2282, 0.04115727272796805), (3156, 0.041150935281713694), (2906, 0.041132012831581154), (860, 0.04112727633214356), (2890, 0.041089507594010914), (2791, 0.04103493976106126), (506, 0.04102516726835957), (251, 0.04098260332936982), (2329, 0.04097795787243961), (765, 0.040972241966915984), (1734, 0.0409694166265001), (2456, 0.04096131151507162), (3320, 0.040930014903584666), (2778, 0.040922841263653295), (3577, 0.04090258797384428), (246, 0.04089098412770638), (723, 0.04085786568956565), (3301, 0.04082359929937868), (1493, 0.040811255298648194), (2805, 0.04080515506103741), (958, 0.0407963914095348), (1355, 0.04077482829449939), (651, 0.04074757693154289), (2318, 0.0407337774653819), (2206, 0.040689952034309966), (2246, 0.04068831780270704), (1645, 0.04068747453180806), (1293, 0.0406452693090648), (1079, 0.04062945166995919), (1116, 0.04062927219856556), (2085, 0.04062624691828792), (871, 0.04058991942217795), (780, 0.040540373252575646), (906, 0.04050527330699102), (367, 0.040477954398868116), (2635, 0.04044952333334363), (2034, 0.04039660604187621), (237, 0.04039647756556237), (2722, 0.0403927298162339), (2965, 0.04038321125366472), (1971, 0.04037812769502567), (1505, 0.040340260513484646), (248, 0.040309234961899615), (2420, 0.040298693310300664), (599, 0.0402698505123153), (1303, 0.040261019398905175), (3534, 0.04025256257062701), (2448, 0.04019688757269859), (1799, 0.0401889541670908), (1060, 0.040184447293911414), (2735, 0.040180410958217005), (2272, 0.04016653971720452), (2670, 0.04015649901500596), (2336, 0.04011807181725382), (2256, 0.04005735129710727), (3158, 0.0400254032413419), (981, 0.03996650656860064), (984, 0.03994829255612446), (687, 0.03993325848076007), (752, 0.03992638426599128), (1202, 0.03991976832392823), (49, 0.03989884571910163), (3280, 0.03982312891696142), (965, 0.039817787640205535), (2462, 0.03981550810638984), (2742, 0.03979895334793848), (185, 0.03975374882379338), (1087, 0.03964688228601973), (2262, 0.03959722950493978), (823, 0.03956699635735878), (1656, 0.03948164236009547), (1417, 0.039407221713652615), (1928, 0.03937996400728303), (3133, 0.0393292024989601), (3476, 0.0392865167495328), (2414, 0.03928596411515998), (3710, 0.0392652245858173), (1838, 0.03925438801109587), (2751, 0.039233760825695616), (1153, 0.0391992237637513), (1167, 0.03919452189832121), (2442, 0.03918200644395844), (2189, 0.03917090629141777), (2066, 0.03916689516967754), (1784, 0.03912380285392196), (3491, 0.03910885724943763), (1981, 0.03908854302363478), (685, 0.039043151581084824), (68, 0.03901213096090139), (1862, 0.03900110578386158), (924, 0.03899725366525306), (2451, 0.0389928705577377), (607, 0.03896438387327533), (3582, 0.038963859016379464), (595, 0.03896225948668212), (1490, 0.038950111364143065), (254, 0.03893251394423761), (259, 0.038932490681669686), (2760, 0.03891337478997328), (1199, 0.038897552790994605), (2945, 0.038886517732436635), (1140, 0.03881317343228706), (484, 0.038797659028743346), (3658, 0.038787845361043405), (3052, 0.03874131708966572), (1785, 0.03872835445968427), (1951, 0.03868453421319573), (2622, 0.0386584787639822), (3139, 0.03865799860748975), (3118, 0.03865098800384716), (856, 0.03862705912451241), (1111, 0.038623401826681114), (394, 0.038573180009898546), (2434, 0.03857292712261743), (2111, 0.03856798369261259), (3175, 0.03855578766280391), (1338, 0.038532646086198184), (454, 0.03851832928930825), (3421, 0.03850265371964678), (1074, 0.03848553206716285), (1684, 0.03844263433391072), (1369, 0.03838759718961497), (236, 0.03837341939323928), (2014, 0.03835945530443913), (734, 0.038328659394817624), (558, 0.03832375121991738), (1285, 0.03831319960711035), (3339, 0.03824600194743137), (1842, 0.03822872087516842), (393, 0.03820389396456949), (3061, 0.03816303372195013), (1097, 0.03813668294730137), (3370, 0.03810949960107923), (2785, 0.03810845066525245), (881, 0.03809799435512274), (2982, 0.03802525417067326), (986, 0.037989033064899286), (3035, 0.03796767905511102), (2363, 0.03793553308802307), (1625, 0.037920129569495434), (896, 0.0379169857109852), (200, 0.03788191402856736), (3524, 0.0378798710003707), (3454, 0.03787322916603024), (3514, 0.03783128072007412), (3436, 0.03778177208967887), (1960, 0.037774391564942084), (3664, 0.03775318681955094), (1447, 0.037747059012392725), (778, 0.037733061280958366), (1511, 0.037704172859495406), (2080, 0.03769903725273909), (216, 0.03764791998184186), (2699, 0.03758974335297905), (1300, 0.03756536291097737), (262, 0.037564089823664035), (3279, 0.03751564074255995), (482, 0.03750393585098318), (239, 0.037487914328574456), (1125, 0.03747614801125248), (2564, 0.03747610201734297), (943, 0.037470936606604645), (726, 0.037434525850754144), (1831, 0.03742964341651124), (1481, 0.03740824154119044), (3543, 0.037390758308936775), (1324, 0.03739025212919649), (3230, 0.0373795005796176), (1312, 0.03737077373058429), (1270, 0.03731202309574676), (325, 0.037307623565836404), (2033, 0.0372984725912131), (1664, 0.037288422719689025), (3354, 0.037250789344916324), (1764, 0.03724937395931895), (17, 0.03724786178103332), (3711, 0.03723352746059941), (326, 0.0371885954250455), (637, 0.037169235505721474), (2185, 0.037140975298697594), (2701, 0.03708153347240285), (1144, 0.0370345010746171), (2796, 0.03691662966819603), (1432, 0.03689223113256919), (719, 0.03688264995142355), (264, 0.03688018527137588), (2723, 0.03687155780226786), (3134, 0.036866107260709054), (3557, 0.036864849446246045), (645, 0.03686334237884709), (201, 0.036829698903746204), (309, 0.03682368833503227), (230, 0.036817141321761), (813, 0.03679214594212879), (1965, 0.036774918322958865), (3616, 0.03672654836364203), (477, 0.03670284563770139), (751, 0.03668695437264278), (1131, 0.03667495590335772), (1361, 0.03667205315790747), (817, 0.03660881810934176), (79, 0.036600323634044654), (1837, 0.03659223378489034), (1688, 0.03658608867302167), (1145, 0.03657381390705876), (2253, 0.03653054393992175), (66, 0.03643941107693169), (3067, 0.03643270678965288), (1654, 0.036413494766350134), (2784, 0.0364033899820314), (926, 0.036398628879523075), (3550, 0.03638484252214811), (70, 0.036332005636534055), (2787, 0.036305768635058466), (1141, 0.036256632622272175), (3303, 0.036253930013828276), (1546, 0.03625101229910489), (3505, 0.03623179764442874), (120, 0.03622531573594415), (115, 0.036187732949893886), (2680, 0.03610670617029002), (2845, 0.0361042403535454), (747, 0.03610045775454891), (2847, 0.03609397052714193), (1829, 0.03607574430745039), (76, 0.03607261497977954), (2470, 0.03607057883484108), (886, 0.03606931134484263), (283, 0.03603679817267049), (1757, 0.03602239312912301), (1762, 0.03596075096379415), (3603, 0.03595762881061077), (3178, 0.03594433497092515), (890, 0.03594120077932341), (2357, 0.035906564765964724), (3287, 0.03590540246161472), (3580, 0.035899760702930245), (1607, 0.03586651702475924), (3671, 0.035812316265735444), (1676, 0.035806711540150936), (135, 0.035790738644483545), (2170, 0.035788544881324956), (150, 0.03577525964575764), (184, 0.035772733049426644), (2499, 0.035680040042990205), (479, 0.03567354074470757), (217, 0.03566471321378977), (334, 0.035660356323248085), (1924, 0.035632877455869225), (0, 0.035587798698074255), (3083, 0.035556989667688756), (1839, 0.035509889898116945), (3414, 0.035503874050190634), (2732, 0.03549477682228932), (2849, 0.03549449302829979), (2377, 0.03546742100825537), (1717, 0.03541778427278375), (113, 0.03538634805548982), (2535, 0.03536943693010412), (2168, 0.03534870813657327), (163, 0.03530454494147458), (2964, 0.03530142427692364), (2112, 0.035293837493856325), (1468, 0.035221687165811935), (1574, 0.035196466748727714), (2893, 0.035186848136592314), (34, 0.035185778280250254), (2307, 0.035157213644514476), (3721, 0.03511708399604049), (470, 0.03511161174872246), (2954, 0.03510945185050651), (3135, 0.035069722880449974), (1134, 0.03505580055956639), (3373, 0.03504783962107678), (691, 0.03501002978941541), (1489, 0.034999516061362), (2395, 0.03494454062385339), (1229, 0.03494341953948678), (3487, 0.034898990305298916), (1796, 0.0348634439319748), (2782, 0.03485585325023195), (1103, 0.03482227130944687), (41, 0.03481621652326822), (560, 0.03478079085062811), (1313, 0.034760513482514854), (3042, 0.03475924938830181), (1812, 0.034756410835532894), (195, 0.034707541096451085), (656, 0.03466076904339468), (3687, 0.03462666547651877), (1172, 0.03462621198625271), (128, 0.03461597814739043), (1731, 0.03458375257340558), (892, 0.0345473938512591), (3407, 0.034539558195485306), (2518, 0.03452582747410616), (512, 0.03452150075716856), (1686, 0.034507685863550686), (2928, 0.03448828951859271), (1449, 0.03446026824006971), (2938, 0.03443551290261758), (1528, 0.03441905160824616), (1697, 0.03437589938327665), (2411, 0.034372444245599085), (253, 0.0343203328692174), (493, 0.034263237823800495), (625, 0.03422666780845846), (2266, 0.03419433419209989), (598, 0.03419334869703386), (1372, 0.03418359782485007), (392, 0.0340877884142127), (2412, 0.03407031033522451), (3520, 0.03406052942753853), (2522, 0.03404945034278246), (830, 0.033961913799695195), (388, 0.03389640864105689), (2681, 0.03385684958639235), (3094, 0.03382560531121769), (521, 0.033809831783373434), (1783, 0.03380453020144389), (2578, 0.0337958265910722), (3057, 0.03370484857656797), (667, 0.03366857189262686), (1622, 0.03364212844057117), (3068, 0.03364117475438063), (851, 0.033597565395388294), (1247, 0.0334512142457162), (1137, 0.0334360596768834), (84, 0.0334358381637302), (1904, 0.03342399491325295), (3119, 0.03339343641415307), (1679, 0.033378173864105874), (3167, 0.03337129628557612), (937, 0.03336902676973426), (350, 0.03332746522158112), (2397, 0.03327189984443128), (3059, 0.03326091041300781), (1020, 0.033235159739696464), (214, 0.03323094190189284), (3187, 0.0332060638982989), (2496, 0.03315641370357041), (2761, 0.03314993306565039), (1345, 0.033135058323251886), (2161, 0.03312000728634329), (2594, 0.03311074042709417), (106, 0.033072045695114294), (1821, 0.03299824596880695), (717, 0.0329178338383146), (203, 0.03286241680814624), (3507, 0.03285366078911498), (1150, 0.032849833360920205), (1750, 0.032812886399561314), (604, 0.0327406651179358), (3575, 0.032724398455765344), (2292, 0.032693743187031166), (270, 0.032657398917385456), (2188, 0.03265076267220508), (2569, 0.0326445432636297), (956, 0.03257241679554184), (1266, 0.032531836696629575), (2766, 0.03252524153906139), (2752, 0.032499696658008455), (800, 0.03243914493407746), (3527, 0.0324374926036547), (3267, 0.032432864445977705), (1760, 0.032429371133973456), (647, 0.032388858272980665), (1531, 0.032370917090268354), (1012, 0.032367464531904755), (412, 0.032310471517060645), (3049, 0.032308557366553234), (2614, 0.032308289694317774), (2506, 0.03226136908924041), (864, 0.03221662124739966), (733, 0.0321812928367005), (1253, 0.032131992085058854), (445, 0.032043677647077114), (2822, 0.03202566147769973), (701, 0.03199790389781811), (3078, 0.03199644987835392), (3369, 0.031974862227753274), (1499, 0.031963467096616203), (3109, 0.03194953489199197), (3653, 0.031887182153289964), (2489, 0.0318734598383607), (2539, 0.03185326156972512), (351, 0.031729539590231046), (450, 0.031721586160397), (3003, 0.03170318563129297), (208, 0.03169942532344455), (1255, 0.031695130799575866), (3246, 0.031690195277784945), (2913, 0.03165357805827471), (2231, 0.03165128164036757), (3486, 0.03164887328419208), (2892, 0.03163295114444659), (308, 0.03161101499721424), (2351, 0.03160978853413852), (1310, 0.03160169475768004), (1011, 0.03157324316758565), (3079, 0.03156492744577253), (900, 0.03156461003187236), (1763, 0.03154538125463116), (1932, 0.03151570459187064), (1068, 0.03149926206262304), (2754, 0.03145902354285889), (3161, 0.03141997609599377), (2035, 0.031410634716561976), (3685, 0.03135502019549445), (586, 0.031289066581594006), (1913, 0.03126700048412917), (2514, 0.03125746495973894), (678, 0.0312507156007934), (2737, 0.031233896723183194), (2665, 0.031209933874141404), (3531, 0.031183695335758516), (434, 0.03116116161776084), (2815, 0.031159515298577273), (500, 0.031139120869533313), (3688, 0.031135788716123654), (3569, 0.031094803492880695), (3556, 0.031091896959919582), (532, 0.031082693743630943), (1868, 0.031063063375889072), (1169, 0.03100777979839551), (2745, 0.030993880726930614), (1322, 0.030986213491853345), (1232, 0.030985151865276835), (2999, 0.03093886970165772), (3051, 0.030865002214843014), (3073, 0.03077667636984978), (3393, 0.030765929429643485), (2961, 0.030727570646042993), (903, 0.030680391530991856), (885, 0.030657218080136453), (1761, 0.03065607827267187), (299, 0.030649673610523082), (875, 0.030645400893445314), (2642, 0.030635945453930093), (306, 0.030629926956185962), (1791, 0.03059315969152963), (2050, 0.030549174779589065), (1873, 0.030542720952358243), (835, 0.030532340597139693), (1767, 0.03052576501390944), (1794, 0.030473124342484753), (2310, 0.030465742867634663), (1394, 0.030436231221839832), (408, 0.030432586984792582), (2042, 0.030423162349870882), (1595, 0.030361696110115775), (3213, 0.030336959493584312), (3597, 0.030326205754554733), (3642, 0.030315362326099732), (333, 0.030268561929536576), (1769, 0.03025399400217397), (2927, 0.030192436144709064), (3675, 0.030186957844487154), (1845, 0.03018201133033154), (2229, 0.030176342004626263), (2352, 0.03012958597147556), (1404, 0.030120641698758145), (2350, 0.03009855833535397), (2920, 0.03009072999740855), (1240, 0.030085390107391866), (724, 0.030083196378835796), (3729, 0.030063660935590753), (3623, 0.030061495601225563), (1736, 0.030042162529299497), (2776, 0.030009965880586874), (37, 0.03000057972474465), (2255, 0.02997076841516709), (327, 0.029944104063311598), (1056, 0.02992563685641506), (2530, 0.029906999490947966), (3523, 0.029869109343996746), (1139, 0.02986235233666664), (210, 0.029858827300352733), (1970, 0.029821468186293686), (3416, 0.029785269336662666), (2388, 0.029783209474558967), (1378, 0.029735026635474844), (695, 0.02973003766745102), (1292, 0.029694823730877375), (1725, 0.02968211115388937), (3574, 0.029657854977222002), (682, 0.029646210196881483), (3341, 0.02962517155654798), (3274, 0.029607013103929655), (2453, 0.02958048478439399), (39, 0.029533461336259018), (2571, 0.029513204514466165), (1820, 0.029502853493106287), (2002, 0.02949550791308029), (1918, 0.02948093207974014), (3242, 0.029478291891808922), (1823, 0.02947445530174416), (3043, 0.02941518026737792), (2179, 0.029415105428229067), (665, 0.029319221505757574), (23, 0.029281295108669926), (1955, 0.029251270772695542), (1186, 0.029234484851536596), (1699, 0.029229312102982682), (2460, 0.029229168034468227), (3336, 0.029220077169410073), (469, 0.029216775340832432), (2260, 0.02919328471008669), (2504, 0.029170753954790414), (332, 0.029169628632359678), (2100, 0.029156975638718767), (1805, 0.029147344967968298), (2280, 0.029140548725091794), (3699, 0.029132784045510157), (1535, 0.029127095256268692), (1333, 0.02911960386884474), (658, 0.029115068959393295), (2347, 0.02911216115440656), (2637, 0.029111585700273092), (1348, 0.029108486118852646), (1566, 0.02908130299449685), (159, 0.02906131883325353), (2758, 0.02904872549661626), (2108, 0.02903280431157764), (1774, 0.029031958777242524), (1626, 0.029019136133304257), (3522, 0.029017131533468868), (2051, 0.029016389417578278), (235, 0.028998590546530787), (2576, 0.028970788771988665), (862, 0.02896835035495498), (2059, 0.028963070191716456), (2333, 0.028956159318344447), (2166, 0.02881902710517907), (2283, 0.028793318763621456), (1108, 0.028764980831067065), (2981, 0.028725169211233754), (1759, 0.02872045576520456), (1633, 0.028713169458200592), (397, 0.028691874319981398), (1516, 0.028648598523938595), (2488, 0.02861923923112885), (2828, 0.02857137025488967), (2502, 0.02854578508004542), (1067, 0.028530123633452316), (2082, 0.02851891336074232), (318, 0.028478040595030354), (118, 0.02847065541947789), (2980, 0.028469350174714643), (1934, 0.028463262470229626), (2763, 0.028449714805056543), (2756, 0.02844700796106144), (1635, 0.028436850145302735), (3312, 0.02842772424609001), (2146, 0.028426299050798142), (227, 0.028421840519959468), (455, 0.028420625018957667), (2207, 0.028402538075898067), (2409, 0.028394035368816826), (3045, 0.02838012043572257), (2780, 0.028377512192721305), (1017, 0.028371686827906265), (3028, 0.028369257766697707), (151, 0.028313725885086342), (93, 0.028311336629132242), (1816, 0.028299007359737567), (3477, 0.02828854473680551), (2769, 0.028267783380841776), (1961, 0.028248888424880058), (3587, 0.028229245286890838), (980, 0.028215606529355754), (2792, 0.02817245426014854), (996, 0.028144013364233087), (1608, 0.028122412156553957), (2603, 0.02811477092480566), (1543, 0.028097305846459707), (2643, 0.028086956340011425), (3218, 0.028084992279963084), (1755, 0.0280747460548912), (962, 0.028008979802796402), (2658, 0.02799319915536641), (1624, 0.027933960059098668), (2891, 0.027919060424525514), (2887, 0.027897774506538502), (2491, 0.027896469832346418), (103, 0.027886085061118893), (3593, 0.027874068885898926), (1917, 0.027869374036113042), (2719, 0.027859349874778543), (3130, 0.027858560140412672), (3538, 0.02785483943893845), (1460, 0.027854639177076996), (268, 0.027807297159615045), (3663, 0.02779853707075558), (1692, 0.02773770809034453), (2865, 0.02773757265138594), (1142, 0.02772013070309818), (2068, 0.02767180245505404), (2903, 0.02767171480630959), (1396, 0.02765351075805136), (1858, 0.02760212222936219), (2730, 0.027597737742612684), (3613, 0.02758258974617877), (741, 0.02757901641082295), (1101, 0.027548669936068367), (2182, 0.02752852165764809), (2958, 0.027511564660985303), (2832, 0.027468684998041983), (1630, 0.027444929255079915), (3273, 0.02744312042617702), (3397, 0.027431182069954277), (1998, 0.0274293786171929), (3595, 0.027425691884252604), (574, 0.02740370810150696), (2101, 0.0273767795501677), (3629, 0.0273524859460351), (925, 0.027321769316592907), (2698, 0.027318114101749627), (279, 0.027292441513850366), (2438, 0.027289007961507593), (592, 0.027278981797318587), (1914, 0.027277512645527788), (1822, 0.02721146574693517), (1268, 0.027206182559066136), (3166, 0.027202068568352965), (2127, 0.027163444112182), (158, 0.02712623678131957), (317, 0.02707081065074786), (3435, 0.02706549552730774), (833, 0.02705201063585086), (1192, 0.02705119387198145), (1886, 0.02704455775944174), (549, 0.027040744702460193), (323, 0.02703616984298607), (1370, 0.027033682447319067), (2192, 0.027015917421315275), (223, 0.027012690507938815), (2733, 0.026964712215499568), (2619, 0.02695181762131555), (425, 0.026939778178406204), (1088, 0.026927633917939953), (1187, 0.026886587694291586), (2851, 0.02684370479683304), (1803, 0.026826570235659236), (3179, 0.026824475473045777), (831, 0.02681884652720057), (1089, 0.026811253518040225), (3065, 0.026806961075320837), (1876, 0.02680256400344397), (3006, 0.026754679086082478), (1129, 0.026731606125393576), (1454, 0.02671955988794434), (1191, 0.026711508748801946), (1084, 0.02669195882542733), (3243, 0.026680145406687956), (447, 0.026678577295006594), (1043, 0.02664124318773274), (2238, 0.026526889061836218), (2691, 0.02646755762680804), (3724, 0.026455226076205568), (744, 0.02645421989085666), (1957, 0.026440025172115078), (357, 0.02641157446618286), (993, 0.02639124126998061), (3317, 0.026389233230655708), (2356, 0.026382887569804538), (1319, 0.026323707273685056), (2312, 0.02631143655944495), (1576, 0.026300147621997155), (3155, 0.026294238962082307), (567, 0.026273431329898442), (2287, 0.026271619637638736), (3385, 0.02626903696628584), (1464, 0.02626342424344881), (697, 0.02626323715126285), (2793, 0.02624990633049397), (3154, 0.02622624356556232), (2027, 0.026209599877615706), (916, 0.026195456767587607), (1035, 0.026169502420689363), (1023, 0.026135611762989543), (1710, 0.026110224396146423), (2572, 0.026087647257613516), (938, 0.02608115111956471), (2258, 0.02607947188920353), (632, 0.026078362352750434), (1473, 0.026076294826559314), (2340, 0.026034972147319955), (2944, 0.026034547854516178), (1770, 0.02602917598651342), (2598, 0.02602448255556826), (3257, 0.0259932141418599), (1407, 0.025992312117178715), (3278, 0.02599159720672211), (2556, 0.025976421640845716), (2804, 0.025944866813137325), (3162, 0.02593443244817685), (1901, 0.025910828001504314), (3611, 0.025908407921306633), (775, 0.025903927576314746), (1990, 0.025885023710582555), (763, 0.025880409719091852), (3044, 0.025878770272068693), (2018, 0.025844028453091358), (59, 0.0258400478558361), (1884, 0.025833604768658106), (2402, 0.025786431112471427), (1390, 0.02576108990200662), (3411, 0.025760922633851584), (1459, 0.025745535968828115), (3264, 0.025728329873496856), (3101, 0.025710916982941402), (3033, 0.025696267618447944), (1148, 0.0256768427308756), (2384, 0.025673859851753494), (1804, 0.02566895832539378), (276, 0.025668259156404256), (1824, 0.025662114575899016), (1194, 0.025634174431061665), (755, 0.025629149398046162), (3113, 0.025602705560785925), (552, 0.0255574987199683), (2440, 0.025541988484053084), (1900, 0.02553754927934982), (1533, 0.025516429329306242), (1977, 0.02551310999372318), (776, 0.02549381840625372), (839, 0.025483256669110027), (1304, 0.025476052711607376), (629, 0.025470719839959872), (1421, 0.025459235663434273), (1203, 0.025458370720040938), (967, 0.025424765175634533), (3638, 0.025421881782461714), (959, 0.025417023310030734), (2475, 0.02541433885856991), (3386, 0.025412594316361514), (1577, 0.025401231443939472), (2613, 0.025352666793613553), (2511, 0.025346483432893918), (2882, 0.0253439819984696), (2542, 0.025339555789328505), (46, 0.02533813991457127), (1718, 0.025335607310586546), (3553, 0.025314441388989098), (641, 0.02527122440205768), (2543, 0.025265733464392946), (401, 0.025259607235740354), (2104, 0.025255700836264494), (2227, 0.025251299472507004), (974, 0.025251086490732683), (1076, 0.025244172385986207), (819, 0.025217875308059846), (1896, 0.025215183469223117), (1920, 0.025182981428533417), (116, 0.025174506494625118), (1881, 0.025165057014002495), (1135, 0.02513533722694755), (2767, 0.025135300097622562), (3394, 0.025114334847833448), (935, 0.025046324521774493), (1384, 0.02500671854572218), (2077, 0.025004371615066585), (1364, 0.02499437354241193), (3649, 0.024993184725696924), (222, 0.024983523048106818), (11, 0.024935040250345077), (1204, 0.024921706510980038), (1939, 0.02489419029746416), (1441, 0.024875469966504877), (2786, 0.0248714353876131), (2557, 0.024869660006489124), (627, 0.024858273822360073), (2538, 0.024838994957305544), (1161, 0.024830335525079367), (1112, 0.024808681810580803), (2293, 0.0247947165121822), (1238, 0.024761049552399557), (1408, 0.024755486834443508), (640, 0.02471626908928861), (1410, 0.024675608113767074), (1547, 0.02465663839625279), (263, 0.024642791047600646), (1712, 0.02463105055907402), (1573, 0.024623845057452944), (3388, 0.024595806970479087), (1344, 0.024586506102747666), (2672, 0.024579145883812898), (1182, 0.024574662830329635), (2741, 0.024523866394361337), (638, 0.024519194373276994), (2886, 0.024495561453665615), (1358, 0.024477437575538594), (859, 0.024448771358189823), (3630, 0.02444858949290322), (2360, 0.024448001658531632), (1740, 0.024441818634090586), (2091, 0.02441504878291314), (1024, 0.0244091709859488), (756, 0.024408125098494816), (2648, 0.0243856023445182), (878, 0.02438311166336514), (3080, 0.02438267861632678), (572, 0.024381881579131102), (1882, 0.02437283592772407), (440, 0.024358043932633654), (1815, 0.024352464792680915), (1463, 0.02433977142593162), (2675, 0.02430983751874471), (1151, 0.024292180527477225), (1406, 0.024282557881162802), (2122, 0.02422963549638265), (1399, 0.02421900116899646), (520, 0.024186168354181713), (522, 0.024166930160278988), (3192, 0.024159014893005235), (1354, 0.02412913950659191), (43, 0.02412801095352069), (884, 0.02412394612881128), (3228, 0.024121645617439895), (3461, 0.024107297402795467), (2708, 0.024103457391565594), (3427, 0.024083553359204278), (2361, 0.02407708416258899), (321, 0.02407597903964329), (3451, 0.024069227540400986), (1554, 0.024054908506943022), (3656, 0.024026459428017642), (3240, 0.02402082193572891), (1147, 0.023999841733712723), (1483, 0.023912764121796243), (192, 0.0238926606499218), (1534, 0.023889888356608324), (3306, 0.023777037045233994), (2528, 0.02373748466017702), (3326, 0.02373029658834891), (3406, 0.023726285513820035), (3479, 0.023721588043078366), (1427, 0.023683729737861606), (3319, 0.023680804433723553), (2929, 0.023667738496891945), (970, 0.023666152930784452), (2235, 0.023639652922327985), (2660, 0.02362371856398593), (3399, 0.02362019329919822), (716, 0.02361099037777571), (2301, 0.02359671892476964), (2509, 0.023586028730116004), (2054, 0.02358286517996775), (1045, 0.02354656509101969), (3387, 0.023539000421126565), (1733, 0.02353553345910202), (228, 0.02351892461748176), (2171, 0.023483682678783112), (2324, 0.023480589482748133), (353, 0.023463888191713404), (3371, 0.0234616614543003), (2095, 0.023455950043491356), (2720, 0.02340855722889385), (2145, 0.023375641931854457), (2950, 0.023369968312911146), (2321, 0.023347547568431236), (1781, 0.02334307583294632), (2110, 0.023342290898006088), (846, 0.02334023592838674), (1844, 0.023329859959483813), (2663, 0.023320932669331725), (1817, 0.023318382070229807), (2064, 0.02326976289802795), (3177, 0.023256270109478634), (786, 0.023246592108700247), (278, 0.023244896054854292), (1078, 0.023239359691939104), (3300, 0.02323844572106784), (1870, 0.023233758918651023), (2011, 0.023227279346255243), (963, 0.023224981150064765), (3362, 0.023213944660520194), (3673, 0.023210543243274206), (3467, 0.02321022217984727), (3484, 0.023204190481503573), (3474, 0.023183448843727247), (3286, 0.023178296736751532), (1262, 0.02317489498740347), (2415, 0.023166231279922574), (2907, 0.023132664305426376), (1492, 0.023123588162475697), (10, 0.023111218729296494), (957, 0.023100935778020533), (3706, 0.023094192031330386), (403, 0.023042752391866837), (1631, 0.02302971272626024), (3348, 0.023027460262551383), (2196, 0.022989844905254332), (2993, 0.022986076221813565), (40, 0.022981085960242106), (2296, 0.022976530805120857), (2273, 0.022943203481440237), (3489, 0.022933427035078467), (2164, 0.022921012515403655), (1263, 0.022916245051029936), (1260, 0.02289037524959494), (1397, 0.022839595351802525), (826, 0.022821792196716036), (3247, 0.02280876137010913), (514, 0.02276479368631195), (1602, 0.022698665327348426), (170, 0.02269050865446424), (1171, 0.022666866530946066), (2563, 0.02266145983801399), (614, 0.02264259189830096), (2655, 0.022615196880934132), (675, 0.02259956431466379), (3680, 0.0225895748620608), (1234, 0.02256504987312795), (1701, 0.02254717760651123), (104, 0.022509868548769785), (1929, 0.022507767281585767), (1120, 0.02250430214971812), (2371, 0.022501402059473097), (808, 0.022474305718842177), (3525, 0.022443876808547848), (1063, 0.022435278064810535), (909, 0.022430506647354014), (1072, 0.022430339943577696), (759, 0.02242759801171941), (3422, 0.022418529179979763), (1275, 0.022405054061412803), (3015, 0.0223887236440685), (2105, 0.02238109649043748), (927, 0.022370047131898274), (2236, 0.022368204339982607), (3097, 0.02236733967281543), (1389, 0.022362320183504286), (1005, 0.02235337801153365), (310, 0.02235265016091456), (2218, 0.022352361671573916), (1639, 0.022351005134708255), (653, 0.022344301592213033), (196, 0.022318624961189647), (1527, 0.022306371001441234), (3726, 0.02229682412768659), (2746, 0.02228270364958302), (1616, 0.02227901373541709), (1875, 0.022269787653214683), (360, 0.022269400766634324), (418, 0.022259305890703966), (3062, 0.02225874638288099), (758, 0.022251603531575098), (785, 0.022251526120436037), (2515, 0.02222118788555604), (742, 0.022212174059614436), (2546, 0.022185428150345597), (1766, 0.022184171902572894), (1041, 0.022183958997698816), (3455, 0.022183344907518686), (1267, 0.02218294194082913), (2473, 0.022175380362294033), (1854, 0.02217415908623547), (1765, 0.02217220531270403), (873, 0.02216954464522806), (1091, 0.022154155174557693), (2058, 0.022138792255543556), (2277, 0.022133013199528907), (3376, 0.022115098781737338), (1851, 0.022082156543965788), (54, 0.02207677672276329), (2176, 0.022057021689279133), (101, 0.022025738788959408), (707, 0.022016716160099783), (3345, 0.022001859089065358), (2994, 0.0219999565467491), (951, 0.021987487891560884), (3481, 0.02198518672088039), (2137, 0.02197973639006031), (3702, 0.021974918726199243), (745, 0.02195497038696809), (488, 0.021944908851689444), (798, 0.021931829915729017), (2812, 0.021897862276772623), (3452, 0.021889578216058435), (1518, 0.02187063582990536), (2245, 0.02186921059187335), (2974, 0.021850318139859555), (1439, 0.02183472302612884), (2628, 0.021823700661647696), (3618, 0.021823472666900958), (2808, 0.021820601292726987), (2152, 0.021816895651789667), (1224, 0.021814153881826292), (410, 0.02179430056608785), (2483, 0.021761501612474407), (2211, 0.02175615693029113), (126, 0.021745675529751107), (821, 0.02174443164709254), (3282, 0.021743394426160224), (3374, 0.02173856023199542), (945, 0.02171833735535814), (582, 0.02166664006478806), (721, 0.02165335559102505), (2123, 0.02164190646622457), (2632, 0.02163960026339231), (1340, 0.021638896236331896), (1662, 0.02162931015012803), (861, 0.02159731500247864), (1700, 0.02158394969578701), (2422, 0.021574769794106247), (3136, 0.021554697206928215), (1179, 0.021548141304233662), (3108, 0.021539454282200773), (3351, 0.021539136095536683), (65, 0.021537964055340215), (2055, 0.021533879843770847), (728, 0.02152862649683434), (51, 0.02151987388125075), (2083, 0.02151741139162478), (2017, 0.021512063010918757), (2942, 0.021493796902204217), (1843, 0.02148492773079959), (1685, 0.02147715655821473), (145, 0.021430673112926388), (3529, 0.021417164194113977), (594, 0.021401981408123858), (1897, 0.021376021056719756), (3562, 0.021365778832898304), (2153, 0.021358513132043632), (273, 0.021351479481342805), (304, 0.021346528007550727), (1329, 0.021329041491770756), (1380, 0.021322222722471668), (1586, 0.02132156062661664), (3122, 0.021316098755122373), (473, 0.021314296785881995), (3490, 0.02130119008391299), (290, 0.021297864601129923), (1328, 0.02129218195541223), (789, 0.021291380771126404), (147, 0.021275934756942855), (347, 0.021263042854112617), (2967, 0.021235759934598225), (710, 0.02122432809996086), (1542, 0.021222514740345484), (1246, 0.021191166438014934), (3232, 0.02118037139112361), (3501, 0.021156897536933842), (1094, 0.021139374910705576), (2355, 0.021111693906745853), (636, 0.02110563434574108), (21, 0.02107172768096018), (2857, 0.02105047875910022), (764, 0.021044631485143683), (2241, 0.021038974215852484), (804, 0.020998434407778918), (1019, 0.020963340750369), (19, 0.020961307545591876), (2878, 0.02095942503074781), (1650, 0.02094785423526725), (3151, 0.02094382544146299), (2739, 0.020934245471008226), (3447, 0.020923005351763634), (2165, 0.020917719432888705), (287, 0.02091075830427888), (3245, 0.020908515024262303), (2609, 0.020901267743773985), (2703, 0.02089473130911679), (2081, 0.02087891457928815), (3008, 0.02087833037900256), (303, 0.020877998448484623), (612, 0.02085961926236852), (414, 0.02085879983910657), (2615, 0.020840347464350276), (1379, 0.020809354619198292), (2674, 0.020774618207088584), (1716, 0.020772289954683717), (1386, 0.020763904563741498), (649, 0.020747353811288567), (1744, 0.02070851108874345), (2187, 0.020702545779086257), (3636, 0.020700119650924123), (2063, 0.020691354747759405), (330, 0.020689654126054), (1195, 0.0206883614952095), (366, 0.02065079484407187), (1185, 0.020648892696332004), (3142, 0.02062266526233871), (3186, 0.020615628858166084), (1565, 0.020607317783764255), (1282, 0.0205749772298198), (1642, 0.020553363467972933), (2621, 0.020550645051735025), (2526, 0.020549804817658605), (2798, 0.020542442563973935), (3318, 0.02053079535303732), (396, 0.020517594320560106), (213, 0.020503255391562), (3643, 0.02049628317930934), (3628, 0.020423522316006214), (2129, 0.020402054522220724), (452, 0.020399818478894688), (2087, 0.02038485626170001), (1813, 0.020319258212027597), (2689, 0.020289098587496147), (1431, 0.020288444327812957), (902, 0.020278229010241663), (2314, 0.02024533789431396), (3450, 0.0202368596520655), (71, 0.020226318577640064), (2570, 0.020225299050249924), (2567, 0.020224580870605698), (828, 0.020175882094600958), (3735, 0.02016467713277309), (2001, 0.020160774489867313), (783, 0.020129469994105767), (212, 0.020128222552543977), (3572, 0.02009579606436353), (908, 0.02008922577844104), (1400, 0.02007775641107644), (849, 0.020064756411418163), (3430, 0.02005191290502482), (174, 0.020012575689298588), (690, 0.019998373066703476), (3439, 0.019991218704024205), (1221, 0.01997957429832925), (526, 0.019976551351377787), (487, 0.01996417170031293), (3648, 0.019930770548319664), (1452, 0.0199092409772599), (1871, 0.01990566114726743), (2425, 0.01990340805266784), (3262, 0.019895767766194544), (1567, 0.019858456561061433), (1034, 0.019855166216991744), (2216, 0.019851689108843548), (923, 0.019844023867795612), (2239, 0.01983384289229779), (2120, 0.019812233988738034), (2633, 0.019807453595934263), (1122, 0.019807344237391996), (824, 0.01979984964860083), (55, 0.01979491986385653), (588, 0.019792989866046554), (686, 0.01978898846650456), (420, 0.019765532285907092), (3095, 0.019757400387993788), (1062, 0.01975573855659169), (2174, 0.019727088999270063), (3038, 0.019712133170388953), (2243, 0.019712072656641752), (3605, 0.01966697387513351), (3241, 0.019664008209896597), (1007, 0.019650433990006804), (661, 0.019637510818185974), (252, 0.019622326987959127), (179, 0.019618871287350362), (2477, 0.01959385127064795), (933, 0.01958434961139408), (2617, 0.019582400879441686), (2574, 0.019581459314233503), (3403, 0.01956243042168697), (1514, 0.01955843919175446), (2010, 0.019530230007096715), (1216, 0.019513880140083067), (3548, 0.019502976533325698), (3541, 0.019502519807291802), (1126, 0.019493665531326046), (2972, 0.019485937791496644), (3732, 0.019483767562301208), (1442, 0.019468820228171625), (743, 0.019465734525382215), (1445, 0.01946369426433308), (1367, 0.01942841772051128), (224, 0.01941834329816352), (64, 0.019416685444652325), (441, 0.0194047874822446), (3588, 0.019392543553947875), (413, 0.01935307701436008), (439, 0.019349106820865013), (2682, 0.019343196536526466), (1046, 0.019324675968615306), (1230, 0.01929470104185479), (1638, 0.019261291175202505), (3103, 0.019254574025824797), (164, 0.019237671012883466), (1057, 0.01920357864121373), (946, 0.019192566550326324), (1797, 0.019177274600222574), (437, 0.019092545580692767), (1640, 0.01908631964785098), (1610, 0.019043345698480988), (834, 0.019028376944875813), (2888, 0.01902331370169885), (3288, 0.018989491952022028), (1887, 0.018985581146629554), (3392, 0.018976546303599497), (1807, 0.018969122530048173), (1587, 0.018968325791208017), (340, 0.018957457125771602), (3107, 0.018953367823400652), (2419, 0.018945033262755727), (1405, 0.018934373224423384), (1455, 0.018932133261024314), (3022, 0.018910978245295713), (3100, 0.018909659612762125), (1947, 0.018909609300363416), (3650, 0.01890324089646456), (3281, 0.018887868485652135), (1738, 0.018884123360381495), (372, 0.01884899667312795), (2757, 0.018843915908196035), (843, 0.0187822378128767), (1488, 0.018768075868457284), (1551, 0.0187535769133371), (2848, 0.018741312988848978), (1893, 0.01872705494016904), (2376, 0.018705255942174447), (5, 0.018632799178640344), (989, 0.01861287483679289), (513, 0.018611479191732245), (1776, 0.018610681172956015), (27, 0.018603027971061722), (72, 0.0185954263265477), (2988, 0.018585401542050295), (1856, 0.01858484888482399), (123, 0.018560025091796474), (345, 0.01855218556171867), (2775, 0.018548753198472767), (1571, 0.01854609213388671), (802, 0.01851502226413147), (643, 0.018505485676666465), (3606, 0.018490948298020525), (277, 0.018484350063075326), (1306, 0.01846428279674115), (2151, 0.018438327132518223), (2704, 0.01843654026891757), (3029, 0.01843145193840487), (1724, 0.018425634113442464), (1520, 0.018404841683357397), (3668, 0.01837522864574081), (952, 0.018359994870417888), (3600, 0.0183257911736204), (1332, 0.018315558114542784), (735, 0.018313085044767124), (681, 0.018282877801112894), (868, 0.018273109606904668), (294, 0.018239564064496443), (468, 0.018225663521817845), (2025, 0.0182059692359804), (3238, 0.018204851043472914), (793, 0.018199077472893902), (1984, 0.01816650682609946), (419, 0.018147215384134968), (269, 0.018126203340659872), (3333, 0.018124359729366032), (3208, 0.018112738352533485), (2199, 0.018022994231109982), (2428, 0.018022917434965396), (131, 0.018022869692080112), (3559, 0.018016265757508282), (2291, 0.017983318993301634), (1002, 0.017967900479587635), (3005, 0.017960205367122863), (2079, 0.01795461430068946), (1948, 0.017950880973005866), (3412, 0.017950330374383976), (533, 0.0179472089347227), (3188, 0.017935716928295136), (324, 0.01793188336229687), (1548, 0.01792630393257577), (1277, 0.01792608050545228), (754, 0.017925906145590503), (580, 0.017925665090609583), (877, 0.017910896001809853), (1677, 0.01789809740846811), (3578, 0.017893865629963514), (108, 0.01788133102523258), (50, 0.017878851074880422), (1265, 0.01783612869087072), (402, 0.017804092983943337), (657, 0.01779575578596239), (142, 0.01778765134760952), (3431, 0.017785859838337574), (1841, 0.017774262310355445), (155, 0.01777156292453231), (2413, 0.017757261231479755), (3321, 0.01775569000838299), (3153, 0.01775555651299878), (3441, 0.017753669917998014), (2740, 0.01774297459924855), (1598, 0.017729708208221253), (565, 0.017729680197693005), (2669, 0.017720444135422894), (2759, 0.017713162686491948), (2200, 0.017703872295848057), (446, 0.017701987207789666), (427, 0.017697214861125136), (1653, 0.017689950288974788), (1049, 0.01767439280477562), (2507, 0.017669192593436387), (1269, 0.01766508545989967), (3053, 0.01765834587853883), (2102, 0.0176569142019313), (36, 0.01763309824535455), (703, 0.01762765162506632), (2646, 0.0176200684199645), (1751, 0.01759918079222125), (2447, 0.017592331236473437), (1261, 0.017572719911625564), (2925, 0.017570934453843216), (2190, 0.017556526106422384), (777, 0.01754476576972421), (2437, 0.01753324313408735), (1250, 0.017528219186719828), (2540, 0.017487404754425784), (3592, 0.017484960261902733), (2629, 0.017484796655672024), (2936, 0.017472168777712765), (3472, 0.01745394972563439), (2559, 0.01745242075173668), (3544, 0.017439382264870434), (2160, 0.01740892206470964), (3090, 0.01740857270817763), (2089, 0.01739612129865435), (1501, 0.017395565962503225), (3223, 0.01738839776296651), (1155, 0.017377304468201786), (1305, 0.01737131669743296), (461, 0.01736859635379052), (694, 0.017363917053282763), (2048, 0.017348600492496036), (832, 0.017332709669143173), (2181, 0.017323915275552874), (3727, 0.01728637302856454), (566, 0.0172819909595719), (3560, 0.017263789769386487), (1243, 0.01725860239564568), (2279, 0.01725056029439931), (2194, 0.01724389216856216), (2251, 0.017242224012251468), (3725, 0.01722000134139312), (2358, 0.017186436669109496), (3502, 0.01716710888455745), (3327, 0.017166287956036967), (601, 0.017164765947494), (706, 0.017152349357925215), (774, 0.017148635070978184), (1599, 0.017144568998366194), (1933, 0.017095590869416942), (316, 0.017069389441161986), (1205, 0.017063384796615393), (1388, 0.01704371194932358), (3252, 0.017017119120151553), (3473, 0.01699531641909833), (2348, 0.01697187582290803), (836, 0.01695761980351522), (3316, 0.01695222678348404), (1279, 0.016951560945316756), (2935, 0.01694523950424542), (2049, 0.01690981768983308), (648, 0.016907607116472913), (385, 0.016906296170645436), (3147, 0.016905782738303524), (288, 0.016902351264775253), (2366, 0.016898245115254267), (3211, 0.01689020521778383), (422, 0.01687211105792493), (2217, 0.016848472224314456), (2349, 0.016847148829797463), (1418, 0.01684463522608761), (1825, 0.016828284993157347), (2895, 0.0168269522296361), (995, 0.016825289028502017), (1651, 0.016822501066719377), (1853, 0.016776828887508213), (1156, 0.01677605675801273), (3249, 0.016772440281329303), (186, 0.016761380815518673), (2208, 0.01673881992772745), (1891, 0.016738438040781373), (2281, 0.01673716745813999), (2508, 0.016695472996587236), (2311, 0.016673078354863886), (593, 0.01665626455633793), (1556, 0.01665271819589003), (7, 0.016640740878227457), (2770, 0.016633980526297613), (3415, 0.016620281371707287), (3497, 0.016563384528572853), (172, 0.01655092317604826), (941, 0.016549323977857026), (2810, 0.0165451841032701), (2249, 0.01653152945473668), (1009, 0.016521498511079046), (1643, 0.0165182215766168), (2288, 0.016516417039884358), (1458, 0.016443464068861612), (2269, 0.016442482583794923), (711, 0.016438307756460706), (1136, 0.016428627116247423), (2500, 0.01642188951018539), (663, 0.01641448688594327), (3561, 0.016410917452574517), (1077, 0.016385853945068148), (1484, 0.01637945941205238), (2889, 0.016373610284372588), (2830, 0.01635306742705522), (3602, 0.016351314889032523), (88, 0.016350171091544102), (2007, 0.016321910650464046), (133, 0.016319020371486644), (3504, 0.01630879169648045), (460, 0.016278199820328586), (495, 0.016253405770983123), (390, 0.016243009774451228), (156, 0.01624157013600986), (3098, 0.016231662524733625), (1552, 0.016218131695677766), (1890, 0.016210043749942497), (1517, 0.01620204680240624), (3027, 0.01620008655144693), (3413, 0.01619182256746307), (3691, 0.016181565377567424), (3463, 0.016175898830182597), (964, 0.016168946643604104), (1352, 0.016163051825195975), (928, 0.016159868707548323), (1591, 0.016147018916210915), (480, 0.016128050663794254), (202, 0.01610073123634714), (1193, 0.016095318950783623), (1376, 0.01608587813775677), (3483, 0.016054118289350813), (2545, 0.01604951444080286), (8, 0.016048832903267862), (3171, 0.01601658922434061), (911, 0.01600830617530794), (3361, 0.016007118856442924), (1433, 0.01600704529594266), (1879, 0.016002677648210603), (1451, 0.016001103399187963), (2118, 0.015996855537126042), (3733, 0.01599038040817473), (3007, 0.015969293364687717), (2071, 0.015962142424225976), (596, 0.015952602459504285), (3424, 0.01595174491891838), (2328, 0.015951465036919518), (3157, 0.01594491367317087), (3539, 0.015940396326690563), (2813, 0.01593958363594183), (3014, 0.01593138481994933), (3332, 0.01592704679702967), (2684, 0.015922937083830496), (1414, 0.015920652840528463), (1401, 0.01590683855580115), (3184, 0.015890223945729406), (1865, 0.015880101766801012), (2390, 0.015879399321436227), (1943, 0.015868739162782818), (2090, 0.01586817496018948), (715, 0.015859625562222077), (344, 0.015819422978465204), (2109, 0.015818280518497242), (1695, 0.015814130368420047), (2946, 0.015813649907245875), (1594, 0.015778221090430675), (1471, 0.015755741881311038), (1786, 0.01575258171896168), (914, 0.01574790567930169), (1852, 0.015746654320583815), (3210, 0.015746438760043925), (62, 0.015742704926411256), (3712, 0.015737550854023164), (3512, 0.015736759607231487), (341, 0.015728397735489525), (654, 0.015705669784061467), (1741, 0.01570310810864848), (3011, 0.0156840400922749), (2683, 0.015678026152087503), (2302, 0.01567136872532096), (139, 0.015663026664482667), (1847, 0.01566058308269869), (2971, 0.015652427778003394), (971, 0.015652001375090843), (2209, 0.015650306340856457), (391, 0.015592738183893671), (31, 0.015589293839598296), (1308, 0.015585215593883685), (2825, 0.015584716732902435), (2596, 0.015583989518888166), (1426, 0.015575119482852397), (674, 0.015571697071283457), (3713, 0.015566860875923768), (2144, 0.015563006175278926), (1905, 0.015554384313155901), (2631, 0.01553634242312007), (541, 0.015531722125954139), (1649, 0.015523503704527377), (767, 0.015521936152632934), (1801, 0.015502312006138962), (2611, 0.015500503627654748), (1320, 0.015485920273324079), (730, 0.015485728413195763), (1118, 0.015481405799934948), (2484, 0.015481324860429127), (979, 0.015480209448527654), (2289, 0.015478750457647598), (57, 0.015476024027119482), (1227, 0.01546830418020107), (2626, 0.015465615877892453), (368, 0.015463418495605764), (1422, 0.015448673612489758), (1727, 0.015445717091789287), (3657, 0.015439807548044865), (940, 0.015434663207514635), (2976, 0.015430137859389709), (2634, 0.015424265014486689), (2875, 0.015409103741732185), (2285, 0.01539664236750585), (1698, 0.015389336092644382), (3271, 0.01538911711740241), (1474, 0.015386692946312541), (1038, 0.015383043201356746), (3305, 0.015377178163735532), (3627, 0.015375141324868133), (2270, 0.015374599677328737), (803, 0.015369281226641066), (1601, 0.015366868441636377), (1102, 0.015362741476931058), (1047, 0.015348184976227865), (1090, 0.01534553093894653), (3468, 0.015344122101302978), (42, 0.015341068824647173), (3034, 0.015333645132164288), (3444, 0.015330425917632331), (3462, 0.01532908015332197), (1124, 0.015321158485950084), (2811, 0.015314241175875952), (581, 0.01530276548702833), (2012, 0.015298233533318646), (3449, 0.015297283113079664), (1749, 0.015293107520265836), (2565, 0.015287552758197334), (931, 0.015279995333418398), (134, 0.015249279570259898), (1589, 0.015245199102827877), (568, 0.015244545435227701), (2581, 0.015238990779898673), (490, 0.015230462582757802), (3625, 0.015217254555153971), (3519, 0.015200250800774898), (275, 0.015191947496725594), (1860, 0.015186491052012167), (2997, 0.015183813294598104), (2524, 0.015182961222566464), (709, 0.015180173649977202), (1486, 0.015178841183309363), (2583, 0.015176724392034484), (3545, 0.015173322063834059), (1357, 0.015148592233653287), (2053, 0.015148280788389454), (2762, 0.015115565683737647), (1064, 0.015108531994671248), (1065, 0.015084489686152927), (1562, 0.015068518341647987), (3350, 0.015068002743745252), (2963, 0.015058205326851802), (1826, 0.015052973376309968), (2295, 0.015045467680398748), (3498, 0.015039056460980405), (2933, 0.015035621126265247), (2158, 0.015011399789408816), (3661, 0.015011350158404773), (2716, 0.015006017873446183), (953, 0.015001606101958921), (887, 0.014997239267782436), (3408, 0.014994150334147457), (1477, 0.014980011070009685), (3343, 0.01496384114433081), (1280, 0.014962919801801084), (1295, 0.014959176377882615), (1512, 0.014952566747947307), (1278, 0.014948197556796041), (2910, 0.014938540879767526), (2541, 0.014936007451909752), (48, 0.014928031521378542), (1872, 0.014927184283680724), (424, 0.014919993357096279), (3662, 0.01491178753128311), (143, 0.014880438482882147), (1254, 0.01488011398254823), (3542, 0.01487510281662296), (2097, 0.014871979129806463), (2831, 0.014856792423624041), (1173, 0.014850125156353863), (1093, 0.01484698504438217), (3331, 0.014841561002356344), (109, 0.0148404383172395), (991, 0.014838713759804114), (1694, 0.014836082766964156), (2394, 0.014828180174425384), (177, 0.01481516511305742), (3717, 0.014809905356856747), (466, 0.014804976555907443), (3598, 0.014794862916661666), (432, 0.01477960838593404), (2424, 0.014778648600420921), (2623, 0.014769695591535693), (2552, 0.01476690277352182), (3182, 0.014766780857541122), (2407, 0.014762129318684869), (3678, 0.014760958551662061), (2073, 0.014759827109851568), (2471, 0.014753829999467043), (2443, 0.01475367923795212), (1495, 0.014745327520867178), (1037, 0.01473096160288292), (1132, 0.014729897462889645), (320, 0.014698967100921185), (3457, 0.014694956786511084), (3703, 0.014673663029632801), (784, 0.014665870123164984), (1689, 0.01465480225013021), (712, 0.014646000856576177), (1967, 0.014645650907965803), (2072, 0.014632040162820464), (1343, 0.014627589927813291), (516, 0.014618140022093967), (3112, 0.014614059442474282), (1795, 0.014609680499787924), (3380, 0.014595942819449401), (379, 0.014592561573210686), (3564, 0.014588851387130987), (3485, 0.01457987865945045), (2222, 0.01457128233948508), (3546, 0.014541958326254054), (608, 0.014515767814584371), (1053, 0.014507046528981339), (3365, 0.01449757807895517), (1374, 0.014491077871045581), (3400, 0.01448595038386534), (1644, 0.014484813601118158), (1424, 0.014481634669056229), (3111, 0.014476045049602662), (1434, 0.014473854763053098), (241, 0.014471751746514556), (3530, 0.014446522591322643), (563, 0.014442315073777743), (3132, 0.014427239033475009), (1425, 0.014426228564117781), (2392, 0.014425670623849075), (1519, 0.014424507048827624), (1754, 0.014416753194085379), (2337, 0.014411812444224435), (1412, 0.014409671710080377), (381, 0.01440818199920052), (2777, 0.01438787146294165), (1022, 0.014384442132622964), (438, 0.01437398011249273), (2748, 0.01436598498348699), (3698, 0.014361140962674324), (348, 0.014358488121677336), (1014, 0.014356971314599114), (2326, 0.014337071539955917), (1128, 0.014330391249226694), (1878, 0.014320230141921951), (1850, 0.014299652164403638), (2478, 0.014297304379065236), (619, 0.014292651876836066), (3289, 0.014286446595461442), (2939, 0.014273967639101862), (3716, 0.014272510638675092), (2912, 0.014260192855514974), (1539, 0.01424605878134787), (1054, 0.014245408528656718), (346, 0.014220985430513849), (545, 0.014217001648065278), (2948, 0.014207104428736624), (2173, 0.014191337089278127), (3434, 0.014182308035782996), (2056, 0.014175602398490528), (2480, 0.014147307305448963), (2465, 0.014139244105756177), (3639, 0.014135729932524736), (1964, 0.014130213720003604), (2618, 0.014129076178314251), (2694, 0.014110634825954897), (3644, 0.014103607437489417), (1288, 0.014091447061645695), (1095, 0.014085924343442214), (1061, 0.014079822140257667), (1003, 0.014073067230412531), (3292, 0.01406076910254941), (3290, 0.01405849500907275), (1937, 0.014031068625090015), (1225, 0.014023246224364997), (291, 0.014022394061106487), (2074, 0.014007498459454816), (1956, 0.013999090084048961), (3160, 0.013990672808638131), (1590, 0.013989755819829879), (3169, 0.013985256116214822), (505, 0.013983025254397732), (3215, 0.013950823356710022), (1665, 0.013948995431815898), (1138, 0.013946665682880902), (3526, 0.013924763361111977), (3464, 0.01392467354747631), (666, 0.013906019504898429), (918, 0.013902409065415877), (492, 0.013892265747761163), (474, 0.013891982596520337), (2299, 0.013888871506789857), (1889, 0.013876332256455603), (2259, 0.013872285597411604), (1705, 0.013871917767485432), (999, 0.01386106796529102), (1743, 0.01384216661596667), (2715, 0.01383361555596891), (2653, 0.013831976763779641), (2771, 0.013826940324093238), (1953, 0.013801455428139289), (2230, 0.013799457749456793), (1988, 0.013799309022549132), (1470, 0.013775635453129365), (2026, 0.01374376737101273), (157, 0.013743020072012413), (3266, 0.013704567137830434), (3500, 0.013694494517614697), (1864, 0.013690567857243955), (3708, 0.013683851325442628), (2339, 0.013658905293112724), (3555, 0.01363743709461509), (220, 0.013627861443960663), (2150, 0.013616777356694197), (2114, 0.013612099424961163), (1992, 0.013603122922954982), (2962, 0.013600696037174708), (1916, 0.013580588685167181), (256, 0.013558502655401957), (458, 0.013539678566983225), (3123, 0.013536641828920112), (2430, 0.013519087491933028), (362, 0.013516895411066883), (3492, 0.01351048590952279), (2431, 0.013508428137106145), (2186, 0.01350443609515277), (1164, 0.013503706981584224), (688, 0.013498604479122737), (416, 0.013487564603066658), (94, 0.013477269793123437), (371, 0.013467107182912528), (3002, 0.013416681288176673), (1559, 0.013412759620858009), (2779, 0.013412510720017914), (1526, 0.013379918491885584), (2977, 0.013375044386088237), (2276, 0.013366055963344376), (1944, 0.013360638680212427), (417, 0.013354389266938556), (2819, 0.013347544325188268), (3096, 0.013339383138839533), (2599, 0.013338084512378), (3050, 0.01333723891471923), (173, 0.01333404668094411), (3377, 0.013328379483072956), (2652, 0.013306107661859948), (2867, 0.013284331229916582), (2561, 0.013280854058019771), (1110, 0.013278187513840547), (1609, 0.01325621716051439), (583, 0.013241682579808347), (1885, 0.01323940708764403), (771, 0.013236085697699951), (2947, 0.013234891624532853), (301, 0.01321334459067414), (1938, 0.0131890036494942), (1930, 0.013186024333040246), (1737, 0.013185732283753217), (3344, 0.013181174412863313), (2254, 0.013177930602552426), (2286, 0.013129538207608649), (889, 0.013096796466465568), (1245, 0.013093586848929768), (3540, 0.013071414082358306), (1444, 0.01306582704020216), (3181, 0.013061309896558484), (1613, 0.013059775450286836), (3590, 0.01305242915304328), (1888, 0.013051763435044772), (2467, 0.013017054572265763), (415, 0.013016804009279428), (3212, 0.01301670534975655), (1476, 0.013007667031930724), (2979, 0.012998511059869088), (431, 0.012995760190212079), (1683, 0.012989138804681421), (704, 0.01297744990627878), (462, 0.012961655184199465), (2069, 0.012960852367958778), (1946, 0.012957249345565003), (1242, 0.012930205272866183), (1996, 0.012913076211856877), (3620, 0.012908477284790224), (2510, 0.01290640835928012), (373, 0.012895024235326406), (673, 0.01288319734561421), (3528, 0.012878391719562078), (423, 0.012873144262644319), (3707, 0.012867214724029519), (3615, 0.012867054045615106), (820, 0.012850148778945306), (2317, 0.012814724580395643), (837, 0.01280312593899925), (449, 0.012802025268582543), (1457, 0.012800151413488491), (3335, 0.012799389759332353), (1119, 0.01277212265466081), (2016, 0.012762012809746847), (672, 0.01276014732257275), (3599, 0.01275539804281695), (3324, 0.012753383898783346), (1778, 0.012751566577446657), (3072, 0.01274908409423009), (1782, 0.01274853391566257), (1611, 0.012736073476983497), (2119, 0.01273443363396128), (2744, 0.012730394972183836), (1109, 0.012730198473157725), (1217, 0.012715821216136911), (2028, 0.012715463846852577), (1617, 0.012714689894427124), (1549, 0.012699288817635474), (3591, 0.01268207725136425), (2219, 0.01266979223715993), (622, 0.01265670969636974), (2498, 0.01265103292934258), (2263, 0.012645657188494681), (1183, 0.0126377477302739), (4, 0.012625365371317608), (2666, 0.01257076596613886), (3071, 0.012570587916064602), (20, 0.012567498909434028), (2202, 0.012565474561348204), (1233, 0.012562194395406224), (3426, 0.012554323750377502), (2117, 0.012552424743724188), (3272, 0.012542141828866886), (3298, 0.012540309256924783), (3495, 0.012530703103151103), (1368, 0.012520287251158824), (12, 0.012511851239670014), (1085, 0.012506250365147978), (1925, 0.012481754977809036), (1220, 0.01245837221684565), (1219, 0.012452074562649487), (1758, 0.01244441888337089), (33, 0.012440684126612762), (99, 0.012440266886589495), (3020, 0.012440062913510746), (1910, 0.012426804013176002), (3330, 0.012423058461096419), (1188, 0.012420325288626069), (1325, 0.012413084237628323), (1058, 0.012402748305385252), (1248, 0.012391567933470671), (3576, 0.01238964490899109), (912, 0.012386552215174804), (1942, 0.012367056678359512), (465, 0.01236408084392985), (2380, 0.012353126547254838), (3366, 0.012351061066321918), (2044, 0.012346383435552406), (193, 0.01234614535146652), (2215, 0.012336235648094137), (3018, 0.012327956559147734), (3428, 0.01232554027844728), (3609, 0.01230919954043725), (1596, 0.01230652443278679), (2527, 0.012298367264833467), (2476, 0.012293346929351023), (3573, 0.012287040243385058), (502, 0.012284687540028), (662, 0.012282479796314154), (1001, 0.012280123375691527), (153, 0.012263579347988541), (591, 0.012256045773233307), (968, 0.012250984723671223), (3140, 0.012245045905079157), (1272, 0.01222964022131148), (539, 0.01221934905503039), (1162, 0.012210616430446618), (2943, 0.01220914228777721), (1720, 0.012209086029216954), (1974, 0.012204871216485232), (3220, 0.012203514063328305), (1544, 0.012200116876184343), (3000, 0.012179465366248088), (2325, 0.012174019128426802), (1042, 0.012173773814206746), (2113, 0.012167403499750132), (1568, 0.012145543594862893), (3471, 0.012126815505020693), (3310, 0.012118265752313135), (2755, 0.012096463406663305), (1291, 0.012094400365350163), (1818, 0.012093515687500245), (3297, 0.012091984557599285), (1073, 0.01209087057206436), (1075, 0.012090523805869804), (2300, 0.012089763130478708), (405, 0.01208660794016964), (3509, 0.01207923307752488), (2989, 0.012070286398578904), (2389, 0.012066646001942032), (1849, 0.01206062312181717), (1383, 0.012052473852924947), (535, 0.012042880939374681), (2862, 0.01203571609755246), (2107, 0.012034497916511382), (404, 0.012033474684155235), (1578, 0.012032142871090263), (2271, 0.012017956179613454), (2826, 0.012009415893317764), (1021, 0.011993448740916983), (555, 0.011993119277852002), (579, 0.011988958924257657), (1600, 0.0119876747944458), (1772, 0.011985788107982535), (3722, 0.011980810839184597), (2827, 0.011977936070351154), (2677, 0.011968441576977722), (947, 0.011962605311230544), (3025, 0.011959514067478817), (3244, 0.011957828249142115), (2441, 0.011953733554368608), (3607, 0.011946752040331663), (2240, 0.01192379611981857), (3172, 0.011915027626459023), (1228, 0.011913948161439297), (2224, 0.011901280856987636), (1429, 0.011889304373428186), (3547, 0.011882975108622832), (1008, 0.011881781251551154), (2341, 0.011871805266145573), (3665, 0.011871421708707924), (2047, 0.011850957170610903), (2783, 0.011849686833665506), (1899, 0.011837944943923883), (814, 0.011815346378043918), (772, 0.011814561635540451), (587, 0.011814394750987), (3683, 0.011807640730544891), (2986, 0.011807276437776185), (1326, 0.01180716466467209), (2968, 0.011803774250269026), (602, 0.011795421621794096), (3684, 0.011789626507708874), (1016, 0.011784996174408063), (3254, 0.011778607146358248), (1895, 0.01177231062123792), (95, 0.011771888563527911), (471, 0.011747557061958777), (2880, 0.01174688635581101), (3256, 0.011746439717911939), (349, 0.011741965952067735), (2062, 0.011729919374244622), (3004, 0.011718784648915214), (3704, 0.011714026539603675), (166, 0.011709136516073996), (1214, 0.011706761554083456), (2472, 0.011695630663409805), (2560, 0.011673336021782018), (1906, 0.011671319267312978), (25, 0.011667232496945831), (2505, 0.011665414690754765), (3730, 0.01164179475498813), (693, 0.011635717684903771), (1912, 0.011635470229624217), (1668, 0.011629759114053305), (910, 0.011614988781701403), (2330, 0.011612000387448664), (2833, 0.011601244596575484), (1496, 0.011600743147313812), (378, 0.011593195245848169), (1730, 0.011591179832176654), (2651, 0.01158231074049416), (3060, 0.01157771417199971), (18, 0.011569282695845451), (3633, 0.011553005087041152), (736, 0.011545138744009868), (3496, 0.011532882201074266), (2781, 0.01151189361676258), (231, 0.011510299742559972), (3448, 0.011500801883633673), (374, 0.01149326696890524), (3423, 0.011482122627777874), (2342, 0.011478083244684618), (2969, 0.011469459410707804), (328, 0.011450320260881556), (2040, 0.011448738718918466), (1670, 0.011423342866407294), (3017, 0.011417080874818826), (190, 0.011413358871713783), (3701, 0.011411525118764726), (2879, 0.011407478643791808), (209, 0.011400391284762605), (1952, 0.011392641686680251), (2304, 0.011390573015865496), (483, 0.011385281596283076), (1365, 0.011381667582704156), (69, 0.01137452040033418), (2316, 0.011371710778747835), (948, 0.011370459885142629), (894, 0.011330289968326648), (2021, 0.011323732836594134), (3299, 0.011322146921656003), (146, 0.011314783922858125), (2869, 0.011307651954651592), (2368, 0.011298931427299739), (274, 0.011298093110412253), (1704, 0.011276735830078533), (122, 0.011270417199166858), (1855, 0.011268936407334172), (2996, 0.011267717473684803), (199, 0.011249583024489066), (2690, 0.01124259764714365), (1036, 0.011235319764753058), (1362, 0.011232752802567959), (1936, 0.01122533097047255), (3700, 0.011184446206977547), (1515, 0.011172159721687495), (377, 0.01117182593272667), (63, 0.011162521845450284), (1028, 0.011154216199418848), (2265, 0.011145161040982222), (2824, 0.011138088074434997), (3666, 0.011109123470207993), (258, 0.011106745868528776), (132, 0.011103438150062714), (3551, 0.01109847105987299), (2403, 0.011094003358301019), (81, 0.011088181981536665), (1013, 0.011071417558778659), (576, 0.011062197968417549), (1115, 0.011056172835385077), (2228, 0.011055343832061238), (3493, 0.011055226890564521), (3226, 0.01102890964160413), (2093, 0.011028755278093992), (1107, 0.011026575987196727), (1671, 0.01102216317952421), (30, 0.011015460888273805), (2774, 0.011015439557018664), (2592, 0.011007076497402157), (2084, 0.0110055780488165), (550, 0.010998731102217914), (1541, 0.010991724275780554), (221, 0.010981202837031984), (1346, 0.010964891074919308), (2840, 0.010942378345537185), (1081, 0.010934310784352464), (507, 0.010927800105866636), (3294, 0.010912748789243896), (797, 0.010893634243907581), (3041, 0.010887225286437206), (556, 0.01088367804400711), (1732, 0.010882503489370398), (1713, 0.010880228506208385), (517, 0.010869802076645532), (536, 0.010851182972069752), (3204, 0.01083388072755502), (2156, 0.010832658532696582), (3276, 0.010825914577457654), (847, 0.010816130160684466), (130, 0.010806841157122066), (841, 0.010804967583362777), (430, 0.010802488188585431), (3141, 0.010799715011161967), (2103, 0.01079939841731571), (2193, 0.010798994092106527), (2859, 0.01079827487798245), (922, 0.010789802125182225), (3047, 0.010788842046398272), (1500, 0.010783264786353056), (1537, 0.010781545652408167), (2015, 0.010742235265963329), (3482, 0.010734669560240743), (266, 0.010734270590466348), (2844, 0.01072096421341583), (2261, 0.010707081139716527), (250, 0.010705771644667487), (3445, 0.010702598154595337), (338, 0.010696786331031516), (149, 0.010693357289427606), (3207, 0.010670117894697224), (2919, 0.010648949087394048), (1055, 0.010643775306471941), (3480, 0.010629465684947312), (3395, 0.010627461838124009), (2369, 0.010621248315627796), (2533, 0.010608185757444162), (1619, 0.01059165239303161), (1706, 0.010591094147447733), (1997, 0.010589314546530615), (272, 0.010554903988922145), (2225, 0.01049456449617929), (3353, 0.010490050638549435), (3693, 0.010485429115196083), (2319, 0.010473927523409605), (187, 0.010460471099431691), (597, 0.010458389698260222), (1184, 0.010450650709535424), (3596, 0.010444348584730085), (1456, 0.01042601088654343), (282, 0.010412368524323812), (791, 0.01041174965157496), (3571, 0.010403626703059728), (3176, 0.010377044947437675), (1160, 0.010364751160973979), (3398, 0.010361723985569903), (1334, 0.010354082430865467), (1557, 0.010336488892629272), (795, 0.010328697859857367), (406, 0.01032319758730293), (80, 0.010321341018816679), (448, 0.010305764561596528), (3054, 0.01029155059697357), (3058, 0.010289186707672603), (1987, 0.010287757790724147), (3558, 0.010273473274658142), (2593, 0.01026818426903674), (453, 0.010262154470319343), (89, 0.01023133063384492), (1461, 0.01022035812292308), (225, 0.010196588201205736), (178, 0.010167669626006874), (1658, 0.010166089138116733), (2327, 0.010163010782451076), (343, 0.010137023877559007), (1693, 0.010099545165955388), (2125, 0.010095152526337785), (1146, 0.010094346093034511), (3307, 0.010082842991134012), (578, 0.010073846319950406), (267, 0.01007098764351927), (1430, 0.010065379665689489), (2696, 0.010059482355872534), (2184, 0.010042299899459248), (1249, 0.010023637336271042), (2932, 0.010018737964132912), (2213, 0.010018065934992743), (2003, 0.010018062529571693), (1099, 0.010005304638687023), (3036, 0.010003417007149847), (3216, 0.009980371870049595), (15, 0.009979933184302741), (718, 0.009976450362314915), (1092, 0.009930493467837339), (2148, 0.009916674637036476), (569, 0.00991595827708716), (1703, 0.00990709510835074), (249, 0.0098450761480227), (219, 0.00983352872415161), (1276, 0.00982549859738666), (2734, 0.00982544487976277), (2267, 0.009819438552955728), (311, 0.009818294883715212), (1106, 0.009800663939198904), (2381, 0.009791401748236304), (1004, 0.00978802907774922), (1502, 0.009787892805186403), (2914, 0.009787381107296027), (2747, 0.009786896274333396), (1395, 0.009759424554583222), (141, 0.009696432042306373), (1415, 0.009691213165408115), (1050, 0.009634463596701958), (866, 0.00963200353873267), (1584, 0.009602526209542784), (753, 0.009602118743047902), (2332, 0.00957734876413129), (1197, 0.00952004234061289), (1915, 0.009447821079385393), (2858, 0.009440059440465148), (3672, 0.009411686757172614), (1532, 0.00934849665024892), (978, 0.009342509452515909), (3248, 0.009263093871719535), (528, 0.00924999418303397), (2378, 0.009166916273415105), (1666, 0.009152857836274094), (1672, 0.00907483262041931), (3349, 0.009061997646351945), (2866, 0.009048888924360256), (56, 0.009042774415316703), (936, 0.009042483651868938), (238, 0.009012696197947286), (426, 0.008962597354776995), (2714, 0.008957096562466921), (86, 0.008934024001356402), (3356, 0.00885429455022359), (1350, 0.00885228327382639), (3295, 0.008760967639287673), (2067, 0.008719923001700212), (1902, 0.008683871079857613), (1226, 0.008657258639990468), (2984, 0.008583924998807476), (2841, 0.008545165434870685), (3652, 0.008536276291605084), (3368, 0.008523219314325342), (1585, 0.00850243457602376), (3024, 0.00848159288044551), (3021, 0.008481167727263154), (997, 0.00846883223868243), (1530, 0.008466173939489468), (766, 0.008454967037863536), (75, 0.00841613437376349), (2537, 0.008395210344429567), (2855, 0.00838911302824334), (2590, 0.008382932244457858), (2497, 0.008377230505178038), (16, 0.008335385909746524), (1159, 0.008286153657228795), (2765, 0.008285000738082166), (3705, 0.008278772138161606), (98, 0.008258867613900565), (1165, 0.00821539328785202), (53, 0.00820546998906235), (2043, 0.008150780471347634), (1779, 0.0081378387934435), (2481, 0.00812003055985115), (899, 0.008112035460244136), (6, 0.008107079820047922), (3302, 0.00806257185016049), (2797, 0.00801371582942276), (2433, 0.007944597009424164), (3121, 0.00793468692453228), (748, 0.007903171459372842), (2959, 0.007896332987454078), (3513, 0.00788753486333968), (3075, 0.007885567103909483), (3420, 0.007860969838111192), (3174, 0.00783767023836109), (3456, 0.007803817479294345), (3360, 0.007770584166188466), (3506, 0.007738064425337438), (1848, 0.007694915536619389), (206, 0.007693487872365287), (3193, 0.007683726834910723), (2620, 0.0076423047612643995), (2398, 0.007561033549962585), (606, 0.00753834479069531), (363, 0.00752748431103057), (3055, 0.0075185363707789684), (1402, 0.00750364645242211), (3074, 0.007496716378550779), (3173, 0.0074949999689260405), (1880, 0.007481889786146185), (1830, 0.007476858402812295), (2662, 0.007473358562888176), (3016, 0.0074692358140372615), (3682, 0.007468687557804242), (3087, 0.007437979992176738), (3260, 0.007427136875928613), (90, 0.007407936870787264), (977, 0.007404914088788003), (2606, 0.007402920231119274), (129, 0.007361279920937726), (433, 0.0073504323167077395), (2916, 0.0073438091491182245), (3076, 0.00734311266425502), (3128, 0.007335444729334183), (3696, 0.007321340652677154), (52, 0.00731643624878635), (38, 0.007307922273146027), (463, 0.007301477911326964), (121, 0.007293430140192463), (1130, 0.007270419223326213), (1949, 0.007267220104410909), (1771, 0.0072639965327307345), (2579, 0.007261670753013058), (295, 0.007248609066293747), (2226, 0.007237866886640845), (3359, 0.007220728403287669), (1681, 0.0072120762060498625), (825, 0.0071871380326420506), (1667, 0.007162977262546125), (3219, 0.007156820843196127), (2820, 0.007144024157232675), (3720, 0.007127631557875833), (932, 0.007119795171348581), (2706, 0.007117755668739591), (496, 0.007094619970770212), (1504, 0.007092822822872499), (515, 0.007080458198863575), (3634, 0.00708027607389893), (1039, 0.007071383414587897), (1629, 0.007054785077742406), (2788, 0.007028701175699508), (917, 0.007028069837631235), (3334, 0.007027818392703124), (1335, 0.007018303912012692), (3231, 0.006983912562827326), (1614, 0.006956904443018629), (3466, 0.006952617978800516), (3626, 0.00693877202431106), (499, 0.00689729279296571), (3357, 0.00685674694362969), (2038, 0.00685193093947133), (339, 0.006851497865552018), (3099, 0.006845973226321971), (1921, 0.006826505173285321), (976, 0.006821407286714487), (1104, 0.006819299632587918), (319, 0.006818314226368592), (1298, 0.006800501366612815), (2624, 0.006794138445676915), (762, 0.00678509544358744), (3381, 0.006783301552622626), (2396, 0.006776488568047493), (3429, 0.006764782470258094), (646, 0.006752331875438402), (3443, 0.006726915469521431), (3235, 0.006714534956479941), (3635, 0.006713426197228314), (2657, 0.00665925400779641), (293, 0.006652914549931158), (1674, 0.006633884095848713), (738, 0.006606249819099105), (1620, 0.00659945812342154), (992, 0.0065840995459031494), (1814, 0.00657848556406577), (1529, 0.006504143872239707), (955, 0.006497546910067472), (464, 0.006496721123621491), (1071, 0.006492599209601215), (1523, 0.0064748319950409935), (2693, 0.006469131057123256), (930, 0.006423894163236988), (1123, 0.006422786923044485), (365, 0.006414217704443801), (1986, 0.006411555283038253), (769, 0.006393022437268837), (1721, 0.006392343381829584), (1632, 0.006381831108538859), (2814, 0.006351641921629739), (215, 0.006342535183252852), (312, 0.006322568348363654), (2494, 0.006319411109935694), (2899, 0.006295900851952645), (3323, 0.006285992175447883), (1033, 0.006271477467411606), (1561, 0.006269875306431648), (1521, 0.006191943916710702), (573, 0.006187058873272011), (255, 0.006185337261863689), (749, 0.0061513885797805715), (2210, 0.006130038875427922), (2106, 0.00612241353274685), (1605, 0.006115468642708082), (281, 0.006112603440535218), (770, 0.006110303206829569), (3019, 0.006100724702183837), (3402, 0.006074049898871296), (2676, 0.006042027827827835), (768, 0.006006591728862163), (1190, 0.005873445927760178), (73, 0.005860431350488216), (2589, 0.0058288440764445), (1351, 0.005825412182455677), (3518, 0.005739714260781674), (901, 0.005684394950489899), (1711, 0.005660777588682912), (2487, 0.0054741076945177556), (1210, 0.005383638058735294), (3195, 0.005354232422595306), (3723, 0.005196444806816586), (3199, 0.005029857206705009), (451, 0.005020444468942211), (2232, 0.004930122034618979), (3679, 0.0047736785466762025), (2836, 0.00447218459019181), (1237, 0.0043223852443614414), (3567, 0.0042368254193967175), (399, 0.004200126442872314), (2391, 0.004186203390605956), (3328, 0.004147535257069842), (234, 0.004144727555553349), (626, 0.00413992356078253), (3116, 0.004117989308554909), (3622, 0.004101848178693201), (1989, 0.004090716378477136), (359, 0.004089620943065934), (630, 0.004063638529374896), (2856, 0.004058456510564442), (616, 0.004029438246960643), (395, 0.004026312907469836), (1273, 0.003993579109653866), (3106, 0.003978152625009178), (1789, 0.003977683160577289), (2031, 0.003966294381604114), (9, 0.003956199562355717), (3475, 0.003941318584342301), (3533, 0.00392301626853532), (705, 0.00391494055177367), (1315, 0.003910218340016211), (2223, 0.003905591565476482), (3293, 0.003901535730756642), (1846, 0.0038974792693416255), (929, 0.003891779519685915), (3669, 0.003887006556600704), (1392, 0.003884250032578013), (1323, 0.0038802797747327705), (855, 0.003867880156647686), (1510, 0.0038591315415628133), (3168, 0.0038561441407355705), (1708, 0.0038462133057448095), (1010, 0.0038411334559774945), (3040, 0.003831814873516953), (2834, 0.003827633131842833), (188, 0.003822163908357708), (1052, 0.0038114464309342267), (551, 0.0037977598646549227), (844, 0.003793722997287413), (2344, 0.003788857365578578), (2393, 0.0037833788332877617), (848, 0.0037670522510220004), (2601, 0.003756369891892843), (1569, 0.003733393056477052), (519, 0.0037256083353977318), (3056, 0.0037013399332801737), (2850, 0.0037004482757763877), (2060, 0.003688286474317883), (280, 0.003682681994192238), (3206, 0.003680282445539285), (2143, 0.003672422772378988), (3404, 0.0036714199231841554), (562, 0.0036563250206874173), (2197, 0.003637454611432626), (2930, 0.0036206482949376136), (3433, 0.0036123942115514128), (1208, 0.003610918919603187), (1241, 0.0036057191273029796), (1506, 0.0035850086259016987), (2773, 0.003577275309070141), (3581, 0.0035765519431841617), (265, 0.003573423204504259), (3085, 0.003567231735751112), (727, 0.003564680897336675), (168, 0.003560780022625064), (3030, 0.003552534694078872), (1168, 0.0035488168064165882), (2852, 0.003547455280676959), (3236, 0.0035315433196997504), (243, 0.003527884105703443), (2550, 0.0035141947188640082), (144, 0.0035137691650074985), (966, 0.003511131337339924), (845, 0.00350548588108206), (3621, 0.0035050197231039615), (3037, 0.0034986561813530577), (3214, 0.003498224312561509), (242, 0.0034773214880509887), (162, 0.0034772361211343754), (2931, 0.003473198879251317), (2710, 0.00347057986572391), (3715, 0.0034543960817516512), (2649, 0.0034515233555969978), (2768, 0.0034413674004073777), (331, 0.003438557522678684), (1446, 0.003430756697438485), (611, 0.0034078275252379894), (1615, 0.003402570336218891), (387, 0.003381754882230289), (508, 0.0033701142257864473), (2846, 0.0033657248129320147), (77, 0.0033504226327489743), (140, 0.0033499547057543174), (91, 0.0033465723822448962), (2306, 0.003343307774953249), (314, 0.0033076454971682316), (1070, 0.0032971516348704326), (2469, 0.0032692975606568426), (1438, 0.003258482539472307), (815, 0.003246415805377623), (698, 0.00321217323087572), (2404, 0.0032103130026502158), (1752, 0.003192755127870117), (2, 0.0031918794882574582), (1026, 0.0031900526009864777), (3077, 0.0031775635875544513), (961, 0.0031349733458453867), (590, 0.0031322989592534943), (175, 0.0031144697028816885), (85, 0.003113915601904409), (669, 0.0031083362364053256), (531, 0.003058364713552668), (1287, 0.003048627546842203), (3198, 0.0030406568038575453), (617, 0.002982224274207796), (3537, 0.0028557884767330664), (2132, 0.0027375107932061165), (1, 0.0), (26, 0.0), (29, 0.0), (35, 0.0), (44, 0.0), (45, 0.0), (67, 0.0), (74, 0.0), (78, 0.0), (87, 0.0), (92, 0.0), (96, 0.0), (97, 0.0), (114, 0.0), (124, 0.0), (137, 0.0), (154, 0.0), (169, 0.0), (176, 0.0), (194, 0.0), (218, 0.0), (226, 0.0), (229, 0.0), (240, 0.0), (247, 0.0), (271, 0.0), (284, 0.0), (285, 0.0), (296, 0.0), (300, 0.0), (354, 0.0), (355, 0.0), (358, 0.0), (361, 0.0), (369, 0.0), (375, 0.0), (398, 0.0), (409, 0.0), (411, 0.0), (475, 0.0), (476, 0.0), (478, 0.0), (498, 0.0), (509, 0.0), (511, 0.0), (518, 0.0), (523, 0.0), (525, 0.0), (529, 0.0), (530, 0.0), (546, 0.0), (547, 0.0), (553, 0.0), (554, 0.0), (571, 0.0), (577, 0.0), (584, 0.0), (585, 0.0), (600, 0.0), (613, 0.0), (623, 0.0), (631, 0.0), (635, 0.0), (642, 0.0), (660, 0.0), (664, 0.0), (668, 0.0), (689, 0.0), (761, 0.0), (790, 0.0), (810, 0.0), (840, 0.0), (854, 0.0), (876, 0.0), (882, 0.0), (898, 0.0), (913, 0.0), (921, 0.0), (934, 0.0), (960, 0.0), (969, 0.0), (975, 0.0), (988, 0.0), (998, 0.0), (1032, 0.0), (1040, 0.0), (1048, 0.0), (1066, 0.0), (1080, 0.0), (1086, 0.0), (1127, 0.0), (1149, 0.0), (1154, 0.0), (1158, 0.0), (1163, 0.0), (1166, 0.0), (1170, 0.0), (1174, 0.0), (1175, 0.0), (1177, 0.0), (1181, 0.0), (1189, 0.0), (1209, 0.0), (1222, 0.0), (1236, 0.0), (1251, 0.0), (1283, 0.0), (1290, 0.0), (1297, 0.0), (1309, 0.0), (1336, 0.0), (1339, 0.0), (1342, 0.0), (1385, 0.0), (1393, 0.0), (1409, 0.0), (1411, 0.0), (1420, 0.0), (1435, 0.0), (1440, 0.0), (1450, 0.0), (1453, 0.0), (1465, 0.0), (1467, 0.0), (1475, 0.0), (1478, 0.0), (1479, 0.0), (1482, 0.0), (1497, 0.0), (1498, 0.0), (1507, 0.0), (1509, 0.0), (1525, 0.0), (1564, 0.0), (1570, 0.0), (1581, 0.0), (1612, 0.0), (1634, 0.0), (1648, 0.0), (1652, 0.0), (1657, 0.0), (1690, 0.0), (1746, 0.0), (1768, 0.0), (1773, 0.0), (1777, 0.0), (1790, 0.0), (1798, 0.0), (1802, 0.0), (1806, 0.0), (1810, 0.0), (1811, 0.0), (1828, 0.0), (1832, 0.0), (1859, 0.0), (1861, 0.0), (1869, 0.0), (1883, 0.0), (1892, 0.0), (1907, 0.0), (1908, 0.0), (1935, 0.0), (1954, 0.0), (1966, 0.0), (1976, 0.0), (1982, 0.0), (1983, 0.0), (1991, 0.0), (1993, 0.0), (2009, 0.0), (2022, 0.0), (2030, 0.0), (2045, 0.0), (2052, 0.0), (2094, 0.0), (2098, 0.0), (2116, 0.0), (2138, 0.0), (2142, 0.0), (2154, 0.0), (2163, 0.0), (2169, 0.0), (2201, 0.0), (2214, 0.0), (2234, 0.0), (2247, 0.0), (2248, 0.0), (2250, 0.0), (2264, 0.0), (2297, 0.0), (2320, 0.0), (2322, 0.0), (2335, 0.0), (2338, 0.0), (2343, 0.0), (2367, 0.0), (2374, 0.0), (2382, 0.0), (2386, 0.0), (2418, 0.0), (2423, 0.0), (2426, 0.0), (2427, 0.0), (2439, 0.0), (2446, 0.0), (2449, 0.0), (2450, 0.0), (2454, 0.0), (2455, 0.0), (2493, 0.0), (2495, 0.0), (2501, 0.0), (2503, 0.0), (2520, 0.0), (2529, 0.0), (2531, 0.0), (2536, 0.0), (2547, 0.0), (2549, 0.0), (2553, 0.0), (2573, 0.0), (2584, 0.0), (2587, 0.0), (2591, 0.0), (2595, 0.0), (2597, 0.0), (2600, 0.0), (2602, 0.0), (2604, 0.0), (2605, 0.0), (2610, 0.0), (2627, 0.0), (2636, 0.0), (2647, 0.0), (2667, 0.0), (2695, 0.0), (2709, 0.0), (2711, 0.0), (2729, 0.0), (2749, 0.0), (2750, 0.0), (2753, 0.0), (2772, 0.0), (2794, 0.0), (2800, 0.0), (2803, 0.0), (2821, 0.0), (2823, 0.0), (2829, 0.0), (2839, 0.0), (2853, 0.0), (2854, 0.0), (2860, 0.0), (2863, 0.0), (2864, 0.0), (2868, 0.0), (2876, 0.0), (2884, 0.0), (2896, 0.0), (2897, 0.0), (2901, 0.0), (2904, 0.0), (2905, 0.0), (2918, 0.0), (2940, 0.0), (2953, 0.0), (2956, 0.0), (2957, 0.0), (2960, 0.0), (2966, 0.0), (2973, 0.0), (2995, 0.0), (2998, 0.0), (3023, 0.0), (3026, 0.0), (3031, 0.0), (3039, 0.0), (3070, 0.0), (3081, 0.0), (3082, 0.0), (3084, 0.0), (3086, 0.0), (3092, 0.0), (3093, 0.0), (3104, 0.0), (3105, 0.0), (3117, 0.0), (3124, 0.0), (3126, 0.0), (3127, 0.0), (3129, 0.0), (3131, 0.0), (3138, 0.0), (3149, 0.0), (3150, 0.0), (3189, 0.0), (3194, 0.0), (3200, 0.0), (3201, 0.0), (3209, 0.0), (3217, 0.0), (3221, 0.0), (3224, 0.0), (3225, 0.0), (3227, 0.0), (3229, 0.0), (3233, 0.0), (3234, 0.0), (3237, 0.0), (3239, 0.0), (3263, 0.0), (3268, 0.0), (3269, 0.0), (3270, 0.0), (3285, 0.0), (3304, 0.0), (3308, 0.0), (3314, 0.0), (3346, 0.0), (3347, 0.0), (3352, 0.0), (3358, 0.0), (3367, 0.0), (3372, 0.0), (3375, 0.0), (3379, 0.0), (3390, 0.0), (3391, 0.0), (3396, 0.0), (3401, 0.0), (3410, 0.0), (3417, 0.0), (3419, 0.0), (3425, 0.0), (3432, 0.0), (3442, 0.0), (3446, 0.0), (3453, 0.0), (3469, 0.0), (3488, 0.0), (3494, 0.0), (3499, 0.0), (3508, 0.0), (3510, 0.0), (3511, 0.0), (3516, 0.0), (3517, 0.0), (3521, 0.0), (3535, 0.0), (3563, 0.0), (3570, 0.0), (3579, 0.0), (3586, 0.0), (3589, 0.0), (3601, 0.0), (3604, 0.0), (3610, 0.0), (3612, 0.0), (3614, 0.0), (3617, 0.0), (3619, 0.0), (3631, 0.0), (3641, 0.0), (3645, 0.0), (3647, 0.0), (3667, 0.0), (3670, 0.0), (3676, 0.0), (3690, 0.0), (3695, 0.0), (3697, 0.0), (3709, 0.0), (3719, 0.0), (3731, 0.0), (3734, 0.0)]\n"
          ]
        }
      ]
    },
    {
      "cell_type": "code",
      "source": [
        "print('Top 30 movies suggested for you:\\n')\n",
        "\n",
        "i = 1;\n",
        "for movie in sorted_similar_movies:\n",
        "  index = movie[0]\n",
        "  title_from_index = df[df.index == index]['Movie_Title'].values[0]\n",
        "  if (i<31):\n",
        "    print(i, '.',title_from_index)\n",
        "    i+=1"
      ],
      "metadata": {
        "colab": {
          "base_uri": "https://localhost:8080/"
        },
        "id": "8zUFmiIr5zor",
        "outputId": "81159967-6d96-48e0-bfe9-b8c6bc503e48"
      },
      "execution_count": 47,
      "outputs": [
        {
          "output_type": "stream",
          "name": "stdout",
          "text": [
            "Top 30 movies suggested for you:\n",
            "\n",
            "1 . Niagara\n",
            "2 . Funny People\n",
            "3 . Straightheads\n",
            "4 . The Innkeepers\n",
            "5 . Rachel Getting Married\n",
            "6 . True Lies\n",
            "7 . The Grudge 2\n",
            "8 . Fair Game\n",
            "9 . Krull\n",
            "10 . The Ice Pirates\n",
            "11 . Date Movie\n",
            "12 . East Is East\n",
            "13 . Battle for the Planet of the Apes\n",
            "14 . Priest\n",
            "15 . Kabhi Alvida Naa Kehna\n",
            "16 . Death Race\n",
            "17 . Doctor Dolittle\n",
            "18 . Mystery, Alaska\n",
            "19 . My Big Fat Independent Movie\n",
            "20 . Witless Protection\n",
            "21 . Can't Stop the Music\n",
            "22 . The Little Vampire\n",
            "23 . Under the Tuscan Sun\n",
            "24 . The Imaginarium of Doctor Parnassus\n",
            "25 . Teenage Mutant Ninja Turtles II: The Secret of the Ooze\n",
            "26 . Two Lovers\n",
            "27 . Flyboys\n",
            "28 . Love Actually\n",
            "29 . The Perfect Storm\n",
            "30 . The Statement\n"
          ]
        }
      ]
    },
    {
      "cell_type": "code",
      "source": [
        "movie_name = input('Enter your favorite movie name: ')\n",
        "\n",
        "list_of_all_titles = df['Movie_Title'].tolist()\n",
        "\n",
        "find_close_match = difflib.get_close_matches(movie_name, list_of_all_titles)\n",
        "\n",
        "close_match = find_close_match[0]\n",
        "\n",
        "index_of_movie = df[df.Movie_Title == close_match]['Movie_ID'].values[0]\n",
        "\n",
        "recommendation_score = list(enumerate(similarity_score[index_of_movie]))\n",
        "\n",
        "sorted_similar_movies = sorted(recommendation_score, key = lambda x:x[1], reverse = True)\n",
        "\n",
        "print('Top 10 movies suggested for you:\\n')\n",
        "\n",
        "i = 1;\n",
        "for movie in sorted_similar_movies:\n",
        "  index = movie[0]\n",
        "  title_from_index = df[df.index == index]['Movie_Title'].values[0]\n",
        "  if (i<11):\n",
        "    print(i, '.',title_from_index)\n",
        "    i+=1"
      ],
      "metadata": {
        "colab": {
          "base_uri": "https://localhost:8080/"
        },
        "id": "FJVFxgjQ7Obq",
        "outputId": "b3c34f8b-7306-4d65-9ed2-a332fc17b1ea"
      },
      "execution_count": 49,
      "outputs": [
        {
          "output_type": "stream",
          "name": "stdout",
          "text": [
            "Enter your favorite movie name: avtaar\n",
            "Top 10 movies suggested for you:\n",
            "\n",
            "1 . Niagara\n",
            "2 . Funny People\n",
            "3 . Straightheads\n",
            "4 . The Innkeepers\n",
            "5 . Rachel Getting Married\n",
            "6 . True Lies\n",
            "7 . The Grudge 2\n",
            "8 . Fair Game\n",
            "9 . Krull\n",
            "10 . The Ice Pirates\n"
          ]
        }
      ]
    },
    {
      "cell_type": "markdown",
      "source": [
        "Thus the movie recommendation System was done with the help of data science concepts using google colab platform."
      ],
      "metadata": {
        "id": "AsARNReD9GOv"
      }
    }
  ]
}